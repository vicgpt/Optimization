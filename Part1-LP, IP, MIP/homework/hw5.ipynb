{
 "cells": [
  {
   "cell_type": "code",
   "execution_count": 1,
   "metadata": {},
   "outputs": [],
   "source": [
    "import numpy as np\n",
    "import pandas as pd\n",
    "import seaborn as sns   # Why sns?  It's a reference to The West Wing\n",
    "import matplotlib.pyplot as plt  # seaborn is based on matplotlib\n",
    "sns.set(color_codes=True) # adds a nice background to the graphs\n",
    "%matplotlib inline "
   ]
  },
  {
   "cell_type": "code",
   "execution_count": 2,
   "metadata": {},
   "outputs": [],
   "source": [
    "w123 = pd.read_csv('hw5data.csv')"
   ]
  },
  {
   "cell_type": "code",
   "execution_count": 3,
   "metadata": {},
   "outputs": [],
   "source": [
    "w1 = np.array(w123.w1)\n",
    "w2 = np.array(w123.w2)\n",
    "w3 = np.array(w123.w3)"
   ]
  },
  {
   "cell_type": "markdown",
   "metadata": {},
   "source": [
    "# Q1"
   ]
  },
  {
   "cell_type": "code",
   "execution_count": 10,
   "metadata": {},
   "outputs": [],
   "source": [
    "learnRate = 1e-3\n",
    "epochs = 50000"
   ]
  },
  {
   "cell_type": "code",
   "execution_count": 11,
   "metadata": {},
   "outputs": [
    {
     "name": "stdout",
     "output_type": "stream",
     "text": [
      "[-0.15675855  0.17689576  0.95909562]\n",
      "0.9840185202021346\n"
     ]
    }
   ],
   "source": [
    "\n",
    "GDobj = np.zeros(epochs)\n",
    "xyz = np.zeros(3)\n",
    "for ep in range(epochs):\n",
    "    \n",
    "    \n",
    "    grad0 = np.mean(np.exp(w1*xyz[0]+w2*xyz[1])*((xyz[2]-w3)**2)*w1)\n",
    "    grad1 = np.mean(np.exp(w1*xyz[0]+w2*xyz[1])*((xyz[2]-w3)**2)*w2)\n",
    "    grad2 = np.mean(np.exp(w1*xyz[0]+w2*xyz[1])*(2*(xyz[2]-w3)))\n",
    "    grad = np.array([grad0,grad1,grad2])\n",
    "    \n",
    "    xyz -= learnRate*grad\n",
    "    GDobj[ep] = np.mean(np.exp(w1*xyz[0]+w2*xyz[1])*(xyz[2]-w3)**2)\n",
    "    \n",
    "\n",
    "print(xyz)\n",
    "print(GDobj[ep])"
   ]
  },
  {
   "cell_type": "code",
   "execution_count": 12,
   "metadata": {},
   "outputs": [
    {
     "data": {
      "image/png": "[encoded data removed]",
      "text/plain": [
       "<Figure size 432x288 with 1 Axes>"
      ]
     },
     "metadata": {
      "needs_background": "light"
     },
     "output_type": "display_data"
    }
   ],
   "source": [
    "df = pd.DataFrame({'Obj': GDobj})\n",
    "sns.lineplot(data=df);"
   ]
  },
  {
   "cell_type": "markdown",
   "metadata": {},
   "source": [
    "# Q2"
   ]
  },
  {
   "cell_type": "code",
   "execution_count": 22,
   "metadata": {},
   "outputs": [],
   "source": [
    "epochs = 100\n",
    "dat_per_bat = 10\n",
    "ndata = len(w123)\n",
    "batches = int(ndata/dat_per_bat)"
   ]
  },
  {
   "cell_type": "code",
   "execution_count": 23,
   "metadata": {},
   "outputs": [
    {
     "name": "stdout",
     "output_type": "stream",
     "text": [
      "0.985079280305462\n"
     ]
    }
   ],
   "source": [
    "\n",
    "SGDobj = np.zeros(epochs)\n",
    "xyz = np.zeros(3)\n",
    "np.random.seed(4382)\n",
    "for ep in range(epochs):\n",
    "    shuf = np.random.choice(range(ndata),size=ndata,replace=False)\n",
    "    for bat in range(batches):\n",
    "        this_bat = shuf[(bat*dat_per_bat):((bat+1)*dat_per_bat)]\n",
    "        \n",
    "\n",
    "        grad0 = np.mean(np.exp(w1[this_bat]*xyz[0]+w2[this_bat]*xyz[1])*((xyz[2]-w3[this_bat])**2)*w1[this_bat])\n",
    "        grad1 = np.mean(np.exp(w1[this_bat]*xyz[0]+w2[this_bat]*xyz[1])*((xyz[2]-w3[this_bat])**2)*w2[this_bat])\n",
    "        grad2 = np.mean(np.exp(w1[this_bat]*xyz[0]+w2[this_bat]*xyz[1])*(2*(xyz[2]-w3[this_bat])))\n",
    "        grad = np.array([grad0,grad1,grad2])\n",
    "        xyz -= learnRate*grad\n",
    "\n",
    "    SGDobj[ep] = np.mean(np.exp(w1*xyz[0]+w2*xyz[1])*(xyz[2]-w3)**2)\n",
    "print(SGDobj[ep])\n"
   ]
  },
  {
   "cell_type": "code",
   "execution_count": 24,
   "metadata": {},
   "outputs": [
    {
     "data": {
      "image/png": "[encoded data removed]",
      "text/plain": [
       "<Figure size 432x288 with 1 Axes>"
      ]
     },
     "metadata": {
      "needs_background": "light"
     },
     "output_type": "display_data"
    }
   ],
   "source": [
    "df = pd.DataFrame({'Obj': SGDobj})\n",
    "sns.lineplot(data=df);"
   ]
  },
  {
   "cell_type": "markdown",
   "metadata": {},
   "source": [
    "# Q3"
   ]
  },
  {
   "cell_type": "code",
   "execution_count": 25,
   "metadata": {},
   "outputs": [],
   "source": [
    "theta1 = 0.9\n",
    "theta2 = 0.999\n",
    "e=1e-12"
   ]
  },
  {
   "cell_type": "code",
   "execution_count": 43,
   "metadata": {},
   "outputs": [
    {
     "name": "stdout",
     "output_type": "stream",
     "text": [
      "0.9840312418903556\n"
     ]
    }
   ],
   "source": [
    "epochs = 200\n",
    "ADAMobj = np.zeros(epochs)\n",
    "xyz = np.zeros(3)\n",
    "k = 1\n",
    "m = np.zeros(3)\n",
    "v = np.zeros(3)\n",
    "np.random.seed(11492)\n",
    "for ep in range(epochs):\n",
    "    shuf = np.random.choice(range(ndata),size=ndata,replace=False)\n",
    "    for bat in range(batches):\n",
    "        this_bat = shuf[(bat*dat_per_bat):((bat+1)*dat_per_bat)]\n",
    "        \n",
    "\n",
    "        grad0 = np.mean(np.exp(w1[this_bat]*xyz[0]+w2[this_bat]*xyz[1])*((xyz[2]-w3[this_bat])**2)*w1[this_bat])\n",
    "        grad1 = np.mean(np.exp(w1[this_bat]*xyz[0]+w2[this_bat]*xyz[1])*((xyz[2]-w3[this_bat])**2)*w2[this_bat])\n",
    "        grad2 = np.mean(np.exp(w1[this_bat]*xyz[0]+w2[this_bat]*xyz[1])*(2*(xyz[2]-w3[this_bat])))\n",
    "        grad = np.array([grad0,grad1,grad2])\n",
    "        \n",
    "        m = theta1*m + (1-theta1)*grad\n",
    "        mhat = m/(1-theta1**k)\n",
    "        \n",
    "        v = theta2*v + (1-theta2)*(grad**2)\n",
    "        vhat = v/(1-theta2**k)\n",
    "\n",
    "        xyz -= learnRate*mhat/(np.sqrt(vhat)+e)\n",
    "        k += 1\n",
    "\n",
    "    \n",
    "    ADAMobj[ep] = np.mean(np.exp(w1*xyz[0]+w2*xyz[1])*(xyz[2]-w3)**2)\n",
    "print(ADAMobj[ep])"
   ]
  },
  {
   "cell_type": "code",
   "execution_count": 45,
   "metadata": {},
   "outputs": [
    {
     "data": {
      "text/plain": [
       "123"
      ]
     },
     "execution_count": 45,
     "metadata": {},
     "output_type": "execute_result"
    }
   ],
   "source": [
    "np.argmax(np.round(ADAMobj, 3) <= np.round(GDobj[-1], 3))"
   ]
  },
  {
   "cell_type": "code",
   "execution_count": 46,
   "metadata": {},
   "outputs": [
    {
     "data": {
      "text/plain": [
       "0.9840185202021346"
      ]
     },
     "execution_count": 46,
     "metadata": {},
     "output_type": "execute_result"
    }
   ],
   "source": [
    "GDobj[-1]"
   ]
  },
  {
   "cell_type": "code",
   "execution_count": null,
   "metadata": {},
   "outputs": [],
   "source": []
  }
 ],
 "metadata": {
  "kernelspec": {
   "display_name": "Python 3",
   "language": "python",
   "name": "python3"
  },
  "language_info": {
   "codemirror_mode": {
    "name": "ipython",
    "version": 3
   },
   "file_extension": ".py",
   "mimetype": "text/x-python",
   "name": "python",
   "nbconvert_exporter": "python",
   "pygments_lexer": "ipython3",
   "version": "3.8.8"
  }
 },
 "nbformat": 4,
 "nbformat_minor": 2
}
