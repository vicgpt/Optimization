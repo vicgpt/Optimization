{
 "cells": [
  {
   "cell_type": "code",
   "execution_count": 1,
   "id": "c6493420",
   "metadata": {},
   "outputs": [],
   "source": [
    "import numpy as np\n",
    "import pandas as pd\n",
    "import gurobipy as gp"
   ]
  },
  {
   "cell_type": "code",
   "execution_count": 2,
   "id": "ef15b2f8",
   "metadata": {},
   "outputs": [],
   "source": [
    "def create_model(A, sense, b, obj, opt=gp.GRB.MAXIMIZE):\n",
    "    # creating model\n",
    "    model = gp.Model()\n",
    "\n",
    "    # creating variable an setting the constraints\n",
    "    farm_modx = model.addMVar(A.shape[1])\n",
    "    farm__mod_con = model.addMConstrs(A, farm_modx, sense, b)\n",
    "\n",
    "    # setting the objective function\n",
    "    model.setMObjective(None, obj, 0, sense=opt)\n",
    "\n",
    "    # restricting gurobi logs\n",
    "    model.Params.OutputFlag = 0\n",
    "\n",
    "    # optimizing the function\n",
    "    model.optimize()\n",
    "    \n",
    "    return model"
   ]
  },
  {
   "cell_type": "markdown",
   "id": "e1d71a32",
   "metadata": {},
   "source": [
    "## Q1"
   ]
  },
  {
   "cell_type": "code",
   "execution_count": 3,
   "id": "505a8228",
   "metadata": {},
   "outputs": [],
   "source": [
    "# done via graphical method"
   ]
  },
  {
   "cell_type": "markdown",
   "id": "0822c52a",
   "metadata": {},
   "source": [
    "## Q2"
   ]
  },
  {
   "cell_type": "markdown",
   "id": "f671ac84",
   "metadata": {},
   "source": [
    "A farmer in Iowa owns 450 acres of land. He is going to plant each acre with wheat or corn. Each acre planted with wheat (corn) yields $2,000 ($3,000) profit, requires three (two) workers, and requires two (four) tons of fertilizer. There are currently 1,000 workers and 1,200 tons of fertilizer available.\n",
    "\n",
    " \n",
    "\n",
    "Formulate and solve this problem using gurobi.\n",
    "\n",
    " \n",
    "\n",
    "Next we want to see What happens to the decision variables and the total profit when the availability of fertilizer varies from 200 tons to 2200 tons in 100-ton increments.\n",
    "\n",
    " \n",
    "\n",
    "At what level of fertilizer does the farmer discontinue producing wheat?  That is, what is the smallest level of available fertilizer that results in no wheat being produced?  Your answer should be one of the 100 ton incremental numbers, like 600 or 1300 or..."
   ]
  },
  {
   "cell_type": "code",
   "execution_count": 4,
   "id": "148bc0f4",
   "metadata": {},
   "outputs": [],
   "source": [
    "# defining constraints\n",
    "A = np.zeros((3, 2))\n",
    "A[0, :] = [3, 2]\n",
    "A[1, :] = [2, 4]\n",
    "A[2, :] = [1, 1]\n",
    "\n",
    "b = np.array([1000, 1200, 450])\n",
    "\n",
    "sense = np.array(['<', '<', '<'])"
   ]
  },
  {
   "cell_type": "code",
   "execution_count": 5,
   "id": "2084eac6",
   "metadata": {},
   "outputs": [
    {
     "name": "stdout",
     "output_type": "stream",
     "text": [
      "Academic license - for non-commercial use only - expires 2022-08-21\n",
      "Using license file C:\\gurobi912\\gurobi.lic\n",
      "Acres of wheat and corn respectively [200.0, 200.0]\n",
      "Maximized profit 1000000.0\n"
     ]
    },
    {
     "name": "stderr",
     "output_type": "stream",
     "text": [
      "<ipython-input-5-0e0f9fa1ef13>:4: DeprecationWarning: Deprecated, use Model.addMConstr() instead\n",
      "  farm_model = create_model(A, sense, b, obj)\n"
     ]
    }
   ],
   "source": [
    "# defining cost\n",
    "obj = np.array([2000, 3000])\n",
    "\n",
    "farm_model = create_model(A, sense, b, obj)\n",
    "\n",
    "print('Acres of wheat and corn respectively', farm_model.x)\n",
    "print('Maximized profit', farm_model.objVal)"
   ]
  },
  {
   "cell_type": "code",
   "execution_count": 6,
   "id": "dce7346c",
   "metadata": {
    "scrolled": true
   },
   "outputs": [
    {
     "name": "stdout",
     "output_type": "stream",
     "text": [
      "fertilizer limit -  200\n",
      "fertilizer limit -  300\n",
      "fertilizer limit -  400\n",
      "fertilizer limit -  500\n",
      "fertilizer limit -  600\n",
      "fertilizer limit -  700\n",
      "fertilizer limit -  800\n",
      "fertilizer limit -  900\n",
      "fertilizer limit -  1000\n",
      "fertilizer limit -  1100\n",
      "fertilizer limit -  1200\n",
      "fertilizer limit -  1300\n",
      "fertilizer limit -  1400\n",
      "fertilizer limit -  1500\n",
      "fertilizer limit -  1600\n",
      "fertilizer limit -  1700\n",
      "fertilizer limit -  1800\n",
      "fertilizer limit -  1900\n",
      "fertilizer limit -  2000\n",
      "fertilizer limit -  2100\n",
      "fertilizer limit -  2200\n"
     ]
    },
    {
     "name": "stderr",
     "output_type": "stream",
     "text": [
      "<ipython-input-6-b076c8751b88>:14: DeprecationWarning: Deprecated, use Model.addMConstr() instead\n",
      "  farm_model = create_model(A, sense, b, obj)\n"
     ]
    }
   ],
   "source": [
    "# creating empty data frame to store the data\n",
    "crop_acres = pd.DataFrame(data=None, columns=['fertilizers', 'wheat', 'corn', 'profit'])\n",
    "\n",
    "# creating array for fertilizer availability\n",
    "crop_acres['fertilizers'] = np.arange(200, 2300, 100)\n",
    "\n",
    "for i in range(len(crop_acres)):\n",
    "    \n",
    "    # updating the constrains\n",
    "    b[1] = crop_acres['fertilizers'].iloc[i]\n",
    "    print('fertilizer limit - ', b[1])\n",
    "    \n",
    "    # creating and running the model\n",
    "    farm_model = create_model(A, sense, b, obj)\n",
    "    \n",
    "    # storing the outcomes\n",
    "    crop_acres.iloc[i, 1:-1] = farm_model.x\n",
    "    crop_acres.iloc[i, -1] = farm_model.objVal"
   ]
  },
  {
   "cell_type": "code",
   "execution_count": 7,
   "id": "67c207ab",
   "metadata": {},
   "outputs": [
    {
     "data": {
      "text/html": [
       "<div>\n",
       "<style scoped>\n",
       "    .dataframe tbody tr th:only-of-type {\n",
       "        vertical-align: middle;\n",
       "    }\n",
       "\n",
       "    .dataframe tbody tr th {\n",
       "        vertical-align: top;\n",
       "    }\n",
       "\n",
       "    .dataframe thead th {\n",
       "        text-align: right;\n",
       "    }\n",
       "</style>\n",
       "<table border=\"1\" class=\"dataframe\">\n",
       "  <thead>\n",
       "    <tr style=\"text-align: right;\">\n",
       "      <th></th>\n",
       "      <th>fertilizers</th>\n",
       "      <th>wheat</th>\n",
       "      <th>corn</th>\n",
       "      <th>profit</th>\n",
       "    </tr>\n",
       "  </thead>\n",
       "  <tbody>\n",
       "    <tr>\n",
       "      <th>0</th>\n",
       "      <td>200</td>\n",
       "      <td>100.0</td>\n",
       "      <td>0.0</td>\n",
       "      <td>200000.0</td>\n",
       "    </tr>\n",
       "    <tr>\n",
       "      <th>1</th>\n",
       "      <td>300</td>\n",
       "      <td>150.0</td>\n",
       "      <td>0.0</td>\n",
       "      <td>300000.0</td>\n",
       "    </tr>\n",
       "    <tr>\n",
       "      <th>2</th>\n",
       "      <td>400</td>\n",
       "      <td>200.0</td>\n",
       "      <td>0.0</td>\n",
       "      <td>400000.0</td>\n",
       "    </tr>\n",
       "    <tr>\n",
       "      <th>3</th>\n",
       "      <td>500</td>\n",
       "      <td>250.0</td>\n",
       "      <td>0.0</td>\n",
       "      <td>500000.0</td>\n",
       "    </tr>\n",
       "    <tr>\n",
       "      <th>4</th>\n",
       "      <td>600</td>\n",
       "      <td>300.0</td>\n",
       "      <td>0.0</td>\n",
       "      <td>600000.0</td>\n",
       "    </tr>\n",
       "    <tr>\n",
       "      <th>5</th>\n",
       "      <td>700</td>\n",
       "      <td>325.0</td>\n",
       "      <td>12.5</td>\n",
       "      <td>687500.0</td>\n",
       "    </tr>\n",
       "    <tr>\n",
       "      <th>6</th>\n",
       "      <td>800</td>\n",
       "      <td>300.0</td>\n",
       "      <td>50.0</td>\n",
       "      <td>750000.0</td>\n",
       "    </tr>\n",
       "    <tr>\n",
       "      <th>7</th>\n",
       "      <td>900</td>\n",
       "      <td>275.0</td>\n",
       "      <td>87.5</td>\n",
       "      <td>812500.0</td>\n",
       "    </tr>\n",
       "    <tr>\n",
       "      <th>8</th>\n",
       "      <td>1000</td>\n",
       "      <td>250.0</td>\n",
       "      <td>125.0</td>\n",
       "      <td>875000.0</td>\n",
       "    </tr>\n",
       "    <tr>\n",
       "      <th>9</th>\n",
       "      <td>1100</td>\n",
       "      <td>225.0</td>\n",
       "      <td>162.5</td>\n",
       "      <td>937500.0</td>\n",
       "    </tr>\n",
       "    <tr>\n",
       "      <th>10</th>\n",
       "      <td>1200</td>\n",
       "      <td>200.0</td>\n",
       "      <td>200.0</td>\n",
       "      <td>1000000.0</td>\n",
       "    </tr>\n",
       "    <tr>\n",
       "      <th>11</th>\n",
       "      <td>1300</td>\n",
       "      <td>175.0</td>\n",
       "      <td>237.5</td>\n",
       "      <td>1062500.0</td>\n",
       "    </tr>\n",
       "    <tr>\n",
       "      <th>12</th>\n",
       "      <td>1400</td>\n",
       "      <td>150.0</td>\n",
       "      <td>275.0</td>\n",
       "      <td>1125000.0</td>\n",
       "    </tr>\n",
       "    <tr>\n",
       "      <th>13</th>\n",
       "      <td>1500</td>\n",
       "      <td>125.0</td>\n",
       "      <td>312.5</td>\n",
       "      <td>1187500.0</td>\n",
       "    </tr>\n",
       "    <tr>\n",
       "      <th>14</th>\n",
       "      <td>1600</td>\n",
       "      <td>100.0</td>\n",
       "      <td>350.0</td>\n",
       "      <td>1250000.0</td>\n",
       "    </tr>\n",
       "    <tr>\n",
       "      <th>15</th>\n",
       "      <td>1700</td>\n",
       "      <td>50.0</td>\n",
       "      <td>400.0</td>\n",
       "      <td>1300000.0</td>\n",
       "    </tr>\n",
       "    <tr>\n",
       "      <th>16</th>\n",
       "      <td>1800</td>\n",
       "      <td>0.0</td>\n",
       "      <td>450.0</td>\n",
       "      <td>1350000.0</td>\n",
       "    </tr>\n",
       "    <tr>\n",
       "      <th>17</th>\n",
       "      <td>1900</td>\n",
       "      <td>0.0</td>\n",
       "      <td>450.0</td>\n",
       "      <td>1350000.0</td>\n",
       "    </tr>\n",
       "    <tr>\n",
       "      <th>18</th>\n",
       "      <td>2000</td>\n",
       "      <td>0.0</td>\n",
       "      <td>450.0</td>\n",
       "      <td>1350000.0</td>\n",
       "    </tr>\n",
       "    <tr>\n",
       "      <th>19</th>\n",
       "      <td>2100</td>\n",
       "      <td>0.0</td>\n",
       "      <td>450.0</td>\n",
       "      <td>1350000.0</td>\n",
       "    </tr>\n",
       "    <tr>\n",
       "      <th>20</th>\n",
       "      <td>2200</td>\n",
       "      <td>0.0</td>\n",
       "      <td>450.0</td>\n",
       "      <td>1350000.0</td>\n",
       "    </tr>\n",
       "  </tbody>\n",
       "</table>\n",
       "</div>"
      ],
      "text/plain": [
       "    fertilizers  wheat   corn     profit\n",
       "0           200  100.0    0.0   200000.0\n",
       "1           300  150.0    0.0   300000.0\n",
       "2           400  200.0    0.0   400000.0\n",
       "3           500  250.0    0.0   500000.0\n",
       "4           600  300.0    0.0   600000.0\n",
       "5           700  325.0   12.5   687500.0\n",
       "6           800  300.0   50.0   750000.0\n",
       "7           900  275.0   87.5   812500.0\n",
       "8          1000  250.0  125.0   875000.0\n",
       "9          1100  225.0  162.5   937500.0\n",
       "10         1200  200.0  200.0  1000000.0\n",
       "11         1300  175.0  237.5  1062500.0\n",
       "12         1400  150.0  275.0  1125000.0\n",
       "13         1500  125.0  312.5  1187500.0\n",
       "14         1600  100.0  350.0  1250000.0\n",
       "15         1700   50.0  400.0  1300000.0\n",
       "16         1800    0.0  450.0  1350000.0\n",
       "17         1900    0.0  450.0  1350000.0\n",
       "18         2000    0.0  450.0  1350000.0\n",
       "19         2100    0.0  450.0  1350000.0\n",
       "20         2200    0.0  450.0  1350000.0"
      ]
     },
     "execution_count": 7,
     "metadata": {},
     "output_type": "execute_result"
    }
   ],
   "source": [
    "crop_acres"
   ]
  },
  {
   "cell_type": "code",
   "execution_count": 8,
   "id": "e7ae2fc5",
   "metadata": {},
   "outputs": [
    {
     "name": "stdout",
     "output_type": "stream",
     "text": [
      "Min. fertlizers for no wheat 1800\n"
     ]
    }
   ],
   "source": [
    "print('Min. fertlizers for no wheat', crop_acres.loc[crop_acres['wheat'] == 0, 'fertilizers'].min())"
   ]
  },
  {
   "cell_type": "markdown",
   "id": "fd54bc5b",
   "metadata": {},
   "source": [
    "## Q3"
   ]
  },
  {
   "cell_type": "markdown",
   "id": "a7993715",
   "metadata": {},
   "source": [
    "Star Oil Company is considering five different investment opportunities. The table below gives the required cash outflows and net present values in millions of dollars.\n",
    "\n",
    "Star Oil has 40 million available for investment now (time 0); it estimates that one year from now (time 1) 20 million will be available for investment. Star Oil may purchase any fraction of each investment, but no more than 100% of each opportunity. In this case, the cash outflows and NPV are adjusted accordingly.\n",
    "\n",
    "For example, if Star Oil purchases one-fifth of investment 3, then a cash outflow of 1/5 × 5 = 1 million dollars would be required at time 0, and a cash outflow of 1/5 × 5 = 1 million would be required at time 1. The one-fifth share of investment three would yield an NPV of 1/5 ∗ 16 = 3.2 million dollars. Star Oil wants to maximize the NPV that can be obtained by investing in investments 1-5. Formulate an LP that will help achieve this goal. Assume that any funds leftover at time 0 cannot be used at time 1.\n",
    "\n",
    "What percentage of opportunity 3 should be Star Oil invest in?  Answer in decimals, so if your answer is 54%, you should input 0.54.  Round 2 to decimal places"
   ]
  },
  {
   "cell_type": "code",
   "execution_count": 9,
   "id": "de312b41",
   "metadata": {},
   "outputs": [],
   "source": [
    "A = np.zeros((7, 5))\n",
    "A[0, :] = [11, 53, 5, 5, 29]\n",
    "A[1, :] = [3, 6, 5, 1, 34]\n",
    "A[2, :] = [1, 0, 0, 0, 0]\n",
    "A[3, :] = [0, 1, 0, 0, 0]\n",
    "A[4, :] = [0, 0, 1, 0, 0]\n",
    "A[5, :] = [0, 0, 0, 1, 0]\n",
    "A[6, :] = [0, 0, 0, 0, 1]\n",
    "\n",
    "b = np.array([40, 20, 1, 1, 1, 1, 1])\n",
    "\n",
    "cost = np.array([13, 16, 16, 14, 39])\n",
    "\n",
    "sense = np.array(['<', '<', '<', '<', '<', '<', '<'])"
   ]
  },
  {
   "cell_type": "code",
   "execution_count": 10,
   "id": "19e0be09",
   "metadata": {},
   "outputs": [
    {
     "data": {
      "text/plain": [
       "(array([[11., 53.,  5.,  5., 29.],\n",
       "        [ 3.,  6.,  5.,  1., 34.],\n",
       "        [ 1.,  0.,  0.,  0.,  0.],\n",
       "        [ 0.,  1.,  0.,  0.,  0.],\n",
       "        [ 0.,  0.,  1.,  0.,  0.],\n",
       "        [ 0.,  0.,  0.,  1.,  0.],\n",
       "        [ 0.,  0.,  0.,  0.,  1.]]),\n",
       " array([40, 20,  1,  1,  1,  1,  1]))"
      ]
     },
     "execution_count": 10,
     "metadata": {},
     "output_type": "execute_result"
    }
   ],
   "source": [
    "A, b"
   ]
  },
  {
   "cell_type": "code",
   "execution_count": 11,
   "id": "d70a51fe",
   "metadata": {},
   "outputs": [
    {
     "name": "stderr",
     "output_type": "stream",
     "text": [
      "<ipython-input-11-e072eec6a54f>:1: DeprecationWarning: Deprecated, use Model.addMConstr() instead\n",
      "  portfolio = create_model(A, sense, b, cost, opt=gp.GRB.MAXIMIZE)\n"
     ]
    }
   ],
   "source": [
    "portfolio = create_model(A, sense, b, cost, opt=gp.GRB.MAXIMIZE)"
   ]
  },
  {
   "cell_type": "code",
   "execution_count": 12,
   "id": "0f13239a",
   "metadata": {},
   "outputs": [
    {
     "data": {
      "text/plain": [
       "[1.0, 0.20085995085995084, 1.0, 1.0, 0.2880835380835381]"
      ]
     },
     "execution_count": 12,
     "metadata": {},
     "output_type": "execute_result"
    }
   ],
   "source": [
    "portfolio.x"
   ]
  },
  {
   "cell_type": "code",
   "execution_count": 13,
   "id": "064f009c",
   "metadata": {},
   "outputs": [
    {
     "data": {
      "text/plain": [
       "57.449017199017206"
      ]
     },
     "execution_count": 13,
     "metadata": {},
     "output_type": "execute_result"
    }
   ],
   "source": [
    "portfolio.objVal"
   ]
  },
  {
   "cell_type": "markdown",
   "id": "d2aca9b5",
   "metadata": {},
   "source": [
    "## Q4"
   ]
  },
  {
   "cell_type": "code",
   "execution_count": 14,
   "id": "53d1dfe0",
   "metadata": {},
   "outputs": [
    {
     "name": "stderr",
     "output_type": "stream",
     "text": [
      "<ipython-input-14-7698aa7a1b72>:17: DeprecationWarning: Deprecated, use Model.addMConstr() instead\n",
      "  diet = create_model(A, sense, b, cost, opt=gp.GRB.MINIMIZE)\n"
     ]
    }
   ],
   "source": [
    "A = np.zeros((7, 3))\n",
    "\n",
    "A[0, :] = [107, 500, 0]\n",
    "A[1, :] = [105, 500, 0]\n",
    "A[2, :] = [72, 121, 65]\n",
    "A[3, :] = [72, 121, 65]\n",
    "A[4, :] = [1, 0, 0]\n",
    "A[5, :] = [0, 1, 0]\n",
    "A[6, :] = [0, 0, 1]\n",
    "\n",
    "sense = np.array(['<', '>', '<', '>', '<', '<', '<'])\n",
    "\n",
    "b = np.array([50000, 5000, 2250, 2000, 10, 10, 10])\n",
    "\n",
    "cost = np.array([0.18, 0.23, 0.05])\n",
    "\n",
    "diet = create_model(A, sense, b, cost, opt=gp.GRB.MINIMIZE)"
   ]
  },
  {
   "cell_type": "code",
   "execution_count": 15,
   "id": "43177e9c",
   "metadata": {},
   "outputs": [
    {
     "data": {
      "text/plain": [
       "[1.9444444444444444, 10.0, 10.0]"
      ]
     },
     "execution_count": 15,
     "metadata": {},
     "output_type": "execute_result"
    }
   ],
   "source": [
    "diet.x"
   ]
  },
  {
   "cell_type": "code",
   "execution_count": 16,
   "id": "af753114",
   "metadata": {},
   "outputs": [
    {
     "data": {
      "text/plain": [
       "3.1500000000000004"
      ]
     },
     "execution_count": 16,
     "metadata": {},
     "output_type": "execute_result"
    }
   ],
   "source": [
    "diet.objVal"
   ]
  },
  {
   "cell_type": "code",
   "execution_count": 17,
   "id": "da7c667b",
   "metadata": {},
   "outputs": [
    {
     "name": "stdout",
     "output_type": "stream",
     "text": [
      "Vitamin C 5208.055555555556\n",
      "calories 2000.0\n"
     ]
    }
   ],
   "source": [
    "print('Vitamin C', A[0, :] @ diet.x)\n",
    "\n",
    "print('calories', A[2, :] @ diet.x)"
   ]
  },
  {
   "cell_type": "markdown",
   "id": "1f2162f8",
   "metadata": {},
   "source": [
    "## Q5"
   ]
  },
  {
   "cell_type": "markdown",
   "id": "e042b29f",
   "metadata": {},
   "source": [
    "Paper and wood products companies need to define cutting schedules that will maximize the total wood yield of their forests over some planning period. Suppose that a firm with control of 2 forest units wants to identify the best cutting schedule over a planning horizon of 3 years. Forest unit 1 has a total acreage of 2 and unit 2 has a total of 3 acres. The studies that the company has undertaken predict that each acre in unit 1(2) will have 1, 1.3, 1.4 (1, 1.2, 1.6) tons of woods per acre available for harvesting in year 1, 2, 3 respectively. Based on its prediction of economic conditions, the company believes that it should harvest at least 1.2, 1.5, 2 tons of wood in year 1, 2, 3 separately. Due to the availability of equipment and personnel, the company can harvest at most 2, 2, 3 tons of wood in year 1, 2, 3. Find the company’s best cutting strategy that maximizes the total weights of wood. Here discounting of the time value should not be considered.  If some fraction of a forest unit is cut down in year 1, that part of the forest cannot be cut again for the remaining 2 years.  Similarly if some fraction of the forest unit is cut down in year 2 it cannot be cut in year 3.\n",
    "\n",
    "In year 3, how many acres of forest unit 2 should be cut down?  Round to 2 decimal places."
   ]
  },
  {
   "cell_type": "code",
   "execution_count": 19,
   "id": "7cade62f",
   "metadata": {},
   "outputs": [],
   "source": [
    "A = np.zeros((8, 6))\n",
    "\n",
    "A[0, :] = np.array([2, 0, 0, 3, 0, 0])\n",
    "A[1, :] = np.array([2, 0, 0, 3, 0, 0])\n",
    "A[2, :] = np.array([0, 2.6, 0, 0, 3.6, 0])\n",
    "A[3, :] = np.array([0, 2.6, 0, 0, 3.6, 0])\n",
    "A[4, :] = np.array([0, 0, 2.8, 0, 0, 4.8])\n",
    "A[5, :] = np.array([0, 0, 2.8, 0, 0, 4.8])\n",
    "\n",
    "A[6, :] = np.array([1, 1, 1, 0, 0, 0])\n",
    "A[7, :] = np.array([0, 0, 0, 1, 1, 1])\n",
    "\n",
    "sense = np.array(['<', '>', '<', '>', '<', '>', '<', '<'])\n",
    "\n",
    "b = np.array([2, 1.2, 2, 1.5, 3, 2, 1, 1])\n",
    "\n",
    "cost = A[0, :] + A[2, :] + A[4, :]"
   ]
  },
  {
   "cell_type": "code",
   "execution_count": 20,
   "id": "ccba17cb",
   "metadata": {},
   "outputs": [
    {
     "name": "stderr",
     "output_type": "stream",
     "text": [
      "<ipython-input-20-06be388921c5>:1: DeprecationWarning: Deprecated, use Model.addMConstr() instead\n",
      "  forest_model = create_model(A, sense, b, cost)\n"
     ]
    }
   ],
   "source": [
    "forest_model = create_model(A, sense, b, cost)"
   ]
  },
  {
   "cell_type": "code",
   "execution_count": 22,
   "id": "ace63f2f",
   "metadata": {},
   "outputs": [
    {
     "data": {
      "text/plain": [
       "1.875"
      ]
     },
     "execution_count": 22,
     "metadata": {},
     "output_type": "execute_result"
    }
   ],
   "source": [
    "forest_model.x[5]*3"
   ]
  },
  {
   "cell_type": "code",
   "execution_count": 23,
   "id": "1c639f78",
   "metadata": {},
   "outputs": [
    {
     "data": {
      "text/plain": [
       "[0.23076923076923084, 0.7692307692307692, 0.0, 0.375, 0.0, 0.625]"
      ]
     },
     "execution_count": 23,
     "metadata": {},
     "output_type": "execute_result"
    }
   ],
   "source": [
    "forest_model.x"
   ]
  },
  {
   "cell_type": "code",
   "execution_count": null,
   "id": "ce55ab92",
   "metadata": {},
   "outputs": [],
   "source": []
  }
 ],
 "metadata": {
  "kernelspec": {
   "display_name": "Python 3",
   "language": "python",
   "name": "python3"
  },
  "language_info": {
   "codemirror_mode": {
    "name": "ipython",
    "version": 3
   },
   "file_extension": ".py",
   "mimetype": "text/x-python",
   "name": "python",
   "nbconvert_exporter": "python",
   "pygments_lexer": "ipython3",
   "version": "3.8.8"
  }
 },
 "nbformat": 4,
 "nbformat_minor": 5
}
