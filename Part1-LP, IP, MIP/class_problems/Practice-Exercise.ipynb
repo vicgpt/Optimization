{
 "cells": [
  {
   "cell_type": "code",
   "execution_count": 1,
   "id": "7e4e9b78",
   "metadata": {},
   "outputs": [],
   "source": [
    "import pandas as pd\n",
    "import numpy as np"
   ]
  },
  {
   "cell_type": "code",
   "execution_count": 41,
   "id": "d08b592f",
   "metadata": {},
   "outputs": [],
   "source": [
    "from scipy.optimize import minimize\n",
    "import gurobipy as gp"
   ]
  },
  {
   "cell_type": "code",
   "execution_count": 14,
   "id": "19dc9369",
   "metadata": {},
   "outputs": [],
   "source": [
    "def create_model(A, sense, b, obj, opt=gp.GRB.MAXIMIZE, ub=None, lb=None, vtype=None, time_limit=3600, Q=None): \n",
    "\n",
    "    # creating model\n",
    "    model = gp.Model()\n",
    "    \n",
    "    if vtype is None:\n",
    "        vtype = ['C'] * A.shape[1]\n",
    "\n",
    "    # creating variable an setting the constraints\n",
    "    if (ub is None) & (lb is None):\n",
    "        modx = model.addMVar(A.shape[1], vtype=vtype)\n",
    "    elif (ub is not None) & (lb is None):\n",
    "        modx = model.addMVar(A.shape[1], ub=ub, vtype=vtype)\n",
    "    elif (ub is None) & (lb is not None):\n",
    "        modx = model.addMVar(A.shape[1], lb=lb, vtype=vtype)\n",
    "    else:\n",
    "        modx = model.addMVar(A.shape[1], lb=lb, ub=ub, vtype=vtype)\n",
    "        \n",
    "    mod_con = model.addMConstrs(A, modx, sense, b)\n",
    "\n",
    "    # setting the objective function\n",
    "    model.setMObjective(Q, obj, 0, sense=opt)\n",
    " \n",
    "    # restricting gurobi logs\n",
    "    model.Params.OutputFlag = 0\n",
    "    model.setParam('TimeLimit', time_limit)\n",
    "\n",
    "    # optimizing the function\n",
    "    model.optimize()\n",
    "    \n",
    "    return model"
   ]
  },
  {
   "cell_type": "markdown",
   "id": "71736c20",
   "metadata": {},
   "source": [
    "## Integer programming\n",
    "\n",
    "Ferrari is planning to design a new car.  They have 3 engines to choose from to put in the car, engine 1, 2 or 3.  Engine 1 makes 450 horsepower (hp) and costs usd50000, engine 2 makes 600 hp and costs usd55000, and engine 3 makes 750 hp and costs usd65000.  Ferrari can also add a turbo charger to engines 1 or 2 if they want to, but not to engine 3.  A turbo charger would add 200 horsepower to a engine 1 or 150 hp to engine 2, and costs usd5000 on either engine.  Ferrari must also choose between 2 sets of breaks, beaks 1 or 2.  Breaks 1 cost usd5000 and breaks 2 cost usd7000. If a turbo charger is added to the engine, then Ferrari must use breaks 2.  They also have 2 interior options, interior 1 or 2.  Interior 1 costs usd15000 and interior 2 costs usd20000.  Ferrari knows that they can only sell cars with interior 1 if the car uses engine 3 or a has a turbo charger.  The car must pick exactly 1 engine, exactly 1 set of breaks and exactly 1 interior.  The car may or may not have a turbo charger; if it has a turbo charger it can only have 1.  Ferrari wants to design the least expensive car that has at least 600 hp.\n",
    "\n",
    " \n",
    "\n",
    "Let e1, e2, e3 be the binary variables representing which engine to put in the car.\n",
    "\n",
    "Let t1 and t2 be the binary variables representing whether a turbo charger is installed on engines 1 or 2.\n",
    "\n",
    "Let b1 and b2 be the binary variables representing which set of breaks get put on the car.\n",
    "\n",
    "Let i1 and i2 be the binary variables representing which interior is used in the car.\n",
    "\n",
    " \n",
    "\n",
    "How much does it cost to build the optimal car? Round to the nearest dollar\n",
    "\n",
    " \n",
    "\n",
    "Hint: The way I solved the problem there are 9 constraints\n",
    "\n",
    "1) You must pick only 1 engine\n",
    "\n",
    "2) Turbo1 can only be used on engine1\n",
    "\n",
    "3) Turbo2 can only be used on engine2\n",
    "\n",
    "4) Only one of the turbos can be used (this might be redundant?)\n",
    "\n",
    "5) You must pick only 1 set of breaks\n",
    "\n",
    "6) Breaks2 must be used if you use a turbo\n",
    "\n",
    "7) You must pick only 1 interior\n",
    "\n",
    "8) Interior 1 can only be used if you use engine 3 or a turbo\n",
    "\n",
    "9) The car must have at least 600 hp"
   ]
  },
  {
   "cell_type": "code",
   "execution_count": 23,
   "id": "1eb22d13",
   "metadata": {},
   "outputs": [],
   "source": [
    "n_const = 9\n",
    "n_var = 9\n",
    "A = np.zeros((n_const, n_var))\n",
    "b = np.zeros(n_const)\n",
    "sense = ['<']*n_const\n",
    "\n",
    "obj = np.array([50000, 55000, 65000, 5000, 5000, 5000, 7000, 15000, 20000])"
   ]
  },
  {
   "cell_type": "code",
   "execution_count": 24,
   "id": "643ab9b7",
   "metadata": {},
   "outputs": [],
   "source": [
    "A[0, 0:3] = 1\n",
    "b[0] = 1\n",
    "sense[0] = '='"
   ]
  },
  {
   "cell_type": "code",
   "execution_count": 25,
   "id": "eee04e43",
   "metadata": {},
   "outputs": [],
   "source": [
    "A[1, [0, 3]] = [-1, 1]"
   ]
  },
  {
   "cell_type": "code",
   "execution_count": 26,
   "id": "0499c86f",
   "metadata": {},
   "outputs": [],
   "source": [
    "A[2, [1, 4]] = [-1, 1]"
   ]
  },
  {
   "cell_type": "code",
   "execution_count": 27,
   "id": "ccde20a6",
   "metadata": {},
   "outputs": [],
   "source": [
    "A[3, [3, 4]] = 1\n",
    "b[3] = 1"
   ]
  },
  {
   "cell_type": "code",
   "execution_count": 28,
   "id": "800ce06e",
   "metadata": {},
   "outputs": [],
   "source": [
    "A[4, 5:7] = 1\n",
    "b[4] = 1\n",
    "sense[4] = '='"
   ]
  },
  {
   "cell_type": "code",
   "execution_count": 29,
   "id": "07df24a7",
   "metadata": {},
   "outputs": [],
   "source": [
    "A[5, [3, 4, 6]] = [1, 1, -1]"
   ]
  },
  {
   "cell_type": "code",
   "execution_count": 30,
   "id": "2abd68b8",
   "metadata": {},
   "outputs": [],
   "source": [
    "A[6, -2:] = 1\n",
    "b[6] = 1\n",
    "sense[6] = '='"
   ]
  },
  {
   "cell_type": "code",
   "execution_count": 31,
   "id": "955d0f70",
   "metadata": {},
   "outputs": [],
   "source": [
    "A[7, [2, 3, 4, 7]] = [-1, -1, -1, 1]"
   ]
  },
  {
   "cell_type": "code",
   "execution_count": 32,
   "id": "4dd187eb",
   "metadata": {},
   "outputs": [],
   "source": [
    "A[8, :5] = [450, 600, 750, 200, 150]\n",
    "b[8] = 600\n",
    "sense[8] = '>'"
   ]
  },
  {
   "cell_type": "code",
   "execution_count": 33,
   "id": "b3445c89",
   "metadata": {},
   "outputs": [
    {
     "name": "stderr",
     "output_type": "stream",
     "text": [
      "<ipython-input-33-44d93b541e72>:1: DeprecationWarning: Deprecated, use Model.addMConstr() instead\n",
      "  ferari = create_model(A, sense, b, obj, opt=gp.GRB.MINIMIZE, vtype=['B']*n_var)\n"
     ]
    }
   ],
   "source": [
    "ferari = create_model(A, sense, b, obj, opt=gp.GRB.MINIMIZE, vtype=['B']*n_var)"
   ]
  },
  {
   "cell_type": "code",
   "execution_count": 34,
   "id": "7afc6763",
   "metadata": {},
   "outputs": [
    {
     "data": {
      "text/plain": [
       "77000.0"
      ]
     },
     "execution_count": 34,
     "metadata": {},
     "output_type": "execute_result"
    }
   ],
   "source": [
    "ferari.objVal"
   ]
  },
  {
   "cell_type": "code",
   "execution_count": 35,
   "id": "84030081",
   "metadata": {},
   "outputs": [
    {
     "data": {
      "text/plain": [
       "[1.0, 0.0, 0.0, 1.0, 0.0, 0.0, 1.0, 1.0, 0.0]"
      ]
     },
     "execution_count": 35,
     "metadata": {},
     "output_type": "execute_result"
    }
   ],
   "source": [
    "ferari.x"
   ]
  },
  {
   "cell_type": "markdown",
   "id": "40f887fb",
   "metadata": {},
   "source": [
    "## Non-Linear programming"
   ]
  },
  {
   "cell_type": "code",
   "execution_count": 104,
   "id": "c0aae4e8",
   "metadata": {},
   "outputs": [],
   "source": [
    "def electricity_diff(x):\n",
    "    x1 = x[0]\n",
    "    x2 = x[1]\n",
    "    x3 = x[2]\n",
    "    \n",
    "    e1 = 50*x1\n",
    "    e2 = 50*x2 + 20*x1*x1\n",
    "    e3 = 50*x3 + 20*x2*x2 + 10*x1*x1\n",
    "    \n",
    "    supply = np.array([e1/3 + e2/3,  e1/3 + e3/3, e2/3 + e3/3, e1/3 + e2/3 + e3/3])\n",
    "    demand = np.array([44, 20, 50, 18])\n",
    "    \n",
    "    sse = np.sum((supply - demand)**2)\n",
    "    \n",
    "    return sse\n",
    "\n",
    "def min_demand_const(x):\n",
    "    \n",
    "    x1 = x[0]\n",
    "    x2 = x[1]\n",
    "    x3 = x[2]\n",
    "    \n",
    "    e1 = 50*x1\n",
    "    e2 = 50*x2 + 20*x1*x1\n",
    "    e3 = 50*x3 + 20*x2*x2 + 10*x1*x1\n",
    "    \n",
    "    supply = np.array([e1/3 + e2/3,  e1/3 + e3/3, e2/3 + e3/3, e1/3 + e2/3 + e3/3])\n",
    "    demand = np.array([44, 20, 50, 18])\n",
    "    \n",
    "    return np.sum(supply) - np.sum(demand)\n",
    "  \n",
    "def get_supply(x):\n",
    "    x1 = x[0]\n",
    "    x2 = x[1]\n",
    "    x3 = x[2]\n",
    "    \n",
    "    e1 = 50*x1\n",
    "    e2 = 50*x2 + 20*x1*x1\n",
    "    e3 = 50*x3 + 20*x2*x2 + 10*x1*x1\n",
    "    \n",
    "    supply = np.array([e1/3 + e2/3,  e1/3 + e3/3, e2/3 + e3/3, e1/3 + e2/3 + e3/3])\n",
    "    \n",
    "    return supply"
   ]
  },
  {
   "cell_type": "code",
   "execution_count": 56,
   "id": "dd19a86b",
   "metadata": {},
   "outputs": [],
   "source": [
    "con1 = {'type':'ineq', 'fun': min_demand_const}\n",
    "cons = [con1]\n",
    "bds = [(0,1),(0,1),(0,1)]\n",
    "w = np.ones(3)*0.9"
   ]
  },
  {
   "cell_type": "code",
   "execution_count": 57,
   "id": "155fef82",
   "metadata": {},
   "outputs": [],
   "source": [
    "opt_port = minimize(electricity_diff, w ,constraints=cons,bounds=bds) "
   ]
  },
  {
   "cell_type": "code",
   "execution_count": 58,
   "id": "f58e6ee4",
   "metadata": {},
   "outputs": [
    {
     "data": {
      "text/plain": [
       "array([0.7752806 , 1.        , 0.10408339])"
      ]
     },
     "execution_count": 58,
     "metadata": {},
     "output_type": "execute_result"
    }
   ],
   "source": [
    "opt_port.x"
   ]
  },
  {
   "cell_type": "code",
   "execution_count": 59,
   "id": "bef167fa",
   "metadata": {},
   "outputs": [
    {
     "data": {
      "text/plain": [
       "1153.3437087898453"
      ]
     },
     "execution_count": 59,
     "metadata": {},
     "output_type": "execute_result"
    }
   ],
   "source": [
    "opt_port.fun"
   ]
  },
  {
   "cell_type": "markdown",
   "id": "c046f09e",
   "metadata": {},
   "source": [
    "# Exam"
   ]
  },
  {
   "cell_type": "markdown",
   "id": "89858619",
   "metadata": {},
   "source": [
    "### q1"
   ]
  },
  {
   "cell_type": "code",
   "execution_count": 74,
   "id": "1740a899",
   "metadata": {},
   "outputs": [],
   "source": [
    "n_var = 9\n",
    "n_const = 8\n",
    "\n",
    "A = np.zeros((n_const, n_var))\n",
    "b = np.zeros(n_const)\n",
    "sense = ['<']*n_const"
   ]
  },
  {
   "cell_type": "code",
   "execution_count": 85,
   "id": "c830d798",
   "metadata": {},
   "outputs": [],
   "source": [
    "A[0, :3] = 1\n",
    "b[0] = 1\n",
    "sense[0] = '='"
   ]
  },
  {
   "cell_type": "code",
   "execution_count": 86,
   "id": "666dcd5a",
   "metadata": {},
   "outputs": [],
   "source": [
    "A[1, [0, 3]] = [-1, 1]"
   ]
  },
  {
   "cell_type": "code",
   "execution_count": 87,
   "id": "a129824b",
   "metadata": {},
   "outputs": [],
   "source": [
    "A[2, [1, 4]] = [-1, 1]"
   ]
  },
  {
   "cell_type": "code",
   "execution_count": 88,
   "id": "e8a0a69f",
   "metadata": {},
   "outputs": [],
   "source": [
    "A[3, [5, 6]] = 1\n",
    "b[3] = 1\n",
    "sense[3] = '='"
   ]
  },
  {
   "cell_type": "code",
   "execution_count": 89,
   "id": "9850cecc",
   "metadata": {},
   "outputs": [],
   "source": [
    "A[4, [3, 4, 6]] = [1, -1, -1]"
   ]
  },
  {
   "cell_type": "code",
   "execution_count": 90,
   "id": "b52af147",
   "metadata": {},
   "outputs": [],
   "source": [
    "A[5, -2:] = 1\n",
    "b[5] = 1\n",
    "sense[5] = '='"
   ]
  },
  {
   "cell_type": "code",
   "execution_count": 91,
   "id": "0147a2d6",
   "metadata": {},
   "outputs": [],
   "source": [
    "A[6, [2, 3, 4, 7]] = [-1, -1, -1, 1]"
   ]
  },
  {
   "cell_type": "code",
   "execution_count": 92,
   "id": "91a1f545",
   "metadata": {},
   "outputs": [],
   "source": [
    "A[7, :5] = [450, 600, 750, 200, 150]\n",
    "b[7] = 600\n",
    "sense[7] = '>'"
   ]
  },
  {
   "cell_type": "code",
   "execution_count": 93,
   "id": "aee6c363",
   "metadata": {},
   "outputs": [],
   "source": [
    "obj = np.array([500, 550, 650, 50, 50, 50, 70, 150, 200])"
   ]
  },
  {
   "cell_type": "code",
   "execution_count": 94,
   "id": "379cd756",
   "metadata": {},
   "outputs": [
    {
     "name": "stderr",
     "output_type": "stream",
     "text": [
      "<ipython-input-94-28483c0021ed>:1: DeprecationWarning: Deprecated, use Model.addMConstr() instead\n",
      "  med_school = create_model(A, sense, b, obj, opt=gp.GRB.MINIMIZE, vtype=['B']*n_var)\n"
     ]
    }
   ],
   "source": [
    "med_school = create_model(A, sense, b, obj, opt=gp.GRB.MINIMIZE, vtype=['B']*n_var)"
   ]
  },
  {
   "cell_type": "code",
   "execution_count": 95,
   "id": "f328f9f4",
   "metadata": {},
   "outputs": [
    {
     "data": {
      "text/plain": [
       "[1.0, 0.0, 0.0, 1.0, 0.0, 0.0, 1.0, 1.0, 0.0]"
      ]
     },
     "execution_count": 95,
     "metadata": {},
     "output_type": "execute_result"
    }
   ],
   "source": [
    "med_school.x"
   ]
  },
  {
   "cell_type": "code",
   "execution_count": 98,
   "id": "06358ca6",
   "metadata": {},
   "outputs": [
    {
     "data": {
      "text/plain": [
       "770.0"
      ]
     },
     "execution_count": 98,
     "metadata": {},
     "output_type": "execute_result"
    }
   ],
   "source": [
    "med_school.objVal # time"
   ]
  },
  {
   "cell_type": "code",
   "execution_count": 99,
   "id": "4c06ebb6",
   "metadata": {},
   "outputs": [
    {
     "data": {
      "text/plain": [
       "650.0"
      ]
     },
     "execution_count": 99,
     "metadata": {},
     "output_type": "execute_result"
    }
   ],
   "source": [
    "A[7] @ med_school.x # earning"
   ]
  },
  {
   "cell_type": "code",
   "execution_count": 100,
   "id": "ae91e482",
   "metadata": {},
   "outputs": [
    {
     "data": {
      "text/plain": [
       "50"
      ]
     },
     "execution_count": 100,
     "metadata": {},
     "output_type": "execute_result"
    }
   ],
   "source": [
    "obj[5]"
   ]
  },
  {
   "cell_type": "code",
   "execution_count": 101,
   "id": "25ba1dd5",
   "metadata": {},
   "outputs": [
    {
     "data": {
      "text/plain": [
       "150"
      ]
     },
     "execution_count": 101,
     "metadata": {},
     "output_type": "execute_result"
    }
   ],
   "source": [
    "obj[-2]"
   ]
  },
  {
   "cell_type": "markdown",
   "id": "92867d01",
   "metadata": {},
   "source": [
    "### q2"
   ]
  },
  {
   "cell_type": "code",
   "execution_count": 108,
   "id": "19f71278",
   "metadata": {},
   "outputs": [
    {
     "name": "stdout",
     "output_type": "stream",
     "text": [
      "[33.59507662 23.32626652 31.07865661 43.99999987]\n"
     ]
    },
    {
     "data": {
      "text/plain": [
       "131.9999996166892"
      ]
     },
     "execution_count": 108,
     "metadata": {},
     "output_type": "execute_result"
    }
   ],
   "source": [
    "supply = get_supply(opt_port.x) # supply \n",
    "print(supply)\n",
    "np.sum(supply)"
   ]
  },
  {
   "cell_type": "code",
   "execution_count": 107,
   "id": "ab087b10",
   "metadata": {},
   "outputs": [
    {
     "data": {
      "text/plain": [
       "132"
      ]
     },
     "execution_count": 107,
     "metadata": {},
     "output_type": "execute_result"
    }
   ],
   "source": [
    "44+20+50+18"
   ]
  },
  {
   "cell_type": "code",
   "execution_count": 110,
   "id": "3eb36145",
   "metadata": {},
   "outputs": [],
   "source": [
    "x = opt_port.x\n",
    "x1 = x[0]\n",
    "x2 = x[1]\n",
    "x3 = x[2]\n",
    "\n",
    "e1 = 50*x1\n",
    "e2 = 50*x2 + 20*x1*x1\n",
    "e3 = 50*x3 + 20*x2*x2 + 10*x1*x1"
   ]
  },
  {
   "cell_type": "code",
   "execution_count": 111,
   "id": "5d8cebb6",
   "metadata": {},
   "outputs": [
    {
     "data": {
      "text/plain": [
       "38.76402980164214"
      ]
     },
     "execution_count": 111,
     "metadata": {},
     "output_type": "execute_result"
    }
   ],
   "source": [
    "e1"
   ]
  },
  {
   "cell_type": "markdown",
   "id": "b40e953d",
   "metadata": {},
   "source": [
    "### q3"
   ]
  },
  {
   "cell_type": "code",
   "execution_count": 115,
   "id": "bb05af1c",
   "metadata": {},
   "outputs": [],
   "source": [
    "A = np.array([[40, 50, 20, 30]])\n",
    "b = np.array([50])\n",
    "sense = ['<']\n",
    "obj = np.array([70, 80, 30, 50])"
   ]
  },
  {
   "cell_type": "code",
   "execution_count": 116,
   "id": "e91ba80c",
   "metadata": {},
   "outputs": [],
   "source": [
    "lb = np.array([0, 0, 0, 0])\n",
    "ub = np.array([1, 1, 1, 1])"
   ]
  },
  {
   "cell_type": "code",
   "execution_count": 117,
   "id": "7704e523",
   "metadata": {},
   "outputs": [
    {
     "name": "stderr",
     "output_type": "stream",
     "text": [
      "<ipython-input-117-5b321a618afd>:1: DeprecationWarning: Deprecated, use Model.addMConstr() instead\n",
      "  project = create_model(A, sense, b, obj, opt=gp.GRB.MAXIMIZE, ub=ub, lb=lb)\n"
     ]
    }
   ],
   "source": [
    "project = create_model(A, sense, b, obj, opt=gp.GRB.MAXIMIZE, ub=ub, lb=lb)"
   ]
  },
  {
   "cell_type": "code",
   "execution_count": 122,
   "id": "2bbe45e7",
   "metadata": {},
   "outputs": [
    {
     "data": {
      "text/plain": [
       "[1.0, 0.0, 0.0, 0.3333333333333333]"
      ]
     },
     "execution_count": 122,
     "metadata": {},
     "output_type": "execute_result"
    }
   ],
   "source": [
    "x = project.x\n",
    "x"
   ]
  },
  {
   "cell_type": "code",
   "execution_count": 119,
   "id": "83939f7e",
   "metadata": {},
   "outputs": [
    {
     "data": {
      "text/plain": [
       "86.66666666666666"
      ]
     },
     "execution_count": 119,
     "metadata": {},
     "output_type": "execute_result"
    }
   ],
   "source": [
    "project.objVal"
   ]
  },
  {
   "cell_type": "code",
   "execution_count": 123,
   "id": "b26edf58",
   "metadata": {},
   "outputs": [
    {
     "data": {
      "text/plain": [
       "array([50.])"
      ]
     },
     "execution_count": 123,
     "metadata": {},
     "output_type": "execute_result"
    }
   ],
   "source": [
    "A @ x"
   ]
  },
  {
   "cell_type": "code",
   "execution_count": null,
   "id": "ff886862",
   "metadata": {},
   "outputs": [],
   "source": []
  },
  {
   "cell_type": "code",
   "execution_count": 130,
   "id": "f4b9161b",
   "metadata": {},
   "outputs": [
    {
     "data": {
      "text/plain": [
       "10.0"
      ]
     },
     "execution_count": 130,
     "metadata": {},
     "output_type": "execute_result"
    }
   ],
   "source": [
    "A[0, 3] * x[3]"
   ]
  },
  {
   "cell_type": "markdown",
   "id": "f186d903",
   "metadata": {},
   "source": [
    "### q4"
   ]
  },
  {
   "cell_type": "markdown",
   "id": "97f2f4c5",
   "metadata": {},
   "source": [
    "8w + 3x + 2y + z =5\n",
    "\n",
    "w - y + z = 1\n",
    "\n",
    "w + x + 2z = -4\n",
    "\n",
    "-2w + 3x - 4y + 13z = 140"
   ]
  },
  {
   "cell_type": "code",
   "execution_count": 131,
   "id": "7d293dae",
   "metadata": {},
   "outputs": [],
   "source": [
    "A = np.zeros((4, 4))\n",
    "b = np.zeros(4)\n",
    "A[0, :] = [8, 3, 2, 1]\n",
    "A[1, :] = [1, 0, -1, 1]\n",
    "A[2, :] = [1, 1, 0, 2]\n",
    "A[3, :] = [-2, 3, -4, 13]\n",
    "\n",
    "b[0] = 5\n",
    "b[1] = 1\n",
    "b[2] = -4\n",
    "b[3] = 140"
   ]
  },
  {
   "cell_type": "code",
   "execution_count": 134,
   "id": "f9da34c5",
   "metadata": {},
   "outputs": [
    {
     "data": {
      "text/plain": [
       "array([ -83.5       ,  481.83333333, -285.66666667, -201.16666667])"
      ]
     },
     "execution_count": 134,
     "metadata": {},
     "output_type": "execute_result"
    }
   ],
   "source": [
    "x = np.linalg.solve(A, b)\n",
    "x"
   ]
  },
  {
   "cell_type": "markdown",
   "id": "8e483728",
   "metadata": {},
   "source": [
    "# Pigskin"
   ]
  },
  {
   "cell_type": "code",
   "execution_count": 203,
   "id": "fd8344cd",
   "metadata": {},
   "outputs": [],
   "source": [
    "M = 50000\n",
    "capacity = 20000\n",
    "n_var = 18\n",
    "n_const = 12\n",
    "# vars - yi, xi, zi\n",
    "\n",
    "A = np.zeros((n_const, n_var))\n",
    "b = np.zeros(n_const)\n",
    "sense = ['<']*n_const\n",
    "d = [10000, 15000, 30000, 35000, 25000, 10000]\n",
    "ub = np.array([1]*6 + [M]*6 + [capacity]*6)\n",
    "lb = np.array([0]*n_var)\n",
    "types = ['B']*6 + ['C']*12"
   ]
  },
  {
   "cell_type": "code",
   "execution_count": 204,
   "id": "4a9d1e7f",
   "metadata": {},
   "outputs": [],
   "source": [
    "i = 0\n",
    "A[i, [6, 12]] = [1, -1]\n",
    "b[i] = d[i] - 5000\n",
    "sense[i] = '='\n",
    "i += 1\n",
    "\n",
    "for k in range(1, 6):\n",
    "    A[i, [6+k, 12+k-1, 12+k]] = [1, 1, -1]\n",
    "    b[i] = d[i]\n",
    "    sense[i] = '='\n",
    "    i += 1"
   ]
  },
  {
   "cell_type": "code",
   "execution_count": 205,
   "id": "c8ff865e",
   "metadata": {},
   "outputs": [],
   "source": [
    "for k in range(6):\n",
    "    A[i, [k, k+6]] = [-M, 1]\n",
    "    i += 1"
   ]
  },
  {
   "cell_type": "code",
   "execution_count": 206,
   "id": "ce364d8c",
   "metadata": {},
   "outputs": [],
   "source": [
    "unit_cost = [12.5, 12.55, 12.7, 12.8, 12.85, 12.95]\n",
    "obj = np.array([50000]*6 + unit_cost + [0.05*c for c in unit_cost])"
   ]
  },
  {
   "cell_type": "code",
   "execution_count": 207,
   "id": "017a795a",
   "metadata": {},
   "outputs": [
    {
     "name": "stderr",
     "output_type": "stream",
     "text": [
      "<ipython-input-207-73a4389047bf>:1: DeprecationWarning: Deprecated, use Model.addMConstr() instead\n",
      "  pigskin = create_model(A, sense, b, obj, opt=gp.GRB.MINIMIZE, vtype=types, ub=ub, lb=lb)\n"
     ]
    }
   ],
   "source": [
    "pigskin = create_model(A, sense, b, obj, opt=gp.GRB.MINIMIZE, vtype=types, ub=ub, lb=lb)"
   ]
  },
  {
   "cell_type": "code",
   "execution_count": 208,
   "id": "77add1b7",
   "metadata": {},
   "outputs": [
    {
     "data": {
      "text/plain": [
       "1744550.0"
      ]
     },
     "execution_count": 208,
     "metadata": {},
     "output_type": "execute_result"
    }
   ],
   "source": [
    "pigskin.objVal"
   ]
  },
  {
   "cell_type": "code",
   "execution_count": 209,
   "id": "9d11672f",
   "metadata": {},
   "outputs": [
    {
     "data": {
      "text/plain": [
       "[1.0,\n",
       " -0.0,\n",
       " 1.0,\n",
       " 1.0,\n",
       " 1.0,\n",
       " -0.0,\n",
       " 20000.0,\n",
       " 0.0,\n",
       " 30000.0,\n",
       " 35000.0,\n",
       " 35000.0,\n",
       " 0.0,\n",
       " 15000.0,\n",
       " 0.0,\n",
       " 0.0,\n",
       " 0.0,\n",
       " 10000.0,\n",
       " 0.0]"
      ]
     },
     "execution_count": 209,
     "metadata": {},
     "output_type": "execute_result"
    }
   ],
   "source": [
    "pigskin.x"
   ]
  },
  {
   "cell_type": "code",
   "execution_count": 210,
   "id": "2cc3dd07",
   "metadata": {},
   "outputs": [
    {
     "data": {
      "text/plain": [
       "['=', '=', '=', '=', '=', '=', '<', '<', '<', '<', '<', '<']"
      ]
     },
     "execution_count": 210,
     "metadata": {},
     "output_type": "execute_result"
    }
   ],
   "source": [
    "sense"
   ]
  },
  {
   "cell_type": "code",
   "execution_count": null,
   "id": "26fa1465",
   "metadata": {},
   "outputs": [],
   "source": []
  }
 ],
 "metadata": {
  "kernelspec": {
   "display_name": "Python 3",
   "language": "python",
   "name": "python3"
  },
  "language_info": {
   "codemirror_mode": {
    "name": "ipython",
    "version": 3
   },
   "file_extension": ".py",
   "mimetype": "text/x-python",
   "name": "python",
   "nbconvert_exporter": "python",
   "pygments_lexer": "ipython3",
   "version": "3.8.8"
  }
 },
 "nbformat": 4,
 "nbformat_minor": 5
}
