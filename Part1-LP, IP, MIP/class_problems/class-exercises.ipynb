{
 "cells": [
  {
   "cell_type": "code",
   "execution_count": 2,
   "id": "5c3983f9",
   "metadata": {},
   "outputs": [],
   "source": [
    "import numpy as np\n",
    "import gurobipy as gp"
   ]
  },
  {
   "cell_type": "code",
   "execution_count": 17,
   "id": "2a0d1f84",
   "metadata": {},
   "outputs": [],
   "source": [
    "def create_model(A, sense, b, obj, opt=gp.GRB.MAXIMIZE, ub=None, lb=None):\n",
    "    # creating model\n",
    "    model = gp.Model()\n",
    "\n",
    "    # creating variable an setting the constraints\n",
    "    if ub is None:\n",
    "        modx = model.addMVar(A.shape[1])\n",
    "    else:\n",
    "        modx = model.addMVar(A.shape[1], ub=ub)\n",
    "    mod_con = model.addMConstrs(A, modx, sense, b)\n",
    "\n",
    "    # setting the objective function\n",
    "    model.setMObjective(None, obj, 0, sense=opt)\n",
    " \n",
    "    # restricting gurobi logs\n",
    "    model.Params.OutputFlag = 0\n",
    "\n",
    "    # optimizing the function\n",
    "    model.optimize()\n",
    "    \n",
    "    return model"
   ]
  },
  {
   "cell_type": "markdown",
   "id": "cdc94185",
   "metadata": {},
   "source": [
    "## Train wagon problem"
   ]
  },
  {
   "cell_type": "code",
   "execution_count": 18,
   "id": "b78cf6be",
   "metadata": {},
   "outputs": [],
   "source": [
    "# creating the objective array\n",
    "obj = np.array([2000, 2500, 5000, 3500]*3)\n",
    "\n",
    "# creating the constraint matrix\n",
    "A = np.zeros((10, 12))\n",
    "\n",
    "# creating the total tons constrains\n",
    "A[0, :4] = 1\n",
    "A[1, 4:8] = 1\n",
    "A[2, 8:] = 1\n",
    "\n",
    "# volume constraints for each wagon\n",
    "A[3, :4] = [400, 300, 200, 500]\n",
    "A[4, 4:8] = [400, 300, 200, 500]\n",
    "A[5, 8:] =  [400, 300, 200, 500]\n",
    "\n",
    "# total tons in each car\n",
    "A[6, 0] = 1\n",
    "A[6, 4] = 1\n",
    "A[6, 8] = 1\n",
    "\n",
    "A[7, 1] = 1\n",
    "A[7, 5] = 1\n",
    "A[7, 9] = 1\n",
    "\n",
    "A[8, 2] = 1\n",
    "A[8, 6] = 1\n",
    "A[8, 10] = 1\n",
    "\n",
    "A[9, 3] = 1\n",
    "A[9, 7] = 1\n",
    "A[9, 11] = 1"
   ]
  },
  {
   "cell_type": "code",
   "execution_count": 19,
   "id": "08e13d06",
   "metadata": {},
   "outputs": [],
   "source": [
    "# constraint limits\n",
    "b = np.array([10, 8, 12, 5000, 4000, 8000, 18, 10, 5, 20])\n",
    "\n",
    "# direction of constraints\n",
    "sense = np.array(['<'] * 10)"
   ]
  },
  {
   "cell_type": "code",
   "execution_count": 20,
   "id": "b73b3f46",
   "metadata": {},
   "outputs": [],
   "source": [
    "train_model = gp.Model()\n",
    "\n",
    "train_modx = train_model.addMVar(A.shape[1])\n",
    "train_mod_con = train_model.addMConstrs(A, train_modx, sense, b)\n",
    "\n",
    "train_model.setMObjective(None, obj, 0, sense=gp.GRB.MAXIMIZE)\n",
    "\n",
    "train_model.Params.OutputFlag = 0"
   ]
  },
  {
   "cell_type": "code",
   "execution_count": 21,
   "id": "bdec0aea",
   "metadata": {},
   "outputs": [],
   "source": [
    "train_model.optimize()"
   ]
  },
  {
   "cell_type": "code",
   "execution_count": 22,
   "id": "81a257c9",
   "metadata": {},
   "outputs": [
    {
     "data": {
      "text/plain": [
       "[0.0, 5.0, 5.0, 0.0, 0.0, 0.0, 0.0, 8.0, 0.0, 0.0, 0.0, 12.0]"
      ]
     },
     "execution_count": 22,
     "metadata": {},
     "output_type": "execute_result"
    }
   ],
   "source": [
    "train_model.x"
   ]
  },
  {
   "cell_type": "code",
   "execution_count": 23,
   "id": "2b7c3b9c",
   "metadata": {},
   "outputs": [
    {
     "data": {
      "text/plain": [
       "107500.0"
      ]
     },
     "execution_count": 23,
     "metadata": {},
     "output_type": "execute_result"
    }
   ],
   "source": [
    "train_model.objVal"
   ]
  },
  {
   "cell_type": "markdown",
   "id": "25588e01",
   "metadata": {},
   "source": [
    "## Oil problem"
   ]
  },
  {
   "cell_type": "code",
   "execution_count": 10,
   "id": "45c82d9f",
   "metadata": {},
   "outputs": [],
   "source": [
    "obj = np.array([20, 15])\n",
    "\n",
    "A = np.zeros((5, 2))\n",
    "\n",
    "A[0, :] = [0.3, 0.4]\n",
    "A[1, :] = [0.4, 0.2]\n",
    "A[2, :] = [0.2, 0.3]\n",
    "A[3, 0] = 1\n",
    "A[4, 1] = 1\n",
    "\n",
    "b = [2000, 1500, 5000, 9000, 6000]\n",
    "\n",
    "sense = ['<', '<', '<', '<', '<']"
   ]
  },
  {
   "cell_type": "code",
   "execution_count": 11,
   "id": "bc90c7d1",
   "metadata": {},
   "outputs": [],
   "source": [
    "oil_model = gp.Model()\n",
    "\n",
    "oil_modx = oil_model.addMVar(A.shape[1])\n",
    "oil_mod_con = oil_model.addMConstrs(A, oil_modx, sense, b)\n",
    "\n",
    "oil_model.setMObjective(None, obj, 0, sense=gp.GRB.MAXIMIZE)\n",
    "\n",
    "oil_model.Params.OutputFlag = 0"
   ]
  },
  {
   "cell_type": "code",
   "execution_count": 12,
   "id": "b33f5ff7",
   "metadata": {},
   "outputs": [],
   "source": [
    "oil_model.optimize()"
   ]
  },
  {
   "cell_type": "code",
   "execution_count": 13,
   "id": "f257b99a",
   "metadata": {},
   "outputs": [
    {
     "data": {
      "text/plain": [
       "92500.0"
      ]
     },
     "execution_count": 13,
     "metadata": {},
     "output_type": "execute_result"
    }
   ],
   "source": [
    "oil_model.objVal"
   ]
  },
  {
   "cell_type": "code",
   "execution_count": 14,
   "id": "288f38af",
   "metadata": {},
   "outputs": [
    {
     "data": {
      "text/plain": [
       "[2000.0, 3500.0]"
      ]
     },
     "execution_count": 14,
     "metadata": {},
     "output_type": "execute_result"
    }
   ],
   "source": [
    "oil_model.x"
   ]
  },
  {
   "cell_type": "markdown",
   "id": "363126b8",
   "metadata": {},
   "source": [
    "## Short term financing"
   ]
  },
  {
   "cell_type": "code",
   "execution_count": 30,
   "id": "8e97e0f3",
   "metadata": {},
   "outputs": [],
   "source": [
    "A = np.zeros((6, 14))\n",
    "b = np.zeros(6)\n",
    "\n",
    "# first constraint\n",
    "A[0, 0] = 1\n",
    "A[0, 5] = 1\n",
    "A[0, 8] = -1\n",
    "b[0] = 150\n",
    "\n",
    "# second constraint\n",
    "A[1, 0] = -1.01\n",
    "A[1, 1] = 1\n",
    "A[1, 6] = 1\n",
    "A[1, 8] = 1.003\n",
    "A[1, 9] = -1\n",
    "b[1] = 100\n",
    "\n",
    "# third constraint\n",
    "A[2, 1] = -1.01\n",
    "A[2, 2] = 1\n",
    "A[2, 7] = 1\n",
    "A[2, 9] = 1.003\n",
    "A[2, 10] = -1\n",
    "b[2] = -200\n",
    "\n",
    "# forth constraint\n",
    "A[3, 2] = -1.01\n",
    "A[3, 3] = 1\n",
    "A[3, 5] = -1.02\n",
    "A[3, 10] = 1.003\n",
    "A[3, 11] = -1\n",
    "b[3] = 200\n",
    "\n",
    "# fift constraint\n",
    "A[4, 3] = -1.01\n",
    "A[4, 4] = 1\n",
    "A[4, 6] = -1.02\n",
    "A[4, 11] = 1.003\n",
    "A[4, 12] = -1\n",
    "b[4] = -50\n",
    "\n",
    "# sixth constraint\n",
    "A[5, 4] = -1.01\n",
    "A[5, 7] = -1.02\n",
    "A[5, 12] = 1.003\n",
    "A[5, 13] = -1\n",
    "b[5] = -300\n",
    "\n",
    "# direciton of constraint\n",
    "sense = ['=']*6\n",
    "\n",
    "# upper bounds\n",
    "ub = [100]*5 + [np.inf]*9\n",
    "\n",
    "# objective function\n",
    "c = np.array([0]*13 + [1])\n"
   ]
  },
  {
   "cell_type": "code",
   "execution_count": 33,
   "id": "b5ab2253",
   "metadata": {},
   "outputs": [
    {
     "name": "stderr",
     "output_type": "stream",
     "text": [
      "<ipython-input-33-583559b903de>:1: DeprecationWarning: Deprecated, use Model.addMConstr() instead\n",
      "  short_fin_model = create_model(A, sense, b, c, opt=gp.GRB.MAXIMIZE, ub=None)\n"
     ]
    }
   ],
   "source": [
    "short_fin_model = create_model(A, sense, b, c, opt=gp.GRB.MAXIMIZE, ub=None)"
   ]
  },
  {
   "cell_type": "code",
   "execution_count": 41,
   "id": "a6c897e5",
   "metadata": {},
   "outputs": [
    {
     "name": "stdout",
     "output_type": "stream",
     "text": [
      "bank loans\n",
      "[0.0, 50.98039215686275, 0.0, 0.0, 0.0]\n",
      "commercial paper\n",
      "[150.0, 49.01960784313725, 203.4343635759389, 0.0]\n",
      "excess money\n",
      "[0.0, 351.9441674975075, 0.0, 0.0, 92.49694915254233]\n"
     ]
    }
   ],
   "source": [
    "# bank loans\n",
    "print('bank loans')\n",
    "print(short_fin_model.x[:5])\n",
    "\n",
    "# commercial paper\n",
    "print('commercial paper')\n",
    "print(short_fin_model.x[5:9])\n",
    "\n",
    "# excess money\n",
    "print('excess money')\n",
    "print(short_fin_model.x[9:])"
   ]
  },
  {
   "cell_type": "code",
   "execution_count": 40,
   "id": "3e11bf98",
   "metadata": {},
   "outputs": [
    {
     "data": {
      "text/plain": [
       "92.49694915254233"
      ]
     },
     "execution_count": 40,
     "metadata": {},
     "output_type": "execute_result"
    }
   ],
   "source": [
    "# final return\n",
    "short_fin_model.objVal"
   ]
  },
  {
   "cell_type": "code",
   "execution_count": null,
   "id": "97fba434",
   "metadata": {},
   "outputs": [],
   "source": []
  }
 ],
 "metadata": {
  "kernelspec": {
   "display_name": "Python 3",
   "language": "python",
   "name": "python3"
  },
  "language_info": {
   "codemirror_mode": {
    "name": "ipython",
    "version": 3
   },
   "file_extension": ".py",
   "mimetype": "text/x-python",
   "name": "python",
   "nbconvert_exporter": "python",
   "pygments_lexer": "ipython3",
   "version": "3.8.8"
  }
 },
 "nbformat": 4,
 "nbformat_minor": 5
}
