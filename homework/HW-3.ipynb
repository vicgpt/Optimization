{
 "cells": [
  {
   "cell_type": "code",
   "execution_count": 2,
   "id": "cefca2ce",
   "metadata": {},
   "outputs": [],
   "source": [
    "import numpy as np\n",
    "import gurobipy as gp"
   ]
  },
  {
   "cell_type": "markdown",
   "id": "3a7859db",
   "metadata": {},
   "source": [
    "# Q2"
   ]
  },
  {
   "cell_type": "code",
   "execution_count": 3,
   "id": "afee9d5a",
   "metadata": {},
   "outputs": [],
   "source": [
    "A = np.zeros((3, 4))\n",
    "b = np.zeros(3)\n",
    "sense = ['']*3\n",
    "\n",
    "A[0, :] = np.array([6, 3, 5, 2])\n",
    "b[0] = 11\n",
    "sense[0] = '<'\n",
    "\n",
    "A[1, :] = np.array([0, 0, 1, 1])\n",
    "b[1] = 1\n",
    "sense[1] = '<'\n",
    "\n",
    "A[2, :] = np.array([1, 1, 0, 1])\n",
    "b[2] = 1\n",
    "sense[2] = '>'\n",
    "\n",
    "obj = np.array([9, 5, 6, 4])"
   ]
  },
  {
   "cell_type": "code",
   "execution_count": 4,
   "id": "a1f300db",
   "metadata": {},
   "outputs": [
    {
     "name": "stdout",
     "output_type": "stream",
     "text": [
      "Academic license - for non-commercial use only - expires 2022-08-21\n",
      "Using license file C:\\gurobi912\\gurobi.lic\n"
     ]
    }
   ],
   "source": [
    "model = gp.Model()\n",
    "\n",
    "model_x = model.addMVar(4, vtype=['B']*4)\n",
    "model_con = model.addMConstrs(A, model_x, sense, b)\n",
    "model.setMObjective(None,obj,0,sense=gp.GRB.MAXIMIZE)\n",
    "\n",
    "model.Params.OutputFlag = 0 \n",
    "model.optimize()"
   ]
  },
  {
   "cell_type": "code",
   "execution_count": 5,
   "id": "565814b5",
   "metadata": {},
   "outputs": [
    {
     "data": {
      "text/plain": [
       "[1.0, 1.0, 0.0, 1.0]"
      ]
     },
     "execution_count": 5,
     "metadata": {},
     "output_type": "execute_result"
    }
   ],
   "source": [
    "model.x"
   ]
  },
  {
   "cell_type": "code",
   "execution_count": 6,
   "id": "8a72a16a",
   "metadata": {},
   "outputs": [
    {
     "data": {
      "text/plain": [
       "18.0"
      ]
     },
     "execution_count": 6,
     "metadata": {},
     "output_type": "execute_result"
    }
   ],
   "source": [
    "model.objVal # profit"
   ]
  },
  {
   "cell_type": "code",
   "execution_count": 7,
   "id": "5a679800",
   "metadata": {},
   "outputs": [
    {
     "data": {
      "text/plain": [
       "11.0"
      ]
     },
     "execution_count": 7,
     "metadata": {},
     "output_type": "execute_result"
    }
   ],
   "source": [
    "model.x @ A[0, :] # captial expense"
   ]
  },
  {
   "cell_type": "markdown",
   "id": "72d65b36",
   "metadata": {},
   "source": [
    "# Q3"
   ]
  },
  {
   "cell_type": "code",
   "execution_count": 8,
   "id": "5c041692",
   "metadata": {},
   "outputs": [],
   "source": [
    "A = np.zeros((12, 12))\n",
    "b = np.ones(12)\n",
    "sense = ['>']*12\n",
    "\n",
    "A[0, :] = np.array([1, 0, 1, 0, 1, 0, 1, 1, 1, 0, 0, 0])\n",
    "\n",
    "A[1, :] = np.array([0, 1, 0, 0, 0, 0, 0, 1, 1, 0, 0, 0])\n",
    "\n",
    "A[2, :] = np.array([1, 0, 1, 0, 0, 0, 1, 1, 1, 0, 0, 0])\n",
    "\n",
    "A[3, :] = np.array([0, 0, 0, 1, 0, 0, 0, 0, 0, 1, 0, 0])\n",
    "\n",
    "A[4, :] = np.array([1, 0, 0, 0, 1, 0, 1, 0, 0, 0, 0, 0])\n",
    "\n",
    "A[5, :] = np.array([0, 0, 0, 0, 0, 1, 0, 0, 0, 1, 0, 0])\n",
    "\n",
    "A[6, :] = np.array([1, 0, 1, 0, 1, 0, 1, 0, 0, 0, 0, 0])\n",
    "\n",
    "A[7, :] = np.array([1, 1, 1, 0, 0, 0, 1, 1, 0, 0, 0, 0])\n",
    "\n",
    "A[8, :] = np.array([1, 1, 1, 0, 0, 0, 1, 1, 0, 0, 0, 0])\n",
    "\n",
    "A[9, :] = np.array([0, 0, 0, 1, 0, 1, 0, 0, 0, 1, 1, 1])\n",
    "\n",
    "A[10, :] = np.array([0, 0, 0, 0, 0, 1, 0, 0, 0, 1, 1, 1])\n",
    "\n",
    "A[11, :] = np.array([0, 0, 0, 0, 0, 0, 0, 0, 0, 1, 1, 1])\n",
    "\n",
    "obj = np.ones(12)"
   ]
  },
  {
   "cell_type": "code",
   "execution_count": 9,
   "id": "976da093",
   "metadata": {},
   "outputs": [],
   "source": [
    "model = gp.Model()\n",
    "\n",
    "model_x = model.addMVar(len(obj), vtype=['B']*len(obj))\n",
    "model_con = model.addMConstrs(A, model_x, sense, b)\n",
    "model.setMObjective(None,obj,0,sense=gp.GRB.MINIMIZE)\n",
    "\n",
    "model.Params.OutputFlag = 0 \n",
    "model.optimize()"
   ]
  },
  {
   "cell_type": "code",
   "execution_count": 10,
   "id": "b24fe699",
   "metadata": {},
   "outputs": [
    {
     "data": {
      "text/plain": [
       "[1.0, 0.0, 0.0, 0.0, 0.0, 0.0, 0.0, 1.0, 0.0, 1.0, 0.0, 0.0]"
      ]
     },
     "execution_count": 10,
     "metadata": {},
     "output_type": "execute_result"
    }
   ],
   "source": [
    "model.x"
   ]
  },
  {
   "cell_type": "code",
   "execution_count": 11,
   "id": "44de9428",
   "metadata": {},
   "outputs": [
    {
     "data": {
      "text/plain": [
       "3.0"
      ]
     },
     "execution_count": 11,
     "metadata": {},
     "output_type": "execute_result"
    }
   ],
   "source": [
    "model.objVal"
   ]
  },
  {
   "cell_type": "markdown",
   "id": "233c4eef",
   "metadata": {},
   "source": [
    "# Q4"
   ]
  },
  {
   "cell_type": "code",
   "execution_count": 12,
   "id": "614dc01e",
   "metadata": {},
   "outputs": [],
   "source": [
    "A = np.zeros((3, 7))\n",
    "b = np.zeros(3)\n",
    "sense = ['>']*3\n",
    "\n",
    "A[0, :] = np.array([4, 3, 2, 1, 1, 0, 0])\n",
    "b[0] = 233\n",
    "\n",
    "A[1, :] = np.array([0, 1, 0, 2, 1, 3, 0])\n",
    "b[1] = 148\n",
    "\n",
    "A[2, :] = np.array([0, 0, 1, 0, 1, 0, 2])\n",
    "b[2] = 106\n",
    "\n",
    "obj = np.array([20, 8, 16, 21, 4, 9, 12])"
   ]
  },
  {
   "cell_type": "code",
   "execution_count": 13,
   "id": "9e3894d2",
   "metadata": {},
   "outputs": [],
   "source": [
    "model = gp.Model()\n",
    "\n",
    "model_x = model.addMVar(len(obj), vtype=['I']*len(obj))\n",
    "model_con = model.addMConstrs(A, model_x, sense, b)\n",
    "model.setMObjective(None,obj,0,sense=gp.GRB.MINIMIZE)\n",
    "\n",
    "model.Params.OutputFlag = 0 \n",
    "model.optimize()"
   ]
  },
  {
   "cell_type": "code",
   "execution_count": 14,
   "id": "626a05b3",
   "metadata": {},
   "outputs": [
    {
     "data": {
      "text/plain": [
       "[0.0, 42.0, -0.0, -0.0, 107.0, -0.0, -0.0]"
      ]
     },
     "execution_count": 14,
     "metadata": {},
     "output_type": "execute_result"
    }
   ],
   "source": [
    "model.x"
   ]
  },
  {
   "cell_type": "code",
   "execution_count": 15,
   "id": "086d8d38",
   "metadata": {},
   "outputs": [
    {
     "data": {
      "text/plain": [
       "764.0"
      ]
     },
     "execution_count": 15,
     "metadata": {},
     "output_type": "execute_result"
    }
   ],
   "source": [
    "model.objVal"
   ]
  },
  {
   "cell_type": "code",
   "execution_count": 16,
   "id": "5166dbce",
   "metadata": {},
   "outputs": [
    {
     "data": {
      "text/plain": [
       "array([233., 149., 107.])"
      ]
     },
     "execution_count": 16,
     "metadata": {},
     "output_type": "execute_result"
    }
   ],
   "source": [
    "# checking constraint\n",
    "model.x @ A.T"
   ]
  },
  {
   "cell_type": "markdown",
   "id": "d5c6f88b",
   "metadata": {},
   "source": [
    "# Q5"
   ]
  },
  {
   "cell_type": "code",
   "execution_count": 17,
   "id": "22403700",
   "metadata": {},
   "outputs": [],
   "source": [
    "A = np.zeros((7, 7))\n",
    "b = np.zeros(7)\n",
    "sense = ['>']*7\n",
    "\n",
    "A[0, :] = np.array([1, 0, 0, 1, 1, 1, 1])\n",
    "b[0] = 5\n",
    "\n",
    "A[1, :] = np.array([1, 1, 0, 0, 1, 1, 1])\n",
    "b[1] = 13\n",
    "\n",
    "A[2, :] = np.array([1, 1, 1, 0, 0, 1, 1])\n",
    "b[2] = 12\n",
    "\n",
    "A[3, :] = np.array([1, 1, 1, 1, 0, 0, 1])\n",
    "b[3] = 10\n",
    "\n",
    "A[4, :5] = np.ones(5)\n",
    "b[4] = 14\n",
    "\n",
    "A[5, 1:6] = np.ones(5)\n",
    "b[5] = 8\n",
    "\n",
    "A[6, 2:] = np.ones(5)\n",
    "b[6] = 6\n",
    "\n",
    "obj = np.array([330, 300, 330, 360, 360, 360, 360])"
   ]
  },
  {
   "cell_type": "code",
   "execution_count": 18,
   "id": "f03abfcd",
   "metadata": {},
   "outputs": [],
   "source": [
    "model = gp.Model()\n",
    "\n",
    "model_x = model.addMVar(len(obj), vtype=['I']*len(obj))\n",
    "model_con = model.addMConstrs(A, model_x, sense, b)\n",
    "model.setMObjective(None,obj,0,sense=gp.GRB.MINIMIZE)\n",
    "\n",
    "model.Params.OutputFlag = 0 \n",
    "model.optimize()"
   ]
  },
  {
   "cell_type": "code",
   "execution_count": 19,
   "id": "0c8cfa14",
   "metadata": {},
   "outputs": [
    {
     "data": {
      "text/plain": [
       "[1.0, 8.0, 2.0, -0.0, 3.0, 1.0, -0.0]"
      ]
     },
     "execution_count": 19,
     "metadata": {},
     "output_type": "execute_result"
    }
   ],
   "source": [
    "model.x"
   ]
  },
  {
   "cell_type": "code",
   "execution_count": 20,
   "id": "bd667426",
   "metadata": {},
   "outputs": [
    {
     "data": {
      "text/plain": [
       "4830.0"
      ]
     },
     "execution_count": 20,
     "metadata": {},
     "output_type": "execute_result"
    }
   ],
   "source": [
    "model.objVal"
   ]
  },
  {
   "cell_type": "code",
   "execution_count": 21,
   "id": "a9a839d7",
   "metadata": {},
   "outputs": [
    {
     "data": {
      "text/plain": [
       "array([ 5., 13., 12., 11., 14., 14.,  6.])"
      ]
     },
     "execution_count": 21,
     "metadata": {},
     "output_type": "execute_result"
    }
   ],
   "source": [
    "# checking constraint\n",
    "model.x @ A.T"
   ]
  },
  {
   "cell_type": "code",
   "execution_count": null,
   "id": "b10d6035",
   "metadata": {},
   "outputs": [],
   "source": []
  },
  {
   "cell_type": "code",
   "execution_count": null,
   "id": "ea834c5f",
   "metadata": {},
   "outputs": [],
   "source": []
  }
 ],
 "metadata": {
  "kernelspec": {
   "display_name": "Python 3",
   "language": "python",
   "name": "python3"
  },
  "language_info": {
   "codemirror_mode": {
    "name": "ipython",
    "version": 3
   },
   "file_extension": ".py",
   "mimetype": "text/x-python",
   "name": "python",
   "nbconvert_exporter": "python",
   "pygments_lexer": "ipython3",
   "version": "3.8.8"
  }
 },
 "nbformat": 4,
 "nbformat_minor": 5
}
