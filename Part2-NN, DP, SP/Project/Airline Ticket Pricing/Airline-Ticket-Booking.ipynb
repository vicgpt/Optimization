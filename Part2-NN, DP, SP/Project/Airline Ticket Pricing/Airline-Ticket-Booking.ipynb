{
 "cells": [
  {
   "cell_type": "code",
   "execution_count": 71,
   "id": "a5630a5e",
   "metadata": {},
   "outputs": [],
   "source": [
    "import numpy as np\n",
    "from scipy.stats import binom\n",
    "import matplotlib.pyplot as plt"
   ]
  },
  {
   "cell_type": "markdown",
   "id": "485016e1",
   "metadata": {},
   "source": [
    "**Problem Statement**\n",
    "\n",
    "* For a given overbooking policy identify the optimal pricing strategy for a year of flight prices. \n",
    "* Each day price can be set as high or low for both coach and first class. Based on the maximum expected value, best policy will be identify the prices to be set for coach and first class tickets"
   ]
  },
  {
   "cell_type": "markdown",
   "id": "2ddb856d",
   "metadata": {},
   "source": [
    "**Probabilities and cost information**\n",
    "\n",
    "* Probabilities for selling a ticket as well as probability of traveller showing up during the day of the flight as mentioned in the problem statement. \n",
    "* Also, the revenue obtained from selling a seat in both coach and first class based on different pricing policy for the day. "
   ]
  },
  {
   "cell_type": "code",
   "execution_count": 2,
   "id": "44619ac9",
   "metadata": {},
   "outputs": [],
   "source": [
    "# known variables\n",
    "n_days = 365\n",
    "coach_seats = 100\n",
    "first_seats = 20\n",
    "\n",
    "prices = {'c': {'l': 300, 'h':350}, 'f':{'l': 425, 'h':500}}\n",
    "overbooking_cost = {'c': 50, 'f': 425}\n",
    "\n",
    "showup_probs = {'c': 0.95, 'f': 0.97}\n",
    "sell_probs = {'c':{'l': 0.65, 'h': 0.3}, 'f':{'l': 0.08, 'h':0.04}}\n",
    "\n",
    "disc_yr = 0.15\n",
    "disc_daily = 1/(1+disc_yr/365)"
   ]
  },
  {
   "cell_type": "markdown",
   "id": "7e2bcab1",
   "metadata": {},
   "source": [
    "**Estimation of cost on the day of the flight**\n",
    "\n",
    "Since there is no revenue from selling the tickets during the day of the flight, there will be only cost associated with overbookin in coach and first class.\n",
    "Negative of expected cost will be calculated for value function on the last day for all possible values of tickets sold in coach and first class"
   ]
  },
  {
   "cell_type": "code",
   "execution_count": 3,
   "id": "cf587574",
   "metadata": {},
   "outputs": [],
   "source": [
    "def last_day_cost(c, f, overbooking_cost, showup_probs, coach_seats=100, first_seats=20):\n",
    "    # creating joint probability and joint cost\n",
    "    cost_arr = np.zeros((c+1, f+1))\n",
    "    prob_arr = np.zeros((c+1, f+1))\n",
    "    \n",
    "    for i in range(cost_arr.shape[0]):\n",
    "        for j in range(cost_arr.shape[1]):\n",
    "            # getting probabilities\n",
    "            prob_arr[i, j] =  binom.pmf(i, c, showup_probs['c']) * binom.pmf(j, f, showup_probs['f'])\n",
    "            \n",
    "            if (i < coach_seats) & (j < first_seats):\n",
    "                cost_arr[i, j] = 0\n",
    "            elif (i < coach_seats) & (j >= first_seats):\n",
    "                kick_f = j - first_seats\n",
    "                cost_arr[i, j] = kick_f*overbooking_cost['f']\n",
    "            elif (i >= coach_seats) & (j < first_seats):\n",
    "                transfer_c = min(first_seats-j, i-coach_seats)\n",
    "                kick_c = max(0, i-coach_seats-transfer_f)\n",
    "                cost_arr[i, j] = transfer_c * overbooking_cost['c'] + kick_c * overbooking_cost['f']\n",
    "                # print(transfer_f, kick_c)\n",
    "            else:\n",
    "                kick_c = max(0, i-coach_seats) \n",
    "                kick_f = max(0, j-first_seats)\n",
    "                cost_arr[i, j] = kick_c * overbooking_cost['f'] + kick_f * overbooking_cost['f']\n",
    "                # print(kick_c, kick_f)\n",
    "            # print(cost_arr[i, j])\n",
    "            \n",
    "    total_cost = np.sum(np.multiply(cost_arr, prob_arr))\n",
    "    \n",
    "    return total_cost #, cost_arr, prob_arr"
   ]
  },
  {
   "cell_type": "code",
   "execution_count": 4,
   "id": "5afc43bf",
   "metadata": {},
   "outputs": [],
   "source": [
    "# for cases where first class seats are all booking, but some coach are overbooked\n",
    "# it will be assumed that first class seats cant be given to coach\n",
    "# def last_day_cost(c, f, overbooking_cost, showup_probs, coach_seats=100, first_seats=20):\n",
    "    \n",
    "#     # costs for first class\n",
    "#     first_cost_arr = np.zeros(f+1)\n",
    "#     for i in range(len(first_cost_arr)):\n",
    "#         if i > first_seats:\n",
    "#             first_cost_arr[i] = overbooking_cost['f'] \n",
    "            \n",
    "#     # costs for coach\n",
    "#     coach_cost_arr = np.zeros(c+1)\n",
    "#     extra_first_seats = max(0, first_seats-f)\n",
    "#     for i in range(len(coach_cost_arr)):\n",
    "#         if i <= coach_seats:\n",
    "#             coach_cost_arr[i] = 0\n",
    "#         elif i <= coach_seats + extra_first_seats:\n",
    "#             coach_cost_arr[i] = max(0, coach_seats + extra_first_seats - i) * overbooking_cost['c']\n",
    "#         else:\n",
    "#             coach_cost_arr[i] = max(0, i - coach_seats - extra_first_seats) * overbooking_cost['f']\n",
    "            \n",
    "#     # expected cost for first class\n",
    "#     first_probs = binom.pmf([i for i in range(f+1)], f, showup_probs['f'])\n",
    "#     first_exp_cost = first_probs @ first_cost_arr\n",
    "    \n",
    "#     # expected cost for coach class\n",
    "#     coach_probs = binom.pmf([i for i in range(c+1)], c, showup_probs['c'])\n",
    "#     coach_exp_cost = coach_probs @ coach_cost_arr\n",
    "    \n",
    "#     total_cost = first_exp_cost + coach_exp_cost\n",
    "    \n",
    "#     return total_cost"
   ]
  },
  {
   "cell_type": "markdown",
   "id": "db2aae97",
   "metadata": {},
   "source": [
    "**Expected revenue for the day and value function**\n",
    "\n",
    "Function defined to - \n",
    "1. calculate the expected revenue from the sale of tickets in both class\n",
    "2. calculate the discounted value function from tomorrow"
   ]
  },
  {
   "cell_type": "code",
   "execution_count": 5,
   "id": "75cdd63d",
   "metadata": {},
   "outputs": [],
   "source": [
    "# expected revenue\n",
    "# given the price of coach and first class, calculating the expected revenue based on\n",
    "# probability of sale\n",
    "def exp_rev(c, f, cp, fp, V, prices, sell_probs):\n",
    "    rev = 0\n",
    "    if (c == V.shape[0] - 1) & (f == V.shape[1] - 1):\n",
    "        rev = 0\n",
    "    elif (c == V.shape[0] - 1) & (f < V.shape[1] - 1):\n",
    "        rev = (\n",
    "            prices['f'][fp] * sell_probs['f'][fp] + \n",
    "            0 * (1 - sell_probs['f'][fp])\n",
    "        )\n",
    "    elif (c < V.shape[0] - 1) & (f == V.shape[1] - 1):\n",
    "        rev = (\n",
    "            prices['c'][cp] * sell_probs['c'][cp] + \n",
    "            0 * (1 - sell_probs['c'][cp])\n",
    "        )\n",
    "    else:\n",
    "        rev = (\n",
    "            (prices['c'][cp] + prices['f'][fp]) * sell_probs['c'][cp] * sell_probs['f'][fp] + \n",
    "            prices['c'][cp] * sell_probs['c'][cp] * (1 - sell_probs['f'][fp]) + \n",
    "            prices['f'][fp] * (1 - sell_probs['c'][cp]) * sell_probs['f'][fp] + \n",
    "            0 * (1 - sell_probs['c'][cp]) * (1 - sell_probs['f'][fp])\n",
    "            )\n",
    "    \n",
    "    return rev"
   ]
  },
  {
   "cell_type": "code",
   "execution_count": 6,
   "id": "066b8d14",
   "metadata": {},
   "outputs": [],
   "source": [
    "def exp_value_fn(c, f, t, cp, fp, V, sell_probs):\n",
    "    \n",
    "    if (c == V.shape[0]-1) & (f == V.shape[1]-1):\n",
    "        value_fn = V[c, f, t+1]\n",
    "    elif (c == V.shape[0]-1) & (f < V.shape[1] - 1):\n",
    "        value_fn = (\n",
    "            V[c, f+1, t+1] * sell_probs['f'][fp] +\n",
    "            V[c, f, t+1] * (1 - sell_probs['f'][fp])\n",
    "        )\n",
    "    elif (c < V.shape[0]-1) & (f == V.shape[1] - 1):\n",
    "        value_fn = (\n",
    "            V[c+1, f, t+1] * sell_probs['c'][cp] +\n",
    "            V[c, f, t+1] * (1 - sell_probs['c'][cp])\n",
    "        )\n",
    "    else:\n",
    "        value_fn = (\n",
    "            V[c+1, f+1, t+1] * sell_probs['c'][cp] * sell_probs['f'][fp] +\n",
    "            V[c+1, f, t+1] * sell_probs['c'][cp] * (1 - sell_probs['f'][fp]) + \n",
    "            V[c, f+1, t+1] * (1 - sell_probs['c'][cp]) * sell_probs['f'][fp] +\n",
    "            V[c, f, t+1] * (1 - sell_probs['c'][cp]) * (1 - sell_probs['f'][fp])\n",
    "        )\n",
    "    return value_fn"
   ]
  },
  {
   "cell_type": "markdown",
   "id": "11294628",
   "metadata": {},
   "source": [
    "**Initializing value and state matrix**\n",
    "\n",
    "Creating value function and state matrix (optimal policy matrix), and populating the value function (negative cost) for the day of the flight"
   ]
  },
  {
   "cell_type": "code",
   "execution_count": 7,
   "id": "696307f5",
   "metadata": {},
   "outputs": [],
   "source": [
    "coach_overbooked = 5\n",
    "first_overbooked = 0\n",
    "\n",
    "def value_state_init(coach_overbooked, first_overbooked, overbooking_cost, showup_probs,\n",
    "                     coach_seats=100, first_seats=20, n_days=365):\n",
    "    dim = (coach_seats+coach_overbooked+1, first_seats+first_overbooked+1, n_days+1)\n",
    "    V = np.zeros(dim)\n",
    "    U = np.zeros(dim)\n",
    "    \n",
    "    # last day value functions\n",
    "    for c in range(V.shape[0]):\n",
    "        for f in range(V.shape[1]):\n",
    "            V[c, f, -1] = - last_day_cost(c, f, overbooking_cost, showup_probs)\n",
    "    \n",
    "    return V, U"
   ]
  },
  {
   "cell_type": "markdown",
   "id": "a33a43f2",
   "metadata": {},
   "source": [
    "**Dynamics with Bellman equation to get optimal policy for each state**"
   ]
  },
  {
   "cell_type": "code",
   "execution_count": 8,
   "id": "f33ee087",
   "metadata": {},
   "outputs": [],
   "source": [
    "def bellman_dynamic_value_fn(V, U, sell_probs, prices):\n",
    "    price_choices = [('h', 'h'), ('h', 'l'), ('l', 'h'), ('l', 'l')]\n",
    "\n",
    "    for t in reversed(range(V.shape[2]-1)):\n",
    "        for c in range(V.shape[0]):\n",
    "            for f in range(V.shape[1]):\n",
    "                rev_choice = np.array(\n",
    "                    [exp_rev(c, f, cp, fp, V, prices, sell_probs) for cp, fp in price_choices])\n",
    "\n",
    "                value_fn_choice = np.array(\n",
    "                    [exp_value_fn(c, f, t, cp, fp, V, sell_probs) for cp, fp in price_choices])\n",
    "\n",
    "                total_value = rev_choice + disc_daily*value_fn_choice\n",
    "\n",
    "                V[c, f, t] = np.max(total_value)\n",
    "                U[c, f, t] = np.argmax(total_value)\n",
    "    \n",
    "    return V, U\n",
    "    "
   ]
  },
  {
   "cell_type": "code",
   "execution_count": 9,
   "id": "0d780af3",
   "metadata": {},
   "outputs": [],
   "source": [
    "V_init, U_init = value_state_init(coach_overbooked, first_overbooked, overbooking_cost, showup_probs)"
   ]
  },
  {
   "cell_type": "code",
   "execution_count": 10,
   "id": "6a2b7e70",
   "metadata": {},
   "outputs": [
    {
     "name": "stdout",
     "output_type": "stream",
     "text": [
      "Expected discounted revenue with coach overbooked by 5 seats is 42242.8621987949\n"
     ]
    }
   ],
   "source": [
    "V_matrix, U_matrix = bellman_dynamic_value_fn(V_init, U_init, sell_probs, prices)\n",
    "discounted_value = V_matrix[0, 0, 0]\n",
    "print('Expected discounted revenue with coach overbooked by', coach_overbooked, 'seats is', V_matrix[0, 0, 0])"
   ]
  },
  {
   "cell_type": "markdown",
   "id": "7e043c49",
   "metadata": {},
   "source": [
    "**Varied overbooking for coach - 5 - 15 seats**"
   ]
  },
  {
   "cell_type": "code",
   "execution_count": 12,
   "id": "ee8f9cdc",
   "metadata": {},
   "outputs": [
    {
     "name": "stdout",
     "output_type": "stream",
     "text": [
      "Getting discounted value for overbooking coach seats of  5\n",
      "Getting discounted value for overbooking coach seats of  6\n",
      "Getting discounted value for overbooking coach seats of  7\n",
      "Getting discounted value for overbooking coach seats of  8\n",
      "Getting discounted value for overbooking coach seats of  9\n",
      "Getting discounted value for overbooking coach seats of  10\n",
      "Getting discounted value for overbooking coach seats of  11\n",
      "Getting discounted value for overbooking coach seats of  12\n",
      "Getting discounted value for overbooking coach seats of  13\n",
      "Getting discounted value for overbooking coach seats of  14\n",
      "Getting discounted value for overbooking coach seats of  15\n"
     ]
    }
   ],
   "source": [
    "coach_overbooked_list = range(5, 16)\n",
    "discounted_value_list = []\n",
    "first_overbooked = 0\n",
    "V_list = []\n",
    "U_list = []\n",
    "\n",
    "for coach_overbooked in coach_overbooked_list:\n",
    "    print('Getting discounted value for overbooking coach seats of ', coach_overbooked) \n",
    "    V_init, U_init = value_state_init(coach_overbooked, first_overbooked, overbooking_cost, showup_probs)\n",
    "    V, U = bellman_dynamic_value_fn(V_init, U_init, sell_probs, prices)\n",
    "    V_list.append(V)\n",
    "    U_list.append(U)\n",
    "    discounted_value_list.append(V[0, 0, 0])"
   ]
  },
  {
   "cell_type": "code",
   "execution_count": 13,
   "id": "0b8893f4",
   "metadata": {
    "scrolled": true
   },
   "outputs": [
    {
     "data": {
      "text/plain": [
       "[42242.8621987949,\n",
       " 42368.86899301207,\n",
       " 42444.24121331706,\n",
       " 42482.211237591095,\n",
       " 42496.112304378534,\n",
       " 42495.97195739814,\n",
       " 42488.25953578187,\n",
       " 42476.99620870173,\n",
       " 42464.5979401546,\n",
       " 42452.36220993048,\n",
       " 42440.944844238824]"
      ]
     },
     "execution_count": 13,
     "metadata": {},
     "output_type": "execute_result"
    }
   ],
   "source": [
    "discounted_value_list"
   ]
  },
  {
   "cell_type": "code",
   "execution_count": 160,
   "id": "bfaabbf1",
   "metadata": {},
   "outputs": [
    {
     "name": "stdout",
     "output_type": "stream",
     "text": [
      "The optimal overbooking value is  9 with expected profit as 42496.112304378534\n"
     ]
    },
    {
     "data": {
      "image/png": "[encoded data removed]",
      "text/plain": [
       "<Figure size 432x288 with 1 Axes>"
      ]
     },
     "metadata": {
      "needs_background": "light"
     },
     "output_type": "display_data"
    }
   ],
   "source": [
    "plt.figure()\n",
    "plt.plot(coach_overbooked_list, discounted_value_list)\n",
    "plt.title('Expected discounted profit for different overbooking strategy')\n",
    "plt.xlabel('Coach overbookings')\n",
    "plt.ylabel('Expected discounted profit')\n",
    "\n",
    "optimal_overbooking = coach_overbooked_list[np.argmax(discounted_value_list)]\n",
    "print('The optimal overbooking value is ', optimal_overbooking, \n",
    "      'with expected profit as', np.max(discounted_value_list))"
   ]
  },
  {
   "cell_type": "markdown",
   "id": "4a13f1c8",
   "metadata": {},
   "source": [
    "**No sale choice for coach**"
   ]
  },
  {
   "cell_type": "code",
   "execution_count": 64,
   "id": "cbcec75a",
   "metadata": {},
   "outputs": [
    {
     "data": {
      "text/plain": [
       "{'c': {'l': 0.65, 'h': 0.3, 'ns': 0}, 'f': {'l': 0.08, 'h': 0.04}}"
      ]
     },
     "execution_count": 64,
     "metadata": {},
     "output_type": "execute_result"
    }
   ],
   "source": [
    "sell_probs"
   ]
  },
  {
   "cell_type": "code",
   "execution_count": 15,
   "id": "6021389b",
   "metadata": {},
   "outputs": [],
   "source": [
    "def bellman_dynamic_nosale_value_fn(V, U, sell_probs, prices):\n",
    "    price_choices = [('h', 'h'), ('h', 'l'), ('l', 'h'), ('l', 'l'), ('ns', 'h'), ('ns', 'l')]\n",
    "\n",
    "    for t in reversed(range(V.shape[2]-1)):\n",
    "        for c in range(V.shape[0]):\n",
    "            for f in range(V.shape[1]):\n",
    "                rev_choice = np.array(\n",
    "                    [exp_rev(c, f, cp, fp, V, prices, sell_probs) for cp, fp in price_choices])\n",
    "\n",
    "                value_fn_choice = np.array(\n",
    "                    [exp_value_fn(c, f, t, cp, fp, V, sell_probs) for cp, fp in price_choices])\n",
    "\n",
    "                total_value = rev_choice + disc_daily*value_fn_choice\n",
    "\n",
    "                V[c, f, t] = np.max(total_value)\n",
    "                U[c, f, t] = np.argmax(total_value)\n",
    "    \n",
    "    return V, U\n",
    "    "
   ]
  },
  {
   "cell_type": "code",
   "execution_count": 29,
   "id": "ae032223",
   "metadata": {},
   "outputs": [
    {
     "data": {
      "text/plain": [
       "{'c': {'l': 0.65, 'h': 0.3, 'ns': 0}, 'f': {'l': 0.08, 'h': 0.04}}"
      ]
     },
     "execution_count": 29,
     "metadata": {},
     "output_type": "execute_result"
    }
   ],
   "source": [
    "sell_probs"
   ]
  },
  {
   "cell_type": "code",
   "execution_count": 16,
   "id": "bea3a395",
   "metadata": {},
   "outputs": [
    {
     "name": "stdout",
     "output_type": "stream",
     "text": [
      "Getting discounted value for overbooking coach seats of  20\n"
     ]
    }
   ],
   "source": [
    "coach_overbooked = 20\n",
    "first_overbooked = 0\n",
    "\n",
    "sell_probs_ns = sell_probs.copy()\n",
    "sell_probs_ns['c']['ns'] = 0\n",
    "\n",
    "prices_ns = prices.copy()\n",
    "prices_ns['c']['ns'] = 0\n",
    "\n",
    "print('Getting discounted value for overbooking coach seats of ', coach_overbooked)\n",
    "V, U = value_state_init(coach_overbooked, first_overbooked, overbooking_cost, showup_probs)\n",
    "V, U = bellman_dynamic_nosale_value_fn(V, U, sell_probs_ns, prices_ns)\n",
    "discounted_value_no_sale = V[0, 0, 0]"
   ]
  },
  {
   "cell_type": "code",
   "execution_count": 17,
   "id": "a78d7916",
   "metadata": {
    "scrolled": true
   },
   "outputs": [
    {
     "data": {
      "text/plain": [
       "42502.67326124363"
      ]
     },
     "execution_count": 17,
     "metadata": {},
     "output_type": "execute_result"
    }
   ],
   "source": [
    "discounted_value_no_sale"
   ]
  },
  {
   "cell_type": "markdown",
   "id": "608195f5",
   "metadata": {},
   "source": [
    "**Policy diagnosis for - 1. Sale for both class each day 2. No sale flexiblity**\n",
    "\n",
    "Metrics- \n",
    "1. % Overbooking - How often is coach overbooked? \n",
    "2. High loss overbooking - How often are passengers kicked off the plane? \n",
    "3. Overbooking cost per passengar - What is the average overbooking cost? \n",
    "4. Change in final profit for each simulation - What is the volatility of discounted profits?"
   ]
  },
  {
   "cell_type": "code",
   "execution_count": 153,
   "id": "eafb2438",
   "metadata": {},
   "outputs": [],
   "source": [
    "n_iter = 1000"
   ]
  },
  {
   "cell_type": "code",
   "execution_count": 154,
   "id": "ce8d1ff4",
   "metadata": {},
   "outputs": [],
   "source": [
    "# Sale for both class each day - part 1 \n",
    "# choosing the best overbooking policy to evaluate\n",
    "np.random.seed(0)\n",
    "opt_ob_overbooked_cost_list = []\n",
    "opt_ob_transfer_list = []\n",
    "opt_ob_kick_list = []\n",
    "opt_ob_revenue_list = []\n",
    "\n",
    "for i in range(n_iter):\n",
    "    overbooked_cost = 0\n",
    "    transfer = 0\n",
    "    kick = 0\n",
    "    rev = np.zeros(n_days+1)\n",
    "\n",
    "    total_coach = optimal_overbooking + coach_seats\n",
    "    total_first = first_seats\n",
    "\n",
    "    price_choices = [('h', 'h'), ('h', 'l'), ('l', 'h'), ('l', 'l')]\n",
    "\n",
    "    c = 0\n",
    "    f = 0\n",
    "    V_optimal = V_list[np.argmax(discounted_value_list)]\n",
    "    U_optimal = U_list[np.argmax(discounted_value_list)]\n",
    "\n",
    "    # days for selling a ticket\n",
    "    for t in range(n_days):\n",
    "        #print(c, f, t)\n",
    "        idx = int(U_optimal[c, f, t])\n",
    "        coach_price = price_choices[idx][0]\n",
    "        first_price = price_choices[idx][1]\n",
    "\n",
    "        # coach sale\n",
    "        if c < total_coach:\n",
    "            coach_sale = np.random.binomial(1, sell_probs['c'][coach_price])\n",
    "            c += coach_sale\n",
    "        else:\n",
    "            coach_sale = 0\n",
    "\n",
    "        # first sale\n",
    "        if f < total_first:\n",
    "            first_sale = np.random.binomial(1, sell_probs['f'][first_price])\n",
    "            f += first_sale\n",
    "        else:\n",
    "            first_sale = 0\n",
    "\n",
    "        rev[t] = disc_daily**t * (\n",
    "            prices['c'][coach_price]*coach_sale + \n",
    "            prices['f'][first_price]*first_sale)\n",
    "\n",
    "    rev[t+1] = disc_daily**(t+1) * V_optimal[c, f, t+1]\n",
    "    \n",
    "    showup_c = np.random.binomial(c, showup_probs['c'])\n",
    "    showup_f = np.random.binomial(f, showup_probs['f'])\n",
    "    \n",
    "    assert (showup_c <= c) & (showup_f <= f)\n",
    "    \n",
    "    # storing the metrics\n",
    "    overbooked_cost = rev[t+1]\n",
    "    opt_ob_overbooked_cost_list.append(overbooked_cost)\n",
    "    \n",
    "    if (showup_c < coach_seats) & (showup_f < first_seats):\n",
    "        transfer_c, kick_f, kick_c = 0, 0, 0\n",
    "        \n",
    "    if (showup_c < coach_seats) & (showup_f >= first_seats):\n",
    "        kick_f = showup_f - first_seats\n",
    "        transfer_c, kick_c = 0, 0\n",
    "        \n",
    "    elif (showup_c >= coach_seats) & (showup_f < first_seats):\n",
    "        transfer_c = min(first_seats-showup_f, showup_c-coach_seats)\n",
    "        kick_c = max(0, showup_c-coach_seats-transfer_c)\n",
    "        kick_f = 0\n",
    "        \n",
    "    else:\n",
    "        kick_c = max(0, showup_c-coach_seats) \n",
    "        kick_f = max(0, showup_f-first_seats)\n",
    "        transfer_c = 0\n",
    "    \n",
    "    kick = kick_c + kick_f\n",
    "    assert kick >= 0\n",
    "    opt_ob_kick_list.append(kick)\n",
    "    opt_ob_transfer_list.append(transfer_c)\n",
    "    opt_ob_revenue_list.append(np.sum(rev))\n",
    "\n",
    "    "
   ]
  },
  {
   "cell_type": "code",
   "execution_count": 158,
   "id": "f01f1711",
   "metadata": {},
   "outputs": [],
   "source": [
    "# no sale flexibility for coach booking\n",
    "np.random.seed(0)\n",
    "ns_flex_overbooked_cost_list = []\n",
    "ns_flex_transfer_list = []\n",
    "ns_flex_kick_list = []\n",
    "ns_flex_revenue_list = []\n",
    "\n",
    "for i in range(n_iter):\n",
    "    overbooked_cost = 0\n",
    "    transfer = 0\n",
    "    kick = 0\n",
    "    rev = np.zeros(n_days+1)\n",
    "\n",
    "    total_coach = coach_overbooked + coach_seats\n",
    "    total_first = first_seats\n",
    "\n",
    "    price_choices = [('h', 'h'), ('h', 'l'), ('l', 'h'), ('l', 'l'), ('ns', 'h'), ('ns', 'l')]\n",
    "\n",
    "    c = 0\n",
    "    f = 0\n",
    "\n",
    "    # days for selling a ticket\n",
    "    for t in range(n_days):\n",
    "        #print(c, f, t)\n",
    "        idx = int(U[c, f, t])\n",
    "        coach_price = price_choices[idx][0]\n",
    "        first_price = price_choices[idx][1]\n",
    "\n",
    "        # coach sale\n",
    "        if c < total_coach:\n",
    "            coach_sale = np.random.binomial(1, sell_probs['c'][coach_price])\n",
    "            c += coach_sale\n",
    "        else:\n",
    "            coach_sale = 0\n",
    "\n",
    "        # first sale\n",
    "        if f < total_first:\n",
    "            first_sale = np.random.binomial(1, sell_probs['f'][first_price])\n",
    "            f += first_sale\n",
    "        else:\n",
    "            first_sale = 0\n",
    "\n",
    "        rev[t] = disc_daily**t * (\n",
    "            prices['c'][coach_price]*coach_sale + \n",
    "            prices['f'][first_price]*first_sale)\n",
    "\n",
    "    rev[t+1] = disc_daily**(t+1) * V[c, f, -1]\n",
    "    \n",
    "    showup_c = np.random.binomial(c, showup_probs['c'])\n",
    "    showup_f = np.random.binomial(f, showup_probs['f'])\n",
    "    \n",
    "    assert (showup_c <= c) & (showup_f <= f)\n",
    "    \n",
    "    # storing the metrics\n",
    "    overbooked_cost = rev[t+1]\n",
    "    ns_flex_overbooked_cost_list.append(overbooked_cost)\n",
    "    \n",
    "    if (showup_c < coach_seats) & (showup_f < first_seats):\n",
    "        transfer_c, kick_f, kick_c = 0, 0, 0\n",
    "        \n",
    "    if (showup_c < coach_seats) & (showup_f >= first_seats):\n",
    "        kick_f = showup_f - first_seats\n",
    "        transfer_c, kick_c = 0, 0\n",
    "        \n",
    "    elif (showup_c >= coach_seats) & (showup_f < first_seats):\n",
    "        transfer_c = min(first_seats-showup_f, showup_c-coach_seats)\n",
    "        kick_c = max(0, showup_c-coach_seats-transfer_c)\n",
    "        kick_f = 0\n",
    "        \n",
    "    else:\n",
    "        kick_c = max(0, showup_c-coach_seats) \n",
    "        kick_f = max(0, showup_f-first_seats)\n",
    "        transfer_c = 0\n",
    "    \n",
    "    kick = kick_c + kick_f\n",
    "    assert kick >= 0\n",
    "    ns_flex_kick_list.append(kick)\n",
    "    ns_flex_transfer_list.append(transfer_c)\n",
    "    ns_flex_revenue_list.append(np.sum(rev))\n",
    "\n",
    "    "
   ]
  },
  {
   "cell_type": "code",
   "execution_count": null,
   "id": "6e89859c",
   "metadata": {},
   "outputs": [],
   "source": []
  }
 ],
 "metadata": {
  "kernelspec": {
   "display_name": "Python 3",
   "language": "python",
   "name": "python3"
  },
  "language_info": {
   "codemirror_mode": {
    "name": "ipython",
    "version": 3
   },
   "file_extension": ".py",
   "mimetype": "text/x-python",
   "name": "python",
   "nbconvert_exporter": "python",
   "pygments_lexer": "ipython3",
   "version": "3.8.8"
  }
 },
 "nbformat": 4,
 "nbformat_minor": 5
}
