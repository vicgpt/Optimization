{
 "cells": [
  {
   "cell_type": "code",
   "execution_count": 21,
   "metadata": {
    "id": "AMv3LdJwemtw"
   },
   "outputs": [],
   "source": [
    "import numpy as np\n",
    "import gym\n",
    "import tensorflow as tf\n",
    "import time\n",
    "from tensorflow.keras.models import Model\n",
    "from tensorflow.keras.layers import Dense, Flatten, Dropout, Conv2D, Input\n",
    "\n",
    "# tf.compat.v1.logging.set_verbosity(tf.compat.v1.logging.ERROR) # stop displaying warnings that mean nothing!!!"
   ]
  },
  {
   "cell_type": "code",
   "execution_count": 3,
   "metadata": {
    "id": "owMNvMcwe1GD"
   },
   "outputs": [
    {
     "name": "stderr",
     "output_type": "stream",
     "text": [
      "C:\\Users\\gupta\\anaconda3\\lib\\site-packages\\ipykernel\\ipkernel.py:287: DeprecationWarning: `should_run_async` will not call `transform_cell` automatically in the future. Please pass the result to `transformed_cell` argument and any exception that happen during thetransform in `preprocessing_exc_tuple` in IPython 7.17 and above.\n",
      "  and should_run_async(code)\n"
     ]
    }
   ],
   "source": [
    "# from google.colab import drive\n",
    "# drive.mount('/content/drive')"
   ]
  },
  {
   "cell_type": "code",
   "execution_count": 4,
   "metadata": {
    "id": "z85FN6gYfabt"
   },
   "outputs": [],
   "source": [
    "# !python -m atari_py.import_roms /content/drive/MyDrive/optimization_colabs/Roms/"
   ]
  },
  {
   "cell_type": "code",
   "execution_count": 5,
   "metadata": {
    "id": "3z7RGiChemt7"
   },
   "outputs": [],
   "source": [
    "def prepro(I):\n",
    "    # preprocess each frame for learning\n",
    "    # save some memory and computation\n",
    "    # pre-process the image from a 210x160x3 uint8 frame into an (80x80) float array \n",
    "    I = I[35:195,:,:].copy() # crop the top of the image...score image doesn't matter for how to play\n",
    "    I = I[::2,::2,0].copy()\n",
    "    I[I == 144] = 0 # erase background (background type 1)\n",
    "    I[I == 109] = 0 # erase background (background type 2)\n",
    "    I[I != 0] = 1 # everything else (paddles, ball) just set to 1\n",
    "    return np.array(I.copy())"
   ]
  },
  {
   "cell_type": "code",
   "execution_count": 6,
   "metadata": {
    "id": "2wGNTkczemt_"
   },
   "outputs": [],
   "source": [
    "def create_model(height,width,channels):\n",
    "    # we cannot simply have 3 output nodes because we want to put a weight on each node's impact to the objective\n",
    "    # that is different for each data point.  the only way to achieve this is to have 3 output layers, each having 1 node\n",
    "    # the effect is the same, just the way TF/keras handles weights is different\n",
    "    imp = Input(shape=(height,width,channels))\n",
    "    mid = Conv2D(32,(8,8),strides=4,activation='relu')(imp)\n",
    "    mid = Conv2D(64,(4,4),strides=2,activation='relu')(mid)\n",
    "    mid = Conv2D(64,(3,3),strides=1,activation='relu')(mid)\n",
    "    mid = Flatten()(mid)\n",
    "    mid = Dense(512,activation='relu')(mid)\n",
    "    mid = Dense(256,activation='relu')(mid)\n",
    "    out0 = Dense(1,activation='linear',name='out0')(mid)\n",
    "    out1 = Dense(1,activation='linear',name='out1')(mid)\n",
    "    out2 = Dense(1,activation='linear',name='out2')(mid)\n",
    "    model = Model(imp,[out0,out1,out2]) \n",
    "    \n",
    "    model.compile(optimizer=tf.keras.optimizers.Adam(learning_rate=25e-6),loss=tf.keras.losses.Huber())\n",
    "    \n",
    "    return model"
   ]
  },
  {
   "cell_type": "code",
   "execution_count": 13,
   "metadata": {
    "id": "MA65BpiIemuB"
   },
   "outputs": [],
   "source": [
    "frames_to_net = 4              # how many previous frames will we feed the NN\n",
    "possible_actions = [0,2,3]\n",
    "# mod = create_model(80,80,frames_to_net)\n",
    "# mod.call = tf.function(mod.call,experimental_relax_shapes=True)\n",
    "\n",
    "# mod.summary()"
   ]
  },
  {
   "cell_type": "code",
   "execution_count": 9,
   "metadata": {},
   "outputs": [
    {
     "name": "stdout",
     "output_type": "stream",
     "text": [
      "Model: \"model\"\n",
      "__________________________________________________________________________________________________\n",
      " Layer (type)                   Output Shape         Param #     Connected to                     \n",
      "==================================================================================================\n",
      " input_1 (InputLayer)           [(None, 80, 80, 4)]  0           []                               \n",
      "                                                                                                  \n",
      " conv2d (Conv2D)                (None, 19, 19, 32)   8224        ['input_1[0][0]']                \n",
      "                                                                                                  \n",
      " conv2d_1 (Conv2D)              (None, 8, 8, 64)     32832       ['conv2d[0][0]']                 \n",
      "                                                                                                  \n",
      " conv2d_2 (Conv2D)              (None, 6, 6, 64)     36928       ['conv2d_1[0][0]']               \n",
      "                                                                                                  \n",
      " flatten (Flatten)              (None, 2304)         0           ['conv2d_2[0][0]']               \n",
      "                                                                                                  \n",
      " dense (Dense)                  (None, 512)          1180160     ['flatten[0][0]']                \n",
      "                                                                                                  \n",
      " dense_1 (Dense)                (None, 256)          131328      ['dense[0][0]']                  \n",
      "                                                                                                  \n",
      " out0 (Dense)                   (None, 1)            257         ['dense_1[0][0]']                \n",
      "                                                                                                  \n",
      " out1 (Dense)                   (None, 1)            257         ['dense_1[0][0]']                \n",
      "                                                                                                  \n",
      " out2 (Dense)                   (None, 1)            257         ['dense_1[0][0]']                \n",
      "                                                                                                  \n",
      "==================================================================================================\n",
      "Total params: 1,390,243\n",
      "Trainable params: 1,390,243\n",
      "Non-trainable params: 0\n",
      "__________________________________________________________________________________________________\n"
     ]
    }
   ],
   "source": [
    "mod = tf.keras.models.load_model('saved_model/dql-base')\n",
    "# Check its architecture\n",
    "mod.summary()"
   ]
  },
  {
   "cell_type": "code",
   "execution_count": 11,
   "metadata": {
    "id": "SOUXt3E5emuH"
   },
   "outputs": [],
   "source": [
    "def play1game(model,ep):\n",
    "    env0 = gym.make(\"Pong-v0\")\n",
    "    pix = env0.reset()\n",
    "    pix = prepro(pix)\n",
    "    frames_this_game = 0\n",
    "    feed = np.zeros((1,80,80,frames_to_net))\n",
    "    feed[0,:,:,0] = pix.copy() # 0 is the most recent frame t; 1 the previous one t+1 and so one\n",
    "    \n",
    "    frame_array = []\n",
    "    action_array = []\n",
    "    reward_array = []\n",
    "    \n",
    "    score = 0\n",
    "    done = False\n",
    "    while not done:\n",
    "        if np.random.random() < ep:\n",
    "            action = np.random.choice(3)\n",
    "        else:\n",
    "            vf = mod(feed,training=False)\n",
    "            vf = [vf[0][0,0].numpy(),vf[1][0,0].numpy(),vf[2][0,0].numpy()]\n",
    "            action = np.argmax(vf)\n",
    "        action0 = possible_actions[action]\n",
    "        pix_new, reward, done, info = env0.step(action0)\n",
    "        frame_array.append(pix)\n",
    "        action_array.append(action)\n",
    "        reward_array.append(reward)\n",
    "        pix = prepro(pix_new)\n",
    "        frames_this_game += 1\n",
    "\n",
    "        for f in range(1,frames_to_net):\n",
    "            feed[0,:,:,frames_to_net-f] = feed[0,:,:,frames_to_net-f-1].copy()\n",
    "        feed[0,:,:,0] = pix.copy()\n",
    "        score += reward\n",
    "    return frame_array, action_array, reward_array, score"
   ]
  },
  {
   "cell_type": "code",
   "execution_count": 25,
   "metadata": {
    "id": "0ANsKtKYglSA"
   },
   "outputs": [],
   "source": [
    "ngames = 15000\n",
    "ngames = 100\n",
    "epsvec = np.linspace(1,0.05,int(ngames/10))\n",
    "# ngames = 10\n",
    "delt = 0.99\n",
    "nbatch = 64\n",
    "output = {'game':[-1]*ngames, 'score':[-100]*ngames, 'time':[-1]*ngames}"
   ]
  },
  {
   "cell_type": "code",
   "execution_count": 28,
   "metadata": {
    "id": "Ma18PhPxlgli"
   },
   "outputs": [
    {
     "name": "stdout",
     "output_type": "stream",
     "text": [
      "Game number  0 [-21.0, 1.0, 2.502095937728882] 1182\n",
      "Game number  10 [-21.0, 0.05, 5.705753326416016] 1018\n",
      "Game number  20 [-21.0, 0.05, 7.038245439529419] 1034\n",
      "Game number  30 [-21.0, 0.05, 5.729413986206055] 1011\n",
      "Game number  40 [-21.0, 0.05, 6.51145076751709] 1018\n",
      "Game number  50 [-21.0, 0.05, 6.745965480804443] 1015\n",
      "Game number  60 [-21.0, 0.05, 5.631117343902588] 1027\n",
      "Game number  70 [-21.0, 0.05, 6.819169521331787] 1018\n",
      "Game number  80 [-21.0, 0.05, 5.95941424369812] 1023\n",
      "Game number  90 [-21.0, 0.05, 6.9075400829315186] 1011\n"
     ]
    }
   ],
   "source": [
    "for game in range(ngames):\n",
    "    \n",
    "    if game < int(ngames/10):\n",
    "        eps = epsvec[game]\n",
    "    else:\n",
    "        eps = epsvec[-1]\n",
    "    \n",
    "    start = time.time()\n",
    "    frames, actions, rewards, score = play1game(mod,eps)\n",
    "\n",
    "    nframes = len(frames)\n",
    "    current_frames = np.zeros((nframes,80,80,frames_to_net))\n",
    "    future_frames = np.zeros((nframes,80,80,frames_to_net))\n",
    "  \n",
    "    # creating frame - current t (for prediction) and t+1 (for truth)\n",
    "    for grab in range(nframes):\n",
    "        for f in range(frames_to_net):\n",
    "            if grab-f > 0:\n",
    "                current_frames[grab,:,:,f] = frames[grab-f].copy()\n",
    "            if (grab-f+1 > 0) & (grab-f+1 < (nframes-1)):\n",
    "                future_frames[grab,:,:,f] = frames[grab-f+1].copy()\n",
    "    target_vf = mod.predict(future_frames)\n",
    "\n",
    "    # vectors of truth\n",
    "    y0 = np.zeros((nframes,1))\n",
    "    y1 = np.zeros((nframes,1))\n",
    "    y2 = np.zeros((nframes,1))\n",
    "    \n",
    "    # weight for training neural network based on the \"truth\"\n",
    "    weight0 = np.zeros(nframes)\n",
    "    weight1 = np.zeros(nframes)\n",
    "    weight2 = np.zeros(nframes)\n",
    "  \n",
    "\n",
    "    for grab in range(nframes):\n",
    "        rhs = rewards[grab]\n",
    "        # terminal condition will be when we win a game\n",
    "        # \n",
    "        if rhs == 0:\n",
    "            rhs = delt*np.max([target_vf[0][grab],target_vf[1][grab],target_vf[2][grab]])\n",
    "        if actions[grab] == 0:\n",
    "            y0[grab,0] = rhs\n",
    "            weight0[grab] = 1\n",
    "        elif actions[grab] == 1:\n",
    "            y1[grab,0] = rhs\n",
    "            weight1[grab] = 1\n",
    "        else:\n",
    "            y2[grab,0] = rhs\n",
    "            weight2[grab] = 1\n",
    "  \n",
    "    mod.fit(current_frames,[y0,y1,y2],epochs=1,batch_size=nbatch,verbose=0,sample_weight={'out0':weight0,'out1':weight1,'out2':weight2},use_multiprocessing=True)\n",
    "    stop = time.time()\n",
    "    \n",
    "    output['game'][game] = game\n",
    "    output['score'][game] = score\n",
    "    output['time'][game] = time\n",
    "    \n",
    "    if game % 10 == 0:\n",
    "        print('Game number ', game, [score, eps, stop-start], nframes)"
   ]
  },
  {
   "cell_type": "code",
   "execution_count": 29,
   "metadata": {
    "id": "ytkvVKDmlhWv"
   },
   "outputs": [
    {
     "name": "stdout",
     "output_type": "stream",
     "text": [
      "INFO:tensorflow:Assets written to: saved_model/dql-base\\assets\n"
     ]
    }
   ],
   "source": [
    "# mod.save('saved_model/dql-base')"
   ]
  },
  {
   "cell_type": "code",
   "execution_count": 32,
   "metadata": {
    "id": "Q_o9ZvR5BUok"
   },
   "outputs": [
    {
     "data": {
      "text/plain": [
       "(array([97.,  0.,  0.,  2.,  0.,  0.,  0.,  0.,  0.,  1.]),\n",
       " array([0. , 0.3, 0.6, 0.9, 1.2, 1.5, 1.8, 2.1, 2.4, 2.7, 3. ]),\n",
       " <BarContainer object of 10 artists>)"
      ]
     },
     "execution_count": 32,
     "metadata": {},
     "output_type": "execute_result"
    },
    {
     "data": {
      "image/png": "[encoded data removed]",
      "text/plain": [
       "<Figure size 432x288 with 1 Axes>"
      ]
     },
     "metadata": {
      "needs_background": "light"
     },
     "output_type": "display_data"
    }
   ],
   "source": [
    "import matplotlib.pyplot as plt\n",
    "plt.hist([x+21 for x in output['score'] if x > -100])"
   ]
  },
  {
   "cell_type": "code",
   "execution_count": null,
   "metadata": {},
   "outputs": [],
   "source": [
    "np.mean([x for x in output['score'] if x > -100])"
   ]
  },
  {
   "cell_type": "code",
   "execution_count": null,
   "metadata": {},
   "outputs": [],
   "source": [
    "np.mean(output['score'])"
   ]
  },
  {
   "cell_type": "code",
   "execution_count": 22,
   "metadata": {},
   "outputs": [
    {
     "name": "stderr",
     "output_type": "stream",
     "text": [
      "C:\\Users\\gupta\\anaconda3\\lib\\site-packages\\gym\\envs\\registration.py:505: UserWarning: \u001b[33mWARN: The environment Pong-v0 is out of date. You should consider upgrading to version `v5` with the environment ID `ALE/Pong-v5`.\u001b[0m\n",
      "  logger.warn(\n",
      "C:\\Users\\gupta\\anaconda3\\lib\\site-packages\\gym\\utils\\seeding.py:138: DeprecationWarning: \u001b[33mWARN: Function `hash_seed(seed, max_bytes)` is marked as deprecated and will be removed in the future. \u001b[0m\n",
      "  deprecation(\n",
      "C:\\Users\\gupta\\anaconda3\\lib\\site-packages\\gym\\utils\\seeding.py:175: DeprecationWarning: \u001b[33mWARN: Function `_bigint_from_bytes(bytes)` is marked as deprecated and will be removed in the future. \u001b[0m\n",
      "  deprecation(\n",
      "C:\\Users\\gupta\\anaconda3\\lib\\site-packages\\gym\\utils\\seeding.py:47: DeprecationWarning: \u001b[33mWARN: Function `rng.randint(low, [high, size, dtype])` is marked as deprecated and will be removed in the future. Please use `rng.integers(low, [high, size, dtype])` instead.\u001b[0m\n",
      "  deprecation(\n"
     ]
    },
    {
     "data": {
      "text/plain": [
       "(array([19., 35., 36., 32., 44., 13., 14.,  4.,  2.,  1.]),\n",
       " array([-15. , -12.3,  -9.6,  -6.9,  -4.2,  -1.5,   1.2,   3.9,   6.6,\n",
       "          9.3,  12. ]),\n",
       " <BarContainer object of 10 artists>)"
      ]
     },
     "execution_count": 22,
     "metadata": {},
     "output_type": "execute_result"
    },
    {
     "data": {
      "image/png": "[encoded data removed]",
      "text/plain": [
       "<Figure size 432x288 with 1 Axes>"
      ]
     },
     "metadata": {
      "needs_background": "light"
     },
     "output_type": "display_data"
    }
   ],
   "source": [
    "nsims = 200\n",
    "score_list = []\n",
    "\n",
    "for sim in range(nsims):\n",
    "    _, _, _, score = play1game(mod,0.05)\n",
    "    \n",
    "    score_list.append(score)\n",
    "\n",
    "plt.hist(score_list)  "
   ]
  },
  {
   "cell_type": "code",
   "execution_count": 23,
   "metadata": {},
   "outputs": [
    {
     "name": "stdout",
     "output_type": "stream",
     "text": [
      "200 -5.835\n"
     ]
    },
    {
     "data": {
      "text/plain": [
       "(array([19., 35., 36., 32., 44., 13., 14.,  4.,  2.,  1.]),\n",
       " array([-15. , -12.3,  -9.6,  -6.9,  -4.2,  -1.5,   1.2,   3.9,   6.6,\n",
       "          9.3,  12. ]),\n",
       " <BarContainer object of 10 artists>)"
      ]
     },
     "execution_count": 23,
     "metadata": {},
     "output_type": "execute_result"
    },
    {
     "data": {
      "image/png": "[encoded data removed]",
      "text/plain": [
       "<Figure size 432x288 with 1 Axes>"
      ]
     },
     "metadata": {
      "needs_background": "light"
     },
     "output_type": "display_data"
    }
   ],
   "source": [
    "import matplotlib.pyplot as plt\n",
    "print(len(score_list), np.mean(score_list))\n",
    "plt.hist(score_list)"
   ]
  },
  {
   "cell_type": "code",
   "execution_count": 24,
   "metadata": {},
   "outputs": [
    {
     "name": "stdout",
     "output_type": "stream",
     "text": [
      "Win rate 0.13\n"
     ]
    }
   ],
   "source": [
    "print('Win rate', len([x for x in score_list if x > 0])/len(score_list))"
   ]
  },
  {
   "cell_type": "code",
   "execution_count": null,
   "metadata": {},
   "outputs": [],
   "source": []
  }
 ],
 "metadata": {
  "colab": {
   "collapsed_sections": [],
   "name": "topic4-rl2.ipynb",
   "provenance": []
  },
  "kernelspec": {
   "display_name": "Python 3",
   "language": "python",
   "name": "python3"
  },
  "language_info": {
   "codemirror_mode": {
    "name": "ipython",
    "version": 3
   },
   "file_extension": ".py",
   "mimetype": "text/x-python",
   "name": "python",
   "nbconvert_exporter": "python",
   "pygments_lexer": "ipython3",
   "version": "3.8.8"
  }
 },
 "nbformat": 4,
 "nbformat_minor": 1
}
