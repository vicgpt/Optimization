{
 "cells": [
  {
   "cell_type": "code",
   "execution_count": 1,
   "id": "99ccc16d",
   "metadata": {},
   "outputs": [],
   "source": [
    "import numpy as np\n",
    "import matplotlib.pyplot as plt\n",
    "from scipy.interpolate import CubicSpline\n",
    "from scipy.optimize import minimize"
   ]
  },
  {
   "cell_type": "markdown",
   "id": "6c6143dd",
   "metadata": {},
   "source": [
    "## Multi-Arm Bandit: Linear-annealed policy"
   ]
  },
  {
   "cell_type": "markdown",
   "id": "5daeab2a",
   "metadata": {},
   "source": [
    "When solving a bandit problem using the epsilon-greedy strategy we used the same value of epsilon for every pull, so the level of exploration is the same every time you pull the arm.  Another strategy would be to start with a big epsilon (so there's lots of exploration) and reduce epsilon after each pull, so that later there is less exploration.  This is called a linear-annealed policy.  For example, if you are going to pull the arm 200 times, you could start with epsilon = 95%, then reduce epsilon by 1% after each pull until you get to epsilon = 5% on the 90th pull, and keep it at 5% for the last 110 pulls.\n",
    "\n",
    "\n",
    "Your goal in this problem is to explore linear-annealed policies in bandit problems.  Go to the bandit code we examined in class, where you pull the arm 500 times where the bandits have means of [1,2,3,4] and standard deviations of [1,2,3,4].  Which of these 3 linear-annealed policies works best for the problem in the code?  Use 5000 simulations (of the 500 arm pulls) to answer this question.\n",
    " \n",
    "\n",
    "A) initial epsilon: 100%, epsilon reduction per pull: 0.5%, final epsilon: 25%\n",
    "\n",
    "B) initial epsilon: 50%, epsilon reduction per pull: 1%, final epsilon: 5%\n",
    "\n",
    "C) initial epsilon: 90%, epsilon reduction per pull: 0.5%, final epsilon: 10%\n",
    "\n",
    "D) initial epsilon: 75%, epsilon reduction per pull: 1%, final epsilon: 15%\n",
    "\n",
    "E) epsilon is always 15%"
   ]
  },
  {
   "cell_type": "code",
   "execution_count": 2,
   "id": "3d10cc80",
   "metadata": {},
   "outputs": [],
   "source": [
    "def get_epsilon(n_pulls, policy):\n",
    "    epsilon_list = [0]*n_pulls\n",
    "    \n",
    "    if policy == 1:\n",
    "        start = 100\n",
    "        redn = 0.5\n",
    "        end = 25\n",
    "    \n",
    "    elif policy == 2:\n",
    "        start = 50\n",
    "        redn = 1\n",
    "        end = 5\n",
    "    \n",
    "    elif policy == 3:\n",
    "        start = 90\n",
    "        redn = 0.5\n",
    "        end = 10\n",
    "    \n",
    "    elif policy == 4:\n",
    "        start = 75\n",
    "        redn = 1\n",
    "        end = 15\n",
    "    \n",
    "    else:\n",
    "        start = 15\n",
    "        redn = 15\n",
    "        end = 15\n",
    "           \n",
    "    epsilon_list = [(start - i*redn)/100 if (start - i*redn >= end) else end/100 for i in range(n_pulls)]\n",
    "\n",
    "    return epsilon_list\n",
    "\n",
    "\n",
    "def tot_return_fun_eps_greedy(epsilon_list, n_pulls):\n",
    "    n_arms = 4\n",
    "    means = [1, 2, 3, 4]\n",
    "    stds = [1, 2, 3, 4]\n",
    "    \n",
    "    avg_so_far = np.zeros(n_arms)\n",
    "    pulls_per_arm = np.zeros(n_arms)\n",
    "    tot_return = 0\n",
    "    for pull in range(n_pulls):\n",
    "        if np.random.random() < epsilon_list[pull]:\n",
    "            this_choice = np.random.choice(n_arms)\n",
    "        else:\n",
    "            this_choice = np.argmax(avg_so_far)\n",
    "\n",
    "        payout = np.random.normal(loc=means[this_choice],scale = stds[this_choice])\n",
    "        avg_so_far[this_choice] *= pulls_per_arm[this_choice]\n",
    "        avg_so_far[this_choice] += payout\n",
    "        pulls_per_arm[this_choice] += 1\n",
    "        avg_so_far[this_choice] /= pulls_per_arm[this_choice]\n",
    "        tot_return += payout\n",
    "    return tot_return"
   ]
  },
  {
   "cell_type": "code",
   "execution_count": 3,
   "id": "b9299581",
   "metadata": {},
   "outputs": [],
   "source": [
    "n_pulls = 500\n",
    "n_sims = 5000\n",
    "avg_payout_list = []\n",
    "\n",
    "for p in range(1, 6):\n",
    "    payout_list = []\n",
    "    for i in range(n_sims):\n",
    "        payput_list = []\n",
    "        epsilon_list = get_epsilon(n_pulls, policy=p)\n",
    "        payout = tot_return_fun_eps_greedy(epsilon_list, n_pulls)\n",
    "        payout_list.append(payout)\n",
    "    avg_payout_list.append(np.mean(payout_list))"
   ]
  },
  {
   "cell_type": "code",
   "execution_count": 4,
   "id": "50059f30",
   "metadata": {},
   "outputs": [
    {
     "data": {
      "text/plain": [
       "[<matplotlib.lines.Line2D at 0x21d0d71c1c0>]"
      ]
     },
     "execution_count": 4,
     "metadata": {},
     "output_type": "execute_result"
    },
    {
     "data": {
      "image/png": "[encoded data removed]",
      "text/plain": [
       "<Figure size 432x288 with 1 Axes>"
      ]
     },
     "metadata": {
      "needs_background": "light"
     },
     "output_type": "display_data"
    }
   ],
   "source": [
    "plt.figure()\n",
    "plt.plot(range(1, 6), avg_payout_list)"
   ]
  },
  {
   "cell_type": "code",
   "execution_count": 5,
   "id": "c41f4877",
   "metadata": {},
   "outputs": [
    {
     "name": "stdout",
     "output_type": "stream",
     "text": [
      "Best policy is  2\n"
     ]
    }
   ],
   "source": [
    "print('Best policy is ', range(1, 6)[np.argmax(avg_payout_list)])"
   ]
  },
  {
   "cell_type": "markdown",
   "id": "4c4958bc",
   "metadata": {},
   "source": [
    "## Ore Mining maximization\n",
    "\n",
    "Think back to the mining example we did in class.  We made the assumption that the number of tons extracted per year must be an integer to make the problem solvable.  If the number of tons extracted is not an integer then we have to be able to evaluate the value function at every single possible number between 0-M, not just the integers.  One way to address this concern is by combining interpolation with non-linear optimization. \n",
    "\n",
    " \n",
    "\n",
    "At each time step, t, you can find the value function at s=0,1,2,...,M by using scipy.optimize.minimize to pick x.  To do this you need an objective function that can be evaluated at any value of x.  So when you evaluate v(s-x,t+1), you must be able to evaluate this at every possible value of s-x.  But you only found v at integers of s at t+1.  To resolve this, you can use scipy.interpolate.CubicSpline on v[ : ,t+1] so that when scipy.optimize evaluates different (non-integer) values of x it calls the interpolated value of v.  Information about CubicSpline can be found at https://docs.scipy.org/doc/scipy/reference/generated/scipy.interpolate.CubicSpline.html (Links to an external site.)\n",
    "\n",
    " \n",
    "\n",
    "At t=T things are easy, the terminal condition still says v(s,T)=0.  Store this for every integer value of s.\n",
    "\n",
    "At t, use v(s,t+1) at each integer value of s and scipy.interpolate.CubicSpline to create an interpolating function of v(s,t+1) for non-integer values of s; call this interpolating function something like Vcs.  Then for each integer value of s in the s-loop, the objective is max_x p*x - x^2/(1+s) + delta * Vcs(s-x).  Now you can create a user defined function that returns the objective for any non-integer value of x. Then use scipy.optimize to find the optimal x, and save v[s,t].  Do this for every integer value of s = 0, 1, 2, ..., M.  For each integer value of s, the optimal x may or may not be an integer.\n",
    "\n",
    " \n",
    "\n",
    " \n",
    "\n",
    "Each time you call scipy.optimize you need an initial guess of x.  An easy way to get a guess is to just start at the midpoint between 0 and s.  You also will need to use the L-BFGS-B algorithm since you know that x is between 0 and s.\n",
    "\n",
    "If you allow non-integer values for ore extraction, how much more profits can you make? That is, how much bigger is v(M,0) when you allow non-integer values of x, than when only integer values of x are allowed (like the problem we solved in class)?  Round to 3 decimal places.\n",
    "\n",
    " \n",
    "\n",
    "If you're very careful with calculus this problem is actually solvable in closed form, but I won't ask you to do that..."
   ]
  },
  {
   "cell_type": "markdown",
   "id": "814ccfba",
   "metadata": {},
   "source": [
    "**Integer problem**"
   ]
  },
  {
   "cell_type": "code",
   "execution_count": 6,
   "id": "c31686ae",
   "metadata": {},
   "outputs": [],
   "source": [
    "start_ore = 100\n",
    "n_years = 15\n",
    "price = 1\n",
    "delta = 0.9"
   ]
  },
  {
   "cell_type": "code",
   "execution_count": 7,
   "id": "cdd105d3",
   "metadata": {},
   "outputs": [],
   "source": [
    "# value function and optimal policy init\n",
    "U = np.zeros((start_ore+1, n_years+1))\n",
    "V = np.zeros((start_ore+1, n_years+1))\n",
    "\n",
    "# terminal & boundary condition\n",
    "V[0, :] = 0\n",
    "V[:, -1] = 0\n",
    "\n",
    "for t in reversed(range(n_years)):\n",
    "    for s in range(start_ore+1):\n",
    "        # for remaining ore s, at time t, identifying the ore to extract \n",
    "        possible_profit = [price*x - x*x/(1+s) + delta*V[s-x, t+1] for x in range(s+1)]\n",
    "        \n",
    "        V[s, t] = np.max(possible_profit)\n",
    "        U[s, t] = np.argmax(possible_profit)\n"
   ]
  },
  {
   "cell_type": "code",
   "execution_count": 8,
   "id": "4d8828ca",
   "metadata": {},
   "outputs": [
    {
     "name": "stdout",
     "output_type": "stream",
     "text": [
      "Year: 0, Init Ore: 100, Mine: 24.0\n",
      "Year: 1, Init Ore: 76, Mine: 18.0\n",
      "Year: 2, Init Ore: 58, Mine: 14.0\n",
      "Year: 3, Init Ore: 44, Mine: 11.0\n",
      "Year: 4, Init Ore: 33, Mine: 8.0\n",
      "Year: 5, Init Ore: 25, Mine: 6.0\n",
      "Year: 6, Init Ore: 19, Mine: 5.0\n",
      "Year: 7, Init Ore: 14, Mine: 3.0\n",
      "Year: 8, Init Ore: 11, Mine: 3.0\n",
      "Year: 9, Init Ore: 8, Mine: 2.0\n",
      "Year: 10, Init Ore: 6, Mine: 2.0\n",
      "Year: 11, Init Ore: 4, Mine: 1.0\n",
      "Year: 12, Init Ore: 3, Mine: 1.0\n",
      "Year: 13, Init Ore: 2, Mine: 1.0\n",
      "Year: 14, Init Ore: 1, Mine: 1.0\n",
      "Year: 15, Init Ore: 0, Mine: 0.0\n"
     ]
    }
   ],
   "source": [
    "s=start_ore # at the initial time there are 100 tons of ore\n",
    "for t in range(n_years+1):\n",
    "    si=s\n",
    "    print(\"Year: \", t , \", Init Ore: \",s, \", Mine: \", U[si,t], sep='')\n",
    "    s=int(s-U[si,t]) # remove this amount from the mine"
   ]
  },
  {
   "cell_type": "code",
   "execution_count": 9,
   "id": "31ea9db8",
   "metadata": {},
   "outputs": [
    {
     "data": {
      "text/plain": [
       "58.113941952344646"
      ]
     },
     "execution_count": 9,
     "metadata": {},
     "output_type": "execute_result"
    }
   ],
   "source": [
    "V[100, 0]"
   ]
  },
  {
   "cell_type": "markdown",
   "id": "c7964d5b",
   "metadata": {},
   "source": [
    "**Continuous values of ores to be mined**"
   ]
  },
  {
   "cell_type": "code",
   "execution_count": 10,
   "id": "597aee8e",
   "metadata": {},
   "outputs": [],
   "source": [
    "# # np.argmin([get_value_fn(x, s, t, V) for x in range(s)])\n",
    "# s=44\n",
    "# t=3\n",
    "\n",
    "# Vcs = CubicSpline(np.arange(0, s+1),V[:s+1, t+1]) \n",
    "\n",
    "# plt.plot([get_value_fn(x, s, Vcs) for x in range(s)])\n",
    "# plt.plot([price*x - x*x/(1+s) + delta*V[s-x,t] for x in range(s)], color='r')\n"
   ]
  },
  {
   "cell_type": "code",
   "execution_count": 11,
   "id": "4a91ed45",
   "metadata": {},
   "outputs": [],
   "source": [
    "def get_value_fn(x, s, Vcs, price=1, delta=0.9):\n",
    "    return - (price*x - x*x/(1+s) + delta*Vcs(s-x))\n",
    "\n",
    "def opt_mod(s, Vcs):\n",
    "    opt_mod_st = minimize(get_value_fn, [s/2], bounds=[(0, s)], args=(s, Vcs), method='L-BFGS-B')\n",
    "    return -opt_mod_st.fun[0], opt_mod_st.x[0]"
   ]
  },
  {
   "cell_type": "code",
   "execution_count": 12,
   "id": "2ea92a41",
   "metadata": {},
   "outputs": [],
   "source": [
    "# value function and optimal policy init\n",
    "Ut = np.zeros((start_ore+1, n_years+1))\n",
    "Vt = np.zeros((start_ore+1, n_years+1))\n",
    "\n",
    "# terminal & boundary condition\n",
    "Vt[0, :] = 0\n",
    "Vt[:, -1] = 0\n",
    "\n",
    "s_opt = 0\n",
    "for t in reversed(range(n_years)):\n",
    "    s_vec = np.arange(start_ore+1)\n",
    "    v_vec = Vt[:, t+1]\n",
    "    Vcs = CubicSpline(s_vec, v_vec) \n",
    "    for s in range(start_ore+1):\n",
    "        if s == 0:\n",
    "            possible_profit = [price*x - x*x/(1+s) + delta*Vt[s-x, t+1] for x in range(s+1)]\n",
    "            Vt[s, t] = np.max(possible_profit)\n",
    "            Ut[s, t] = np.argmax(possible_profit)\n",
    "        else:\n",
    "            Vt[s, t], Ut[s, t] = opt_mod(s, Vcs)\n"
   ]
  },
  {
   "cell_type": "code",
   "execution_count": 13,
   "id": "d1b93759",
   "metadata": {},
   "outputs": [
    {
     "data": {
      "text/plain": [
       "0.043821225226835736"
      ]
     },
     "execution_count": 13,
     "metadata": {},
     "output_type": "execute_result"
    }
   ],
   "source": [
    "Vt[start_ore, 0] - V[start_ore, 0]"
   ]
  },
  {
   "cell_type": "markdown",
   "id": "a0ff4917",
   "metadata": {},
   "source": [
    "## Pong\n",
    "Write a python script that plays pong by tracking the ball.\n",
    "\n",
    " \n",
    "\n",
    "To do this you can find the y location of the center of the ball, and the y location of the center of your paddle.  At each step, if your paddle is above the ball click the down button, and if your paddle is below the ball click the up button.  If the ball isn't on the screen then play the NOOP action.  Play 500 games like this.  On average, how many points per game does this strategy score? Not counting the opponent's score.. Round to 1 decimal place.\n",
    "\n",
    " \n",
    "\n",
    "To be specific.  On each screen of pixels, run the preprocessing function.  Find the y locations of all ball pixels, and take the average of those y locations.  You only need to look for the ball between your paddle and the opponent's paddle.  You don't need to look even or behind either paddle.  Find the y locations of all your paddle pixels, and take the average of those y locations.  If there are no ball pixels, play the NOOP action.  If your average paddle y location is below the average ball y location, push up.  If your average paddle y location is above the average ball y location, push down. If your average paddle y location is the same as the average ball y location, push NOOP.\n",
    "\n",
    " \n",
    "\n",
    "The np.where function is a wonderful tool to help solve this problem.  It took about 15 minutes to play 500 games like this on my laptop."
   ]
  },
  {
   "cell_type": "code",
   "execution_count": 14,
   "id": "a48954a8",
   "metadata": {},
   "outputs": [
    {
     "name": "stderr",
     "output_type": "stream",
     "text": [
      "C:\\Users\\gupta\\anaconda3\\lib\\site-packages\\ale_py\\roms\\__init__.py:94: DeprecationWarning: Automatic importing of atari-py roms won't be supported in future releases of ale-py. Please migrate over to using `ale-import-roms` OR an ALE-supported ROM package. To make this warning disappear you can run `ale-import-roms --import-from-pkg atari_py.atari_roms`.For more information see: https://github.com/mgbellemare/Arcade-Learning-Environment#rom-management\n",
      "  _RESOLVED_ROMS = _resolve_roms()\n",
      "C:\\Users\\gupta\\anaconda3\\lib\\site-packages\\gym\\envs\\registration.py:505: UserWarning: \u001b[33mWARN: The environment Pong-v0 is out of date. You should consider upgrading to version `v5` with the environment ID `ALE/Pong-v5`.\u001b[0m\n",
      "  logger.warn(\n",
      "C:\\Users\\gupta\\anaconda3\\lib\\site-packages\\gym\\utils\\seeding.py:138: DeprecationWarning: \u001b[33mWARN: Function `hash_seed(seed, max_bytes)` is marked as deprecated and will be removed in the future. \u001b[0m\n",
      "  deprecation(\n",
      "C:\\Users\\gupta\\anaconda3\\lib\\site-packages\\gym\\utils\\seeding.py:175: DeprecationWarning: \u001b[33mWARN: Function `_bigint_from_bytes(bytes)` is marked as deprecated and will be removed in the future. \u001b[0m\n",
      "  deprecation(\n"
     ]
    }
   ],
   "source": [
    "import gym\n",
    "import time\n",
    "env = gym.make(\"Pong-v0\") # create the pong 'environment'"
   ]
  },
  {
   "cell_type": "code",
   "execution_count": 15,
   "id": "0c312bba",
   "metadata": {},
   "outputs": [
    {
     "name": "stderr",
     "output_type": "stream",
     "text": [
      "C:\\Users\\gupta\\anaconda3\\lib\\site-packages\\ipykernel\\ipkernel.py:287: DeprecationWarning: `should_run_async` will not call `transform_cell` automatically in the future. Please pass the result to `transformed_cell` argument and any exception that happen during thetransform in `preprocessing_exc_tuple` in IPython 7.17 and above.\n",
      "  and should_run_async(code)\n"
     ]
    }
   ],
   "source": [
    "def prepro(I):\n",
    "    # preprocess each frame for learning\n",
    "    # save some memory and computation\n",
    "    # pre-process the image from a 210x160x3 uint8 frame into an (80x80) float array \n",
    "    I = I[35:195,:,:].copy() # crop the top of the image...score image doesn't matter for how to play\n",
    "    I = I[::2,::2,0].copy()\n",
    "    I[I == 144] = 0 # erase background (background type 1)\n",
    "    I[I == 109] = 0 # erase background (background type 2)\n",
    "    I[I != 0] = 1 # everything else (paddles, ball) just set to 1\n",
    "    return np.array(I.copy())"
   ]
  },
  {
   "cell_type": "code",
   "execution_count": 16,
   "id": "554dd173",
   "metadata": {},
   "outputs": [],
   "source": [
    "def get_action(pixels):\n",
    "    paddle1_start = 10\n",
    "    paddle2_start = 70\n",
    "    \n",
    "    ball_area = pixels[:, paddle1_start:paddle2_start]\n",
    "    ball_row = np.mean(np.where(ball_area > 0)[0])\n",
    "    \n",
    "    paddle_area = pixels[:, paddle2_start:paddle2_start+2]\n",
    "    paddle_row = np.mean(np.where(paddle_area > 0)[0])\n",
    "    \n",
    "    if ball_row > paddle_row:\n",
    "        return 3\n",
    "    elif ball_row < paddle_row:\n",
    "        return 2 \n",
    "    else:\n",
    "        return 0"
   ]
  },
  {
   "cell_type": "code",
   "execution_count": 17,
   "id": "6acd06d5",
   "metadata": {},
   "outputs": [
    {
     "name": "stderr",
     "output_type": "stream",
     "text": [
      "C:\\Users\\gupta\\anaconda3\\lib\\site-packages\\gym\\utils\\seeding.py:47: DeprecationWarning: \u001b[33mWARN: Function `rng.randint(low, [high, size, dtype])` is marked as deprecated and will be removed in the future. Please use `rng.integers(low, [high, size, dtype])` instead.\u001b[0m\n",
      "  deprecation(\n",
      "C:\\Users\\gupta\\anaconda3\\lib\\site-packages\\numpy\\core\\fromnumeric.py:3419: RuntimeWarning: Mean of empty slice.\n",
      "  return _methods._mean(a, axis=axis, dtype=dtype,\n",
      "C:\\Users\\gupta\\anaconda3\\lib\\site-packages\\numpy\\core\\_methods.py:188: RuntimeWarning: invalid value encountered in double_scalars\n",
      "  ret = ret.dtype.type(ret / rcount)\n"
     ]
    },
    {
     "data": {
      "text/plain": [
       "nan"
      ]
     },
     "execution_count": 17,
     "metadata": {},
     "output_type": "execute_result"
    }
   ],
   "source": [
    "render = False\n",
    "slow = True\n",
    "score = 0\n",
    "frame_history = []\n",
    "action_history = []\n",
    "reward_history = []\n",
    "done = False # done gets returned from the environment to tell you if this game (first to 21 points) is over\n",
    "raw_pixels = env.reset()\n",
    "raw_pixels, reward, done, info = env.step(1)\n",
    "pixels = prepro(raw_pixels)\n",
    "\n",
    "paddle1_start = 10\n",
    "paddle2_start = 70\n",
    "\n",
    "ball_area = pixels[:, paddle1_start:paddle2_start]\n",
    "np.mean(np.where(ball_area > 0)[0])"
   ]
  },
  {
   "cell_type": "code",
   "execution_count": 18,
   "id": "ed26b890",
   "metadata": {},
   "outputs": [],
   "source": [
    "n_sims = 500\n",
    "score_list = []\n",
    "\n",
    "for i in range(n_sims):\n",
    "    render = False\n",
    "    slow = True\n",
    "    score = 0\n",
    "    frame_history = []\n",
    "    action_history = []\n",
    "    reward_history = []\n",
    "    done = False # done gets returned from the environment to tell you if this game (first to 21 points) is over\n",
    "    raw_pixels = env.reset()\n",
    "    raw_pixels, reward, done, info = env.step(1)\n",
    "    pixels = prepro(raw_pixels)\n",
    "\n",
    "    k = 0\n",
    "    while not done:\n",
    "        k += 1\n",
    "        action = np.random.choice([0,2,3]) # we'll eventually pick the action from a NN\n",
    "        if render == True: # do you actually want to visualize the playing?\n",
    "            env.render()\n",
    "            if slow == True: # do you want to slow it down so you can see the game better?\n",
    "                time.sleep(0.005)\n",
    "        raw_pixels, reward, done, info = env.step(get_action(pixels))\n",
    "        frame_history.append(pixels)\n",
    "        action_history.append(action) # these are the action and reward when you saw the last frame\n",
    "        reward_history.append(reward)\n",
    "        pixels = prepro(raw_pixels) # now this is the new frame\n",
    "        if reward >= 0:\n",
    "            score += reward\n",
    "        \n",
    "#         if k%20 == 0:\n",
    "#             plt.imshow(pixels)\n",
    "#             plt.show()\n",
    "    score_list.append(score)\n",
    "\n",
    "    # after a game, with all that we saved we'll do a little optimization on the NN"
   ]
  },
  {
   "cell_type": "code",
   "execution_count": 19,
   "id": "2fef3e8a",
   "metadata": {},
   "outputs": [
    {
     "data": {
      "text/plain": [
       "(array([  4.,  34.,  91.,  67., 120.,  92.,  33.,  46.,  11.,   2.]),\n",
       " array([ 0. ,  1.7,  3.4,  5.1,  6.8,  8.5, 10.2, 11.9, 13.6, 15.3, 17. ]),\n",
       " <BarContainer object of 10 artists>)"
      ]
     },
     "execution_count": 19,
     "metadata": {},
     "output_type": "execute_result"
    },
    {
     "data": {
      "image/png": "[encoded data removed]",
      "text/plain": [
       "<Figure size 432x288 with 1 Axes>"
      ]
     },
     "metadata": {
      "needs_background": "light"
     },
     "output_type": "display_data"
    }
   ],
   "source": [
    "plt.hist(score_list)"
   ]
  },
  {
   "cell_type": "code",
   "execution_count": 20,
   "id": "39e8e766",
   "metadata": {},
   "outputs": [
    {
     "name": "stdout",
     "output_type": "stream",
     "text": [
      "7.586\n",
      "CI 7.044163006061787 8.127836993938214\n"
     ]
    }
   ],
   "source": [
    "score_mean = np.mean(score_list)\n",
    "score_std = np.std(score_list)/n_sims**0.5\n",
    "print(score_mean)\n",
    "print('CI', score_mean - 4*score_std, score_mean + 4*score_std)"
   ]
  },
  {
   "cell_type": "code",
   "execution_count": 21,
   "id": "45e797f6",
   "metadata": {},
   "outputs": [
    {
     "data": {
      "text/plain": [
       "7.0"
      ]
     },
     "execution_count": 21,
     "metadata": {},
     "output_type": "execute_result"
    }
   ],
   "source": [
    "np.median(score_list)"
   ]
  },
  {
   "cell_type": "code",
   "execution_count": null,
   "id": "d13341cc",
   "metadata": {},
   "outputs": [],
   "source": []
  }
 ],
 "metadata": {
  "kernelspec": {
   "display_name": "Python 3",
   "language": "python",
   "name": "python3"
  },
  "language_info": {
   "codemirror_mode": {
    "name": "ipython",
    "version": 3
   },
   "file_extension": ".py",
   "mimetype": "text/x-python",
   "name": "python",
   "nbconvert_exporter": "python",
   "pygments_lexer": "ipython3",
   "version": "3.8.8"
  }
 },
 "nbformat": 4,
 "nbformat_minor": 5
}
