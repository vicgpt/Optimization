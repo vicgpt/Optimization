{
 "cells": [
  {
   "cell_type": "code",
   "execution_count": 1,
   "id": "4f7d4132",
   "metadata": {},
   "outputs": [],
   "source": [
    "import pandas as pd\n",
    "import numpy as np\n",
    "import gurobipy as gp"
   ]
  },
  {
   "cell_type": "markdown",
   "id": "55f3317c",
   "metadata": {},
   "source": [
    "## Q1.\n",
    "Use 2019 stock data ( stocks2019.csv  Download stocks2019.csv ) to find a portfolio that maximizes expected return while maintaining that no more than 100 days have a negative return.  Short selling is not allowed.  Apply this portfolio to 2020 data ( stocks2020.csv  Download stocks2020.csv ), how many days in 2020 had negative returns?\n",
    "\n",
    "To solve this problem set your objective to be the mean return of your portfolio.  Then define a binary variable for each days' return that takes on the value 1 if that day's return is negative, and 0 if it's positive (enforce this with a big-M constraint) and then add a constraint that the sum of these binary variables must be less than or equal to 100.  This is an integer programming problem."
   ]
  },
  {
   "cell_type": "code",
   "execution_count": 2,
   "id": "b1d21e57",
   "metadata": {},
   "outputs": [],
   "source": [
    "data_2019 = pd.read_csv('stocks2019.csv')\n",
    "data_2020 = pd.read_csv('stocks2020-1.csv')"
   ]
  },
  {
   "cell_type": "code",
   "execution_count": 3,
   "id": "50064871",
   "metadata": {},
   "outputs": [
    {
     "data": {
      "text/html": [
       "<div>\n",
       "<style scoped>\n",
       "    .dataframe tbody tr th:only-of-type {\n",
       "        vertical-align: middle;\n",
       "    }\n",
       "\n",
       "    .dataframe tbody tr th {\n",
       "        vertical-align: top;\n",
       "    }\n",
       "\n",
       "    .dataframe thead th {\n",
       "        text-align: right;\n",
       "    }\n",
       "</style>\n",
       "<table border=\"1\" class=\"dataframe\">\n",
       "  <thead>\n",
       "    <tr style=\"text-align: right;\">\n",
       "      <th></th>\n",
       "      <th>X</th>\n",
       "      <th>NDX</th>\n",
       "      <th>ATVI</th>\n",
       "      <th>ADBE</th>\n",
       "      <th>AMD</th>\n",
       "      <th>ALXN</th>\n",
       "      <th>ALGN</th>\n",
       "      <th>GOOGL</th>\n",
       "      <th>GOOG</th>\n",
       "      <th>AMZN</th>\n",
       "      <th>...</th>\n",
       "      <th>TCOM</th>\n",
       "      <th>ULTA</th>\n",
       "      <th>VRSN</th>\n",
       "      <th>VRSK</th>\n",
       "      <th>VRTX</th>\n",
       "      <th>WBA</th>\n",
       "      <th>WDAY</th>\n",
       "      <th>WDC</th>\n",
       "      <th>XEL</th>\n",
       "      <th>XLNX</th>\n",
       "    </tr>\n",
       "  </thead>\n",
       "  <tbody>\n",
       "    <tr>\n",
       "      <th>0</th>\n",
       "      <td>2019-01-02</td>\n",
       "      <td>6360.870117</td>\n",
       "      <td>46.350380</td>\n",
       "      <td>224.570007</td>\n",
       "      <td>18.830000</td>\n",
       "      <td>98.050003</td>\n",
       "      <td>202.119995</td>\n",
       "      <td>1054.680054</td>\n",
       "      <td>1045.849976</td>\n",
       "      <td>1539.130005</td>\n",
       "      <td>...</td>\n",
       "      <td>27.590000</td>\n",
       "      <td>247.970001</td>\n",
       "      <td>147.759995</td>\n",
       "      <td>107.364159</td>\n",
       "      <td>164.080002</td>\n",
       "      <td>63.920757</td>\n",
       "      <td>159.740005</td>\n",
       "      <td>36.312473</td>\n",
       "      <td>46.041862</td>\n",
       "      <td>84.600266</td>\n",
       "    </tr>\n",
       "    <tr>\n",
       "      <th>1</th>\n",
       "      <td>2019-01-03</td>\n",
       "      <td>6147.129883</td>\n",
       "      <td>44.704514</td>\n",
       "      <td>215.699997</td>\n",
       "      <td>17.049999</td>\n",
       "      <td>100.209999</td>\n",
       "      <td>184.779999</td>\n",
       "      <td>1025.469971</td>\n",
       "      <td>1016.059998</td>\n",
       "      <td>1500.280029</td>\n",
       "      <td>...</td>\n",
       "      <td>26.959999</td>\n",
       "      <td>243.360001</td>\n",
       "      <td>142.589996</td>\n",
       "      <td>104.083450</td>\n",
       "      <td>163.729996</td>\n",
       "      <td>63.253742</td>\n",
       "      <td>154.020004</td>\n",
       "      <td>33.835327</td>\n",
       "      <td>45.860447</td>\n",
       "      <td>81.414970</td>\n",
       "    </tr>\n",
       "    <tr>\n",
       "      <th>2</th>\n",
       "      <td>2019-01-04</td>\n",
       "      <td>6422.669922</td>\n",
       "      <td>46.488358</td>\n",
       "      <td>226.190002</td>\n",
       "      <td>19.000000</td>\n",
       "      <td>106.000000</td>\n",
       "      <td>186.710007</td>\n",
       "      <td>1078.069946</td>\n",
       "      <td>1070.709961</td>\n",
       "      <td>1575.390015</td>\n",
       "      <td>...</td>\n",
       "      <td>28.549999</td>\n",
       "      <td>255.029999</td>\n",
       "      <td>148.970001</td>\n",
       "      <td>108.678413</td>\n",
       "      <td>172.699997</td>\n",
       "      <td>65.358139</td>\n",
       "      <td>163.350006</td>\n",
       "      <td>35.268467</td>\n",
       "      <td>46.309223</td>\n",
       "      <td>85.184715</td>\n",
       "    </tr>\n",
       "    <tr>\n",
       "      <th>3</th>\n",
       "      <td>2019-01-07</td>\n",
       "      <td>6488.250000</td>\n",
       "      <td>47.799141</td>\n",
       "      <td>229.259995</td>\n",
       "      <td>20.570000</td>\n",
       "      <td>107.940002</td>\n",
       "      <td>189.919998</td>\n",
       "      <td>1075.920044</td>\n",
       "      <td>1068.390015</td>\n",
       "      <td>1629.510010</td>\n",
       "      <td>...</td>\n",
       "      <td>29.180000</td>\n",
       "      <td>271.000000</td>\n",
       "      <td>151.399994</td>\n",
       "      <td>108.787117</td>\n",
       "      <td>175.850006</td>\n",
       "      <td>65.733910</td>\n",
       "      <td>163.500000</td>\n",
       "      <td>36.521275</td>\n",
       "      <td>46.108707</td>\n",
       "      <td>87.434891</td>\n",
       "    </tr>\n",
       "    <tr>\n",
       "      <th>4</th>\n",
       "      <td>2019-01-08</td>\n",
       "      <td>6551.850098</td>\n",
       "      <td>49.247898</td>\n",
       "      <td>232.679993</td>\n",
       "      <td>20.750000</td>\n",
       "      <td>108.610001</td>\n",
       "      <td>192.949997</td>\n",
       "      <td>1085.369995</td>\n",
       "      <td>1076.280029</td>\n",
       "      <td>1656.579956</td>\n",
       "      <td>...</td>\n",
       "      <td>29.480000</td>\n",
       "      <td>276.000000</td>\n",
       "      <td>156.919998</td>\n",
       "      <td>109.755516</td>\n",
       "      <td>178.190002</td>\n",
       "      <td>67.049149</td>\n",
       "      <td>166.949997</td>\n",
       "      <td>36.170105</td>\n",
       "      <td>46.643410</td>\n",
       "      <td>85.769180</td>\n",
       "    </tr>\n",
       "    <tr>\n",
       "      <th>...</th>\n",
       "      <td>...</td>\n",
       "      <td>...</td>\n",
       "      <td>...</td>\n",
       "      <td>...</td>\n",
       "      <td>...</td>\n",
       "      <td>...</td>\n",
       "      <td>...</td>\n",
       "      <td>...</td>\n",
       "      <td>...</td>\n",
       "      <td>...</td>\n",
       "      <td>...</td>\n",
       "      <td>...</td>\n",
       "      <td>...</td>\n",
       "      <td>...</td>\n",
       "      <td>...</td>\n",
       "      <td>...</td>\n",
       "      <td>...</td>\n",
       "      <td>...</td>\n",
       "      <td>...</td>\n",
       "      <td>...</td>\n",
       "      <td>...</td>\n",
       "    </tr>\n",
       "    <tr>\n",
       "      <th>246</th>\n",
       "      <td>2019-12-23</td>\n",
       "      <td>8696.009766</td>\n",
       "      <td>58.505219</td>\n",
       "      <td>328.950012</td>\n",
       "      <td>45.459999</td>\n",
       "      <td>110.459999</td>\n",
       "      <td>278.140015</td>\n",
       "      <td>1350.630005</td>\n",
       "      <td>1348.839966</td>\n",
       "      <td>1793.000000</td>\n",
       "      <td>...</td>\n",
       "      <td>34.660000</td>\n",
       "      <td>253.020004</td>\n",
       "      <td>192.429993</td>\n",
       "      <td>148.814499</td>\n",
       "      <td>219.979996</td>\n",
       "      <td>56.759140</td>\n",
       "      <td>165.610001</td>\n",
       "      <td>61.401749</td>\n",
       "      <td>61.415092</td>\n",
       "      <td>97.683632</td>\n",
       "    </tr>\n",
       "    <tr>\n",
       "      <th>247</th>\n",
       "      <td>2019-12-24</td>\n",
       "      <td>8699.509766</td>\n",
       "      <td>58.425743</td>\n",
       "      <td>329.640015</td>\n",
       "      <td>46.540001</td>\n",
       "      <td>110.279999</td>\n",
       "      <td>277.890015</td>\n",
       "      <td>1344.430054</td>\n",
       "      <td>1343.560059</td>\n",
       "      <td>1789.209961</td>\n",
       "      <td>...</td>\n",
       "      <td>34.470001</td>\n",
       "      <td>252.490005</td>\n",
       "      <td>192.750000</td>\n",
       "      <td>148.436371</td>\n",
       "      <td>220.559998</td>\n",
       "      <td>56.545940</td>\n",
       "      <td>166.190002</td>\n",
       "      <td>60.941479</td>\n",
       "      <td>61.655396</td>\n",
       "      <td>97.278679</td>\n",
       "    </tr>\n",
       "    <tr>\n",
       "      <th>248</th>\n",
       "      <td>2019-12-26</td>\n",
       "      <td>8778.309570</td>\n",
       "      <td>58.505219</td>\n",
       "      <td>331.200012</td>\n",
       "      <td>46.630001</td>\n",
       "      <td>108.930000</td>\n",
       "      <td>278.260010</td>\n",
       "      <td>1362.469971</td>\n",
       "      <td>1360.400024</td>\n",
       "      <td>1868.770020</td>\n",
       "      <td>...</td>\n",
       "      <td>34.570000</td>\n",
       "      <td>251.330002</td>\n",
       "      <td>193.710007</td>\n",
       "      <td>148.098038</td>\n",
       "      <td>220.250000</td>\n",
       "      <td>57.078938</td>\n",
       "      <td>165.360001</td>\n",
       "      <td>61.499676</td>\n",
       "      <td>61.586739</td>\n",
       "      <td>97.466339</td>\n",
       "    </tr>\n",
       "    <tr>\n",
       "      <th>249</th>\n",
       "      <td>2019-12-27</td>\n",
       "      <td>8770.980469</td>\n",
       "      <td>58.803261</td>\n",
       "      <td>330.790009</td>\n",
       "      <td>46.180000</td>\n",
       "      <td>108.550003</td>\n",
       "      <td>277.640015</td>\n",
       "      <td>1354.640015</td>\n",
       "      <td>1351.890015</td>\n",
       "      <td>1869.800049</td>\n",
       "      <td>...</td>\n",
       "      <td>34.610001</td>\n",
       "      <td>253.169998</td>\n",
       "      <td>194.050003</td>\n",
       "      <td>147.849274</td>\n",
       "      <td>220.970001</td>\n",
       "      <td>57.195225</td>\n",
       "      <td>165.850006</td>\n",
       "      <td>60.843552</td>\n",
       "      <td>61.910412</td>\n",
       "      <td>97.209534</td>\n",
       "    </tr>\n",
       "    <tr>\n",
       "      <th>250</th>\n",
       "      <td>2019-12-30</td>\n",
       "      <td>8709.730469</td>\n",
       "      <td>58.495289</td>\n",
       "      <td>328.339996</td>\n",
       "      <td>45.520000</td>\n",
       "      <td>107.339996</td>\n",
       "      <td>275.630005</td>\n",
       "      <td>1339.709961</td>\n",
       "      <td>1336.140015</td>\n",
       "      <td>1846.890015</td>\n",
       "      <td>...</td>\n",
       "      <td>34.200001</td>\n",
       "      <td>251.350006</td>\n",
       "      <td>192.330002</td>\n",
       "      <td>146.824341</td>\n",
       "      <td>218.970001</td>\n",
       "      <td>57.088627</td>\n",
       "      <td>163.839996</td>\n",
       "      <td>61.088375</td>\n",
       "      <td>62.077152</td>\n",
       "      <td>96.478645</td>\n",
       "    </tr>\n",
       "  </tbody>\n",
       "</table>\n",
       "<p>251 rows × 102 columns</p>\n",
       "</div>"
      ],
      "text/plain": [
       "              X          NDX       ATVI        ADBE        AMD        ALXN  \\\n",
       "0    2019-01-02  6360.870117  46.350380  224.570007  18.830000   98.050003   \n",
       "1    2019-01-03  6147.129883  44.704514  215.699997  17.049999  100.209999   \n",
       "2    2019-01-04  6422.669922  46.488358  226.190002  19.000000  106.000000   \n",
       "3    2019-01-07  6488.250000  47.799141  229.259995  20.570000  107.940002   \n",
       "4    2019-01-08  6551.850098  49.247898  232.679993  20.750000  108.610001   \n",
       "..          ...          ...        ...         ...        ...         ...   \n",
       "246  2019-12-23  8696.009766  58.505219  328.950012  45.459999  110.459999   \n",
       "247  2019-12-24  8699.509766  58.425743  329.640015  46.540001  110.279999   \n",
       "248  2019-12-26  8778.309570  58.505219  331.200012  46.630001  108.930000   \n",
       "249  2019-12-27  8770.980469  58.803261  330.790009  46.180000  108.550003   \n",
       "250  2019-12-30  8709.730469  58.495289  328.339996  45.520000  107.339996   \n",
       "\n",
       "           ALGN        GOOGL         GOOG         AMZN  ...       TCOM  \\\n",
       "0    202.119995  1054.680054  1045.849976  1539.130005  ...  27.590000   \n",
       "1    184.779999  1025.469971  1016.059998  1500.280029  ...  26.959999   \n",
       "2    186.710007  1078.069946  1070.709961  1575.390015  ...  28.549999   \n",
       "3    189.919998  1075.920044  1068.390015  1629.510010  ...  29.180000   \n",
       "4    192.949997  1085.369995  1076.280029  1656.579956  ...  29.480000   \n",
       "..          ...          ...          ...          ...  ...        ...   \n",
       "246  278.140015  1350.630005  1348.839966  1793.000000  ...  34.660000   \n",
       "247  277.890015  1344.430054  1343.560059  1789.209961  ...  34.470001   \n",
       "248  278.260010  1362.469971  1360.400024  1868.770020  ...  34.570000   \n",
       "249  277.640015  1354.640015  1351.890015  1869.800049  ...  34.610001   \n",
       "250  275.630005  1339.709961  1336.140015  1846.890015  ...  34.200001   \n",
       "\n",
       "           ULTA        VRSN        VRSK        VRTX        WBA        WDAY  \\\n",
       "0    247.970001  147.759995  107.364159  164.080002  63.920757  159.740005   \n",
       "1    243.360001  142.589996  104.083450  163.729996  63.253742  154.020004   \n",
       "2    255.029999  148.970001  108.678413  172.699997  65.358139  163.350006   \n",
       "3    271.000000  151.399994  108.787117  175.850006  65.733910  163.500000   \n",
       "4    276.000000  156.919998  109.755516  178.190002  67.049149  166.949997   \n",
       "..          ...         ...         ...         ...        ...         ...   \n",
       "246  253.020004  192.429993  148.814499  219.979996  56.759140  165.610001   \n",
       "247  252.490005  192.750000  148.436371  220.559998  56.545940  166.190002   \n",
       "248  251.330002  193.710007  148.098038  220.250000  57.078938  165.360001   \n",
       "249  253.169998  194.050003  147.849274  220.970001  57.195225  165.850006   \n",
       "250  251.350006  192.330002  146.824341  218.970001  57.088627  163.839996   \n",
       "\n",
       "           WDC        XEL       XLNX  \n",
       "0    36.312473  46.041862  84.600266  \n",
       "1    33.835327  45.860447  81.414970  \n",
       "2    35.268467  46.309223  85.184715  \n",
       "3    36.521275  46.108707  87.434891  \n",
       "4    36.170105  46.643410  85.769180  \n",
       "..         ...        ...        ...  \n",
       "246  61.401749  61.415092  97.683632  \n",
       "247  60.941479  61.655396  97.278679  \n",
       "248  61.499676  61.586739  97.466339  \n",
       "249  60.843552  61.910412  97.209534  \n",
       "250  61.088375  62.077152  96.478645  \n",
       "\n",
       "[251 rows x 102 columns]"
      ]
     },
     "execution_count": 3,
     "metadata": {},
     "output_type": "execute_result"
    }
   ],
   "source": [
    "data_2019"
   ]
  },
  {
   "cell_type": "code",
   "execution_count": 4,
   "id": "03bcfedd",
   "metadata": {},
   "outputs": [],
   "source": [
    "# function to provide returns from the prices\n",
    "def get_returns(df):\n",
    "    \n",
    "    shift_df = df.shift(1)\n",
    "    return_df = (df - shift_df)/shift_df\n",
    "    return_df.dropna(inplace=True)\n",
    "    \n",
    "    return return_df"
   ]
  },
  {
   "cell_type": "code",
   "execution_count": 5,
   "id": "a3654f65",
   "metadata": {},
   "outputs": [
    {
     "name": "stdout",
     "output_type": "stream",
     "text": [
      "# of stocks 100\n",
      "# of trading days 251\n",
      "(250, 100)\n"
     ]
    }
   ],
   "source": [
    "# printing numer of stocks and trading days\n",
    "print('# of stocks', data_2019.shape[1]-2)\n",
    "print('# of trading days', data_2019.shape[0])\n",
    "\n",
    "# getting returns for index and stocks values for 2019\n",
    "returns_2019 = get_returns(data_2019.iloc[:, 1:])\n",
    "index_2019 = returns_2019[['NDX']].values\n",
    "stocks_2019 = returns_2019.iloc[:, 1:].values\n",
    "print(stocks_2019.shape)"
   ]
  },
  {
   "cell_type": "code",
   "execution_count": 6,
   "id": "3d861ec7",
   "metadata": {},
   "outputs": [
    {
     "name": "stdout",
     "output_type": "stream",
     "text": [
      "# of stocks 100\n",
      "# of trading days 252\n"
     ]
    }
   ],
   "source": [
    "# printing numer of stocks and trading days\n",
    "print('# of stocks', data_2020.shape[1]-2)\n",
    "print('# of trading days', data_2020.shape[0])\n",
    "\n",
    "# getting returns for index and stocks values for 2020\n",
    "returns_2020 = get_returns(data_2020.iloc[:, 1:])\n",
    "index_2020 = returns_2020[['NDX']].values\n",
    "stocks_2020 = returns_2020.iloc[:, 1:].values"
   ]
  },
  {
   "cell_type": "code",
   "execution_count": 7,
   "id": "fcc6b8d0",
   "metadata": {},
   "outputs": [
    {
     "name": "stdout",
     "output_type": "stream",
     "text": [
      "# of stocks 100\n",
      "# of days 250\n"
     ]
    }
   ],
   "source": [
    "# positive return days\n",
    "n_days_pos = 100\n",
    "\n",
    "# getting total number of stocks\n",
    "n = stocks_2019.shape[1]\n",
    "print('# of stocks', n)\n",
    "\n",
    "# getting total number of days\n",
    "n_days = stocks_2019.shape[0]\n",
    "print('# of days', n_days)"
   ]
  },
  {
   "cell_type": "code",
   "execution_count": 8,
   "id": "adbbbf09",
   "metadata": {},
   "outputs": [],
   "source": [
    "# creating avg return for each stock for optimal function\n",
    "avg_return_2019 = np.mean(stocks_2019, 1)"
   ]
  },
  {
   "cell_type": "code",
   "execution_count": 118,
   "id": "98fad6b9",
   "metadata": {},
   "outputs": [
    {
     "name": "stdout",
     "output_type": "stream",
     "text": [
      "Shape of constraint matrix (502, 350)\n"
     ]
    }
   ],
   "source": [
    "# setting constraints matrix\n",
    "A = np.zeros((2*n_days + 2, n + n_days))\n",
    "b = np.zeros(2*n_days + 2)\n",
    "sense = ['<']*(A.shape[0])\n",
    "vtype = ['C']*n + ['B']*n_days\n",
    "obj = np.zeros(A.shape[1])\n",
    "lb = [0]*A.shape[1]\n",
    "ub = [1]*A.shape[1]\n",
    "\n",
    "# checking constraint matrix size\n",
    "print('Shape of constraint matrix', A.shape)"
   ]
  },
  {
   "cell_type": "code",
   "execution_count": 119,
   "id": "7cc99ed7",
   "metadata": {},
   "outputs": [
    {
     "data": {
      "text/plain": [
       "0.27155174606686744"
      ]
     },
     "execution_count": 119,
     "metadata": {},
     "output_type": "execute_result"
    }
   ],
   "source": [
    "returns_2019.max().max()"
   ]
  },
  {
   "cell_type": "code",
   "execution_count": 126,
   "id": "f66994f9",
   "metadata": {},
   "outputs": [],
   "source": [
    "# setting first constraint for binary varibale\n",
    "bigM = 1\n",
    "for i in range(n_days):\n",
    "    A[2*i, :n] = stocks_2019[i, :]\n",
    "    A[2*i, n+i] = 1\n",
    "    b[2*i] = 0\n",
    "    sense[2*i] = '>'\n",
    "    \n",
    "    A[2*i+1, :n] = stocks_2019[i, :]\n",
    "    A[2*i+1, n+i] = 1\n",
    "    b[2*i+1] = bigM\n",
    "    sense[2*i+1] = '<'\n",
    "    \n",
    "# second constraint\n",
    "A[-2, :n] = 1\n",
    "b[-2] = 1\n",
    "sense[-2] = '='\n",
    "    \n",
    "# last constraint\n",
    "A[-1, n:] = 1\n",
    "b[-1] = 100"
   ]
  },
  {
   "cell_type": "code",
   "execution_count": 145,
   "id": "f95af632",
   "metadata": {},
   "outputs": [],
   "source": [
    "# setting objective\n",
    "yearly_return = (data_2019.iloc[-1, 2:] - data_2019.iloc[0, 2:])/data_2019.iloc[0, 2:]\n",
    "# obj[:n] = yearly_return.values\n",
    "obj[:n] = stocks_2019.mean(axis=0)"
   ]
  },
  {
   "cell_type": "code",
   "execution_count": 146,
   "id": "a1545372",
   "metadata": {},
   "outputs": [],
   "source": [
    "# running the model\n",
    "model = gp.Model()\n",
    "\n",
    "modx = model.addMVar(A.shape[1], ub=ub, lb=lb, vtype=vtype)\n",
    "\n",
    "mod_con = model.addMConstrs(A, modx, sense, b)\n",
    "\n",
    "# setting the objective function\n",
    "model.setMObjective(None, obj, 0, sense=gp.GRB.MAXIMIZE)\n",
    "\n",
    "# restricting gurobi logs\n",
    "model.Params.OutputFlag = 0\n",
    "\n",
    "# optimizing the function\n",
    "model.optimize()\n"
   ]
  },
  {
   "cell_type": "code",
   "execution_count": 240,
   "id": "d951e70e",
   "metadata": {
    "scrolled": true
   },
   "outputs": [
    {
     "data": {
      "text/plain": [
       "[0.0,\n",
       " 0.0,\n",
       " 0.776156716545457,\n",
       " 0.0,\n",
       " 0.0,\n",
       " 0.0,\n",
       " 0.0,\n",
       " 0.0,\n",
       " 0.0,\n",
       " 0.0,\n",
       " 0.0,\n",
       " 0.0,\n",
       " 0.0,\n",
       " 0.0,\n",
       " 0.0,\n",
       " 0.0,\n",
       " 0.0,\n",
       " 0.0,\n",
       " 0.0,\n",
       " 0.0,\n",
       " 0.0,\n",
       " 0.0,\n",
       " 0.0,\n",
       " 0.0,\n",
       " 0.0,\n",
       " 0.0,\n",
       " 0.0,\n",
       " 0.0,\n",
       " 0.0,\n",
       " 0.0,\n",
       " 0.0,\n",
       " 0.0,\n",
       " 0.0,\n",
       " 0.0,\n",
       " 0.02417055999479501,\n",
       " 0.0,\n",
       " 0.0,\n",
       " 0.0,\n",
       " 0.0,\n",
       " 0.0,\n",
       " 0.0,\n",
       " 0.0,\n",
       " 0.0,\n",
       " 0.0,\n",
       " 0.0,\n",
       " 0.0,\n",
       " 0.0,\n",
       " 0.0,\n",
       " 0.0,\n",
       " 0.0,\n",
       " 0.0,\n",
       " 0.01663170658250162,\n",
       " 0.0006199707130187007,\n",
       " 0.0,\n",
       " 0.03675844139983354,\n",
       " 0.0,\n",
       " 0.0,\n",
       " 0.033611349531429566,\n",
       " 0.0,\n",
       " 0.0,\n",
       " 0.042692789639948325,\n",
       " 0.0,\n",
       " 0.0,\n",
       " 0.0,\n",
       " 0.0,\n",
       " 0.0,\n",
       " 0.0,\n",
       " 7.64150200626612e-18,\n",
       " 0.0,\n",
       " 0.0,\n",
       " 0.0,\n",
       " 0.0,\n",
       " 0.0,\n",
       " 0.0,\n",
       " 0.0,\n",
       " 0.0,\n",
       " 0.0,\n",
       " 0.0021241804390502994,\n",
       " 0.0,\n",
       " 0.0,\n",
       " 0.045710726508083,\n",
       " 0.0,\n",
       " 0.021523558645882908,\n",
       " 0.0,\n",
       " 0.0,\n",
       " 0.0,\n",
       " 0.0,\n",
       " 0.0,\n",
       " 0.0,\n",
       " 0.0,\n",
       " 0.0,\n",
       " 0.0,\n",
       " 0.0,\n",
       " 0.0,\n",
       " 0.0,\n",
       " 0.0,\n",
       " 0.0,\n",
       " 0.0,\n",
       " 4.455598012248445e-18,\n",
       " 0.0]"
      ]
     },
     "execution_count": 240,
     "metadata": {},
     "output_type": "execute_result"
    }
   ],
   "source": [
    "model.x[:n]"
   ]
  },
  {
   "cell_type": "code",
   "execution_count": 148,
   "id": "a39b75b3",
   "metadata": {},
   "outputs": [
    {
     "data": {
      "text/plain": [
       "100.0"
      ]
     },
     "execution_count": 148,
     "metadata": {},
     "output_type": "execute_result"
    }
   ],
   "source": [
    "sum(model.x[n:])"
   ]
  },
  {
   "cell_type": "code",
   "execution_count": 149,
   "id": "2d42a791",
   "metadata": {},
   "outputs": [
    {
     "data": {
      "text/plain": [
       "115"
      ]
     },
     "execution_count": 149,
     "metadata": {},
     "output_type": "execute_result"
    }
   ],
   "source": [
    "weights = model.x[:n]\n",
    "sum((stocks_2020 @ weights) < 0)"
   ]
  },
  {
   "cell_type": "markdown",
   "id": "7193d190",
   "metadata": {},
   "source": [
    "## Q2"
   ]
  },
  {
   "cell_type": "markdown",
   "id": "c1cbdd35",
   "metadata": {},
   "source": [
    "You are the publisher for 5 local newspapers.  The previous 50 days worth of demand is included in the following file\n",
    "\n",
    "hw2_demand.csv  Download hw2_demand.csv \n",
    "\n",
    "It costs you $0.50, $0.50, $0.25, $0.75, $0.25  to print each copy of each of the 5 newspapers.\n",
    "\n",
    "The newspapers sell for $1.25, $1.20, $0.50, $1.50, $0.60 each.\n",
    "\n",
    "\n",
    "Solve the multi-product newsvendor problem.\n",
    "\n",
    " \n",
    "How much profits do you expect to make tomorrow?  Round to the nearest cent."
   ]
  },
  {
   "cell_type": "code",
   "execution_count": 160,
   "id": "d634f25c",
   "metadata": {},
   "outputs": [
    {
     "data": {
      "text/html": [
       "<div>\n",
       "<style scoped>\n",
       "    .dataframe tbody tr th:only-of-type {\n",
       "        vertical-align: middle;\n",
       "    }\n",
       "\n",
       "    .dataframe tbody tr th {\n",
       "        vertical-align: top;\n",
       "    }\n",
       "\n",
       "    .dataframe thead th {\n",
       "        text-align: right;\n",
       "    }\n",
       "</style>\n",
       "<table border=\"1\" class=\"dataframe\">\n",
       "  <thead>\n",
       "    <tr style=\"text-align: right;\">\n",
       "      <th></th>\n",
       "      <th>X1</th>\n",
       "      <th>X2</th>\n",
       "      <th>X3</th>\n",
       "      <th>X4</th>\n",
       "      <th>X5</th>\n",
       "    </tr>\n",
       "  </thead>\n",
       "  <tbody>\n",
       "    <tr>\n",
       "      <th>0</th>\n",
       "      <td>19</td>\n",
       "      <td>1358</td>\n",
       "      <td>95</td>\n",
       "      <td>65</td>\n",
       "      <td>4994</td>\n",
       "    </tr>\n",
       "    <tr>\n",
       "      <th>1</th>\n",
       "      <td>31</td>\n",
       "      <td>734</td>\n",
       "      <td>153</td>\n",
       "      <td>106</td>\n",
       "      <td>1711</td>\n",
       "    </tr>\n",
       "    <tr>\n",
       "      <th>2</th>\n",
       "      <td>45</td>\n",
       "      <td>732</td>\n",
       "      <td>198</td>\n",
       "      <td>348</td>\n",
       "      <td>205</td>\n",
       "    </tr>\n",
       "    <tr>\n",
       "      <th>3</th>\n",
       "      <td>1</td>\n",
       "      <td>57</td>\n",
       "      <td>64</td>\n",
       "      <td>89</td>\n",
       "      <td>278</td>\n",
       "    </tr>\n",
       "    <tr>\n",
       "      <th>4</th>\n",
       "      <td>180</td>\n",
       "      <td>316</td>\n",
       "      <td>277</td>\n",
       "      <td>176</td>\n",
       "      <td>46</td>\n",
       "    </tr>\n",
       "  </tbody>\n",
       "</table>\n",
       "</div>"
      ],
      "text/plain": [
       "    X1    X2   X3   X4    X5\n",
       "0   19  1358   95   65  4994\n",
       "1   31   734  153  106  1711\n",
       "2   45   732  198  348   205\n",
       "3    1    57   64   89   278\n",
       "4  180   316  277  176    46"
      ]
     },
     "execution_count": 160,
     "metadata": {},
     "output_type": "execute_result"
    }
   ],
   "source": [
    "data = pd.read_csv('hw2_demand.csv')\n",
    "data.head()"
   ]
  },
  {
   "cell_type": "code",
   "execution_count": 161,
   "id": "82357732",
   "metadata": {},
   "outputs": [
    {
     "data": {
      "text/plain": [
       "(50, 5)"
      ]
     },
     "execution_count": 161,
     "metadata": {},
     "output_type": "execute_result"
    }
   ],
   "source": [
    "data.shape"
   ]
  },
  {
   "cell_type": "code",
   "execution_count": 190,
   "id": "f487ebd2",
   "metadata": {},
   "outputs": [],
   "source": [
    "p = [1.25, 1.20, 0.50, 1.50, 0.60]\n",
    "c = [0.50, 0.50, 0.25, 0.75, 0.25]\n",
    "n_newspaper = 5\n",
    "n_days = 50"
   ]
  },
  {
   "cell_type": "code",
   "execution_count": 322,
   "id": "9164ee6d",
   "metadata": {},
   "outputs": [
    {
     "name": "stdout",
     "output_type": "stream",
     "text": [
      "Shape of constraint matrix (500, 255)\n"
     ]
    }
   ],
   "source": [
    "# setting constraints matrix\n",
    "A = np.zeros((n_newspaper*2*n_days , n_newspaper*(n_days + 1)))\n",
    "b = np.zeros(A.shape[1])\n",
    "sense = ['<']*A.shape[0]\n",
    "vtype = ['C']*A.shape[0]\n",
    "obj = np.zeros(A.shape[1])\n",
    "\n",
    "# checking constraint matrix size\n",
    "print('Shape of constraint matrix', A.shape)"
   ]
  },
  {
   "cell_type": "code",
   "execution_count": 329,
   "id": "2634fa23",
   "metadata": {},
   "outputs": [],
   "source": [
    "# decision variables are (q, h1, h2, ..., h25)\n",
    "obj = np.zeros(A.shape[1])\n",
    "obj[n_newspaper:] = 1/n_days\n",
    "\n",
    "lb = np.zeros(A.shape[1])\n",
    "lb[n_newspaper:] = -np.inf # quantity printed needs to be non-negative, but profit on a given day could possibly be negative\n",
    "\n",
    "rhs = np.zeros(A.shape[0])\n",
    "direction = np.array(['<']*(A.shape[0]))"
   ]
  },
  {
   "cell_type": "code",
   "execution_count": 330,
   "id": "de58d127",
   "metadata": {},
   "outputs": [
    {
     "name": "stdout",
     "output_type": "stream",
     "text": [
      "0 0 5\n",
      "2 0 6\n",
      "4 0 7\n",
      "6 0 8\n",
      "8 0 9\n",
      "10 0 10\n",
      "12 0 11\n",
      "14 0 12\n",
      "16 0 13\n",
      "18 0 14\n",
      "20 0 15\n",
      "22 0 16\n",
      "24 0 17\n",
      "26 0 18\n",
      "28 0 19\n",
      "30 0 20\n",
      "32 0 21\n",
      "34 0 22\n",
      "36 0 23\n",
      "38 0 24\n",
      "40 0 25\n",
      "42 0 26\n",
      "44 0 27\n",
      "46 0 28\n",
      "48 0 29\n",
      "50 0 30\n",
      "52 0 31\n",
      "54 0 32\n",
      "56 0 33\n",
      "58 0 34\n",
      "60 0 35\n",
      "62 0 36\n",
      "64 0 37\n",
      "66 0 38\n",
      "68 0 39\n",
      "70 0 40\n",
      "72 0 41\n",
      "74 0 42\n",
      "76 0 43\n",
      "78 0 44\n",
      "80 0 45\n",
      "82 0 46\n",
      "84 0 47\n",
      "86 0 48\n",
      "88 0 49\n",
      "90 0 50\n",
      "92 0 51\n",
      "94 0 52\n",
      "96 0 53\n",
      "98 0 54\n",
      "100 1 55\n",
      "102 1 56\n",
      "104 1 57\n",
      "106 1 58\n",
      "108 1 59\n",
      "110 1 60\n",
      "112 1 61\n",
      "114 1 62\n",
      "116 1 63\n",
      "118 1 64\n",
      "120 1 65\n",
      "122 1 66\n",
      "124 1 67\n",
      "126 1 68\n",
      "128 1 69\n",
      "130 1 70\n",
      "132 1 71\n",
      "134 1 72\n",
      "136 1 73\n",
      "138 1 74\n",
      "140 1 75\n",
      "142 1 76\n",
      "144 1 77\n",
      "146 1 78\n",
      "148 1 79\n",
      "150 1 80\n",
      "152 1 81\n",
      "154 1 82\n",
      "156 1 83\n",
      "158 1 84\n",
      "160 1 85\n",
      "162 1 86\n",
      "164 1 87\n",
      "166 1 88\n",
      "168 1 89\n",
      "170 1 90\n",
      "172 1 91\n",
      "174 1 92\n",
      "176 1 93\n",
      "178 1 94\n",
      "180 1 95\n",
      "182 1 96\n",
      "184 1 97\n",
      "186 1 98\n",
      "188 1 99\n",
      "190 1 100\n",
      "192 1 101\n",
      "194 1 102\n",
      "196 1 103\n",
      "198 1 104\n",
      "200 2 105\n",
      "202 2 106\n",
      "204 2 107\n",
      "206 2 108\n",
      "208 2 109\n",
      "210 2 110\n",
      "212 2 111\n",
      "214 2 112\n",
      "216 2 113\n",
      "218 2 114\n",
      "220 2 115\n",
      "222 2 116\n",
      "224 2 117\n",
      "226 2 118\n",
      "228 2 119\n",
      "230 2 120\n",
      "232 2 121\n",
      "234 2 122\n",
      "236 2 123\n",
      "238 2 124\n",
      "240 2 125\n",
      "242 2 126\n",
      "244 2 127\n",
      "246 2 128\n",
      "248 2 129\n",
      "250 2 130\n",
      "252 2 131\n",
      "254 2 132\n",
      "256 2 133\n",
      "258 2 134\n",
      "260 2 135\n",
      "262 2 136\n",
      "264 2 137\n",
      "266 2 138\n",
      "268 2 139\n",
      "270 2 140\n",
      "272 2 141\n",
      "274 2 142\n",
      "276 2 143\n",
      "278 2 144\n",
      "280 2 145\n",
      "282 2 146\n",
      "284 2 147\n",
      "286 2 148\n",
      "288 2 149\n",
      "290 2 150\n",
      "292 2 151\n",
      "294 2 152\n",
      "296 2 153\n",
      "298 2 154\n",
      "300 3 155\n",
      "302 3 156\n",
      "304 3 157\n",
      "306 3 158\n",
      "308 3 159\n",
      "310 3 160\n",
      "312 3 161\n",
      "314 3 162\n",
      "316 3 163\n",
      "318 3 164\n",
      "320 3 165\n",
      "322 3 166\n",
      "324 3 167\n",
      "326 3 168\n",
      "328 3 169\n",
      "330 3 170\n",
      "332 3 171\n",
      "334 3 172\n",
      "336 3 173\n",
      "338 3 174\n",
      "340 3 175\n",
      "342 3 176\n",
      "344 3 177\n",
      "346 3 178\n",
      "348 3 179\n",
      "350 3 180\n",
      "352 3 181\n",
      "354 3 182\n",
      "356 3 183\n",
      "358 3 184\n",
      "360 3 185\n",
      "362 3 186\n",
      "364 3 187\n",
      "366 3 188\n",
      "368 3 189\n",
      "370 3 190\n",
      "372 3 191\n",
      "374 3 192\n",
      "376 3 193\n",
      "378 3 194\n",
      "380 3 195\n",
      "382 3 196\n",
      "384 3 197\n",
      "386 3 198\n",
      "388 3 199\n",
      "390 3 200\n",
      "392 3 201\n",
      "394 3 202\n",
      "396 3 203\n",
      "398 3 204\n",
      "400 4 205\n",
      "402 4 206\n",
      "404 4 207\n",
      "406 4 208\n",
      "408 4 209\n",
      "410 4 210\n",
      "412 4 211\n",
      "414 4 212\n",
      "416 4 213\n",
      "418 4 214\n",
      "420 4 215\n",
      "422 4 216\n",
      "424 4 217\n",
      "426 4 218\n",
      "428 4 219\n",
      "430 4 220\n",
      "432 4 221\n",
      "434 4 222\n",
      "436 4 223\n",
      "438 4 224\n",
      "440 4 225\n",
      "442 4 226\n",
      "444 4 227\n",
      "446 4 228\n",
      "448 4 229\n",
      "450 4 230\n",
      "452 4 231\n",
      "454 4 232\n",
      "456 4 233\n",
      "458 4 234\n",
      "460 4 235\n",
      "462 4 236\n",
      "464 4 237\n",
      "466 4 238\n",
      "468 4 239\n",
      "470 4 240\n",
      "472 4 241\n",
      "474 4 242\n",
      "476 4 243\n",
      "478 4 244\n",
      "480 4 245\n",
      "482 4 246\n",
      "484 4 247\n",
      "486 4 248\n",
      "488 4 249\n",
      "490 4 250\n",
      "492 4 251\n",
      "494 4 252\n",
      "496 4 253\n",
      "498 4 254\n"
     ]
    }
   ],
   "source": [
    "k = 0\n",
    "row_idx = 0\n",
    "for j in range(n_newspaper):\n",
    "    col_start = n_newspaper + n_days*j\n",
    "    for i in range(n_days):\n",
    "        h_idx = col_start + i\n",
    "        print(k, j, h_idx)\n",
    "        \n",
    "        A[k, [h_idx, j]] = [1, c[j]]\n",
    "        rhs[k] = p[j]*data.iloc[i, j]\n",
    "        \n",
    "        A[k+1, [h_idx, j]] = [1, c[j] - p[j]]\n",
    "        rhs[k+1] = 0\n",
    "        \n",
    "        k += 2"
   ]
  },
  {
   "cell_type": "code",
   "execution_count": 331,
   "id": "6e905a71",
   "metadata": {},
   "outputs": [
    {
     "name": "stdout",
     "output_type": "stream",
     "text": [
      "Gurobi Optimizer version 9.1.2 build v9.1.2rc0 (win64)\n",
      "Thread count: 4 physical cores, 8 logical processors, using up to 8 threads\n",
      "Optimize a model with 500 rows, 255 columns and 1000 nonzeros\n",
      "Model fingerprint: 0x44ab24b6\n",
      "Coefficient statistics:\n",
      "  Matrix range     [3e-01, 1e+00]\n",
      "  Objective range  [2e-02, 2e-02]\n",
      "  Bounds range     [0e+00, 0e+00]\n",
      "  RHS range        [1e+00, 3e+03]\n",
      "Presolve removed 250 rows and 0 columns\n",
      "Presolve time: 0.01s\n",
      "Presolved: 250 rows, 255 columns, 500 nonzeros\n",
      "\n",
      "Iteration    Objective       Primal Inf.    Dual Inf.      Time\n",
      "       0    1.4081840e+03   7.040920e+04   0.000000e+00      0s\n",
      "     115    3.3698900e+02   0.000000e+00   0.000000e+00      0s\n",
      "\n",
      "Solved in 115 iterations and 0.01 seconds\n",
      "Optimal objective  3.369890000e+02\n"
     ]
    }
   ],
   "source": [
    "spMod = gp.Model()\n",
    "spMod_x = spMod.addMVar(len(obj),lb=lb) # tell the model how many variables there are\n",
    "# must define the variables before adding constraints because variables go into the constraints\n",
    "spMod_con = spMod.addMConstrs(A, spMod_x, direction, rhs) # NAME THE CONSTRAINTS!!! so we can get information about them later!\n",
    "spMod.setMObjective(None,obj,0,sense=gp.GRB.MAXIMIZE) # add the objective to the model...we'll talk about the None and the 0\n",
    "\n",
    "# spMod.Params.OutputFlag = 0 # tell gurobi to shut up!!\n",
    "spMod.optimize()\n"
   ]
  },
  {
   "cell_type": "code",
   "execution_count": 332,
   "id": "18df6033",
   "metadata": {},
   "outputs": [
    {
     "data": {
      "text/plain": [
       "336.9890000000003"
      ]
     },
     "execution_count": 332,
     "metadata": {},
     "output_type": "execute_result"
    }
   ],
   "source": [
    "spMod.objVal"
   ]
  },
  {
   "cell_type": "code",
   "execution_count": null,
   "id": "48f7ebbd",
   "metadata": {},
   "outputs": [],
   "source": []
  },
  {
   "cell_type": "code",
   "execution_count": null,
   "id": "2d3da051",
   "metadata": {},
   "outputs": [],
   "source": []
  },
  {
   "cell_type": "markdown",
   "id": "1d55ae6a",
   "metadata": {},
   "source": [
    "## Q3\n",
    "Go back to the saving for retirement problem we did in class.  There's approximately a 55% chance you go bankrupt before you die.  That's not very good.  You should probably keep working for a few more years.  Today you have $2M in your retirement account.  If you keep working, you earn $400k (after taxes) per year, with a 2.5% raise every year.  You still spend $150k per year and when you work, every dollar of salary that you don't spend goes into your retirement account. As in the code from class, each year first grow your portfolio from market returns, then add your salary and give yourself a raise for next year (if you're still working), then subtract your cost of living. You're still going to die 35 years from today.  The market has normal annual returns with mean = 7% and sd = 10%.  What is the smallest number of years you need to work such that your probability of going bankrupt before death is less than 6%?  Use 10000 simulations."
   ]
  },
  {
   "cell_type": "code",
   "execution_count": 98,
   "id": "b4dd02ce",
   "metadata": {},
   "outputs": [],
   "source": [
    "nsim = 10000\n",
    "n_years = 35\n",
    "def_vec_rd = np.zeros((n_years, nsim))\n",
    "port_val_vec_rd = np.zeros((n_years, nsim))\n",
    "\n",
    "job_till = n_years\n",
    "for y in range(n_years):\n",
    "    for sim in range(nsim):\n",
    "        salary = 400000\n",
    "        increment = 0.025\n",
    "        value = 2000000\n",
    "        death = 35\n",
    "        for year in range(death):\n",
    "            port_return = np.random.normal(size = 1, loc = 0.07, scale = 0.1)\n",
    "            value = value*(1+port_return)\n",
    "            \n",
    "            if job_till > year:\n",
    "                salary = salary*(1+increment)\n",
    "                value += salary\n",
    "                \n",
    "            value = value - 150000\n",
    "            if (value <= 0):\n",
    "                value = 0\n",
    "        if value <= 0:\n",
    "            def_vec_rd[y, sim] = 1\n",
    "        port_val_vec_rd[y, sim] = value\n",
    "    job_till -= 1"
   ]
  },
  {
   "cell_type": "code",
   "execution_count": 107,
   "id": "e90c55e2",
   "metadata": {},
   "outputs": [
    {
     "data": {
      "text/plain": [
       "array([0.000e+00, 0.000e+00, 0.000e+00, 0.000e+00, 0.000e+00, 0.000e+00,\n",
       "       0.000e+00, 0.000e+00, 0.000e+00, 0.000e+00, 0.000e+00, 0.000e+00,\n",
       "       0.000e+00, 0.000e+00, 0.000e+00, 0.000e+00, 0.000e+00, 0.000e+00,\n",
       "       0.000e+00, 0.000e+00, 0.000e+00, 0.000e+00, 0.000e+00, 0.000e+00,\n",
       "       0.000e+00, 0.000e+00, 1.000e-04, 2.000e-04, 1.100e-03, 1.400e-03,\n",
       "       6.400e-03, 1.850e-02, 4.680e-02, 1.287e-01, 2.855e-01])"
      ]
     },
     "execution_count": 107,
     "metadata": {},
     "output_type": "execute_result"
    }
   ],
   "source": [
    "def_vec_rd.mean(axis=1) \n",
    "# he need to work for 3 more years"
   ]
  },
  {
   "cell_type": "code",
   "execution_count": 151,
   "id": "c5c634ae",
   "metadata": {},
   "outputs": [
    {
     "data": {
      "text/plain": [
       "(array([9., 8., 9., 3., 2., 3., 0., 0., 0., 1.]),\n",
       " array([5.95054278e+06, 2.29051827e+07, 3.98598225e+07, 5.68144624e+07,\n",
       "        7.37691023e+07, 9.07237422e+07, 1.07678382e+08, 1.24633022e+08,\n",
       "        1.41587662e+08, 1.58542302e+08, 1.75496942e+08]),\n",
       " <BarContainer object of 10 artists>)"
      ]
     },
     "execution_count": 151,
     "metadata": {},
     "output_type": "execute_result"
    },
    {
     "data": {
      "image/png": "[encoded data removed]",
      "text/plain": [
       "<Figure size 432x288 with 1 Axes>"
      ]
     },
     "metadata": {
      "needs_background": "light"
     },
     "output_type": "display_data"
    }
   ],
   "source": [
    "import matplotlib.pyplot as plt\n",
    "plt.hist(port_val_vec_rd[:, -1])"
   ]
  },
  {
   "cell_type": "markdown",
   "id": "2b7367c4",
   "metadata": {},
   "source": [
    "## Q4"
   ]
  },
  {
   "cell_type": "markdown",
   "id": "cc2a5c9b",
   "metadata": {},
   "source": [
    "You manufacture microprocessors.  There are 2 lines of chips: high performance and low performance.  Your manufacturing processes are not perfect though, there are quality issues in your production. There are 2 manufacturing processes you can perform.  One process produces chips where the performance is a normal random variable with mean = 10 and sd = 3, and it costs $ 10 to manufacture chips using this process.  The other manufacturing process produces chips where the performance is a normal random variable with mean = 5 and sd = 2, and it costs $ 5 to manufacture chips using this process.  Any chip that has a performance less than 7 must be sold as a low performance chip, and any chip that has a performance above 7 can be sold as a high performance chip.  Low performance chips sell for $ 8 and high performance chips sell for $ 15.  There is currently a global chip shortage, so any chip you manufacture will sell immediately.  If you produce 100 chips using the first process and 200 chips using the second process, what is the standard deviation of your profit?  Use 10000 simulations to answer this question."
   ]
  },
  {
   "cell_type": "code",
   "execution_count": 152,
   "id": "6b0ba490",
   "metadata": {},
   "outputs": [],
   "source": [
    "def get_profit(pp1, pp2):\n",
    "    cost = pp1.shape[0]*10 + pp2.shape[0]*5\n",
    "    \n",
    "    rev_pp1 = np.sum(pp1 < 7)*8 + np.sum(pp1 >= 7)*15\n",
    "    rev_pp2 = np.sum(pp2 < 7)*8 + np.sum(pp2 >= 7)*15\n",
    "    \n",
    "    profit = rev_pp1 + rev_pp2 - cost\n",
    "    \n",
    "    return profit\n",
    "\n"
   ]
  },
  {
   "cell_type": "code",
   "execution_count": 154,
   "id": "fad8efb2",
   "metadata": {},
   "outputs": [],
   "source": [
    "n_sim = 10000\n",
    "profit_list = np.zeros(n_sim)\n",
    "\n",
    "for s in range(n_sim):\n",
    "    pp1 = np.random.normal(size=100, loc=10, scale=3)\n",
    "    pp2 = np.random.normal(size=200, loc=5, scale=2)\n",
    "    \n",
    "    profit_list[s] = get_profit(pp1, pp2)"
   ]
  },
  {
   "cell_type": "code",
   "execution_count": 156,
   "id": "304ef395",
   "metadata": {},
   "outputs": [
    {
     "data": {
      "text/plain": [
       "(array([   7.,  101.,  590., 1785., 2928., 2731., 1389.,  393.,   70.,\n",
       "           6.]),\n",
       " array([1044. , 1078.3, 1112.6, 1146.9, 1181.2, 1215.5, 1249.8, 1284.1,\n",
       "        1318.4, 1352.7, 1387. ]),\n",
       " <BarContainer object of 10 artists>)"
      ]
     },
     "execution_count": 156,
     "metadata": {},
     "output_type": "execute_result"
    },
    {
     "data": {
      "image/png": "[encoded data removed]",
      "text/plain": [
       "<Figure size 432x288 with 1 Axes>"
      ]
     },
     "metadata": {
      "needs_background": "light"
     },
     "output_type": "display_data"
    }
   ],
   "source": [
    "plt.hist(profit_list)"
   ]
  },
  {
   "cell_type": "code",
   "execution_count": 159,
   "id": "40fe0022",
   "metadata": {},
   "outputs": [
    {
     "name": "stdout",
     "output_type": "stream",
     "text": [
      "Mean is 1211.0242\n",
      "Standard deviation is 44.30749388489492\n"
     ]
    }
   ],
   "source": [
    "print('Mean is', profit_list.mean())\n",
    "print('Standard deviation is', profit_list.std())"
   ]
  },
  {
   "cell_type": "code",
   "execution_count": null,
   "id": "dffda596",
   "metadata": {},
   "outputs": [],
   "source": []
  }
 ],
 "metadata": {
  "kernelspec": {
   "display_name": "Python 3",
   "language": "python",
   "name": "python3"
  },
  "language_info": {
   "codemirror_mode": {
    "name": "ipython",
    "version": 3
   },
   "file_extension": ".py",
   "mimetype": "text/x-python",
   "name": "python",
   "nbconvert_exporter": "python",
   "pygments_lexer": "ipython3",
   "version": "3.8.8"
  }
 },
 "nbformat": 4,
 "nbformat_minor": 5
}
