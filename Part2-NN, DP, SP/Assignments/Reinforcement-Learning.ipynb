{
 "cells": [
  {
   "cell_type": "code",
   "execution_count": 1,
   "id": "99ccc16d",
   "metadata": {},
   "outputs": [],
   "source": [
    "import numpy as np\n",
    "import matplotlib.pyplot as plt"
   ]
  },
  {
   "cell_type": "markdown",
   "id": "6c6143dd",
   "metadata": {},
   "source": [
    "## Multi-Arm Bandit: Linear-annealed policy"
   ]
  },
  {
   "cell_type": "markdown",
   "id": "5daeab2a",
   "metadata": {},
   "source": [
    "When solving a bandit problem using the epsilon-greedy strategy we used the same value of epsilon for every pull, so the level of exploration is the same every time you pull the arm.  Another strategy would be to start with a big epsilon (so there's lots of exploration) and reduce epsilon after each pull, so that later there is less exploration.  This is called a linear-annealed policy.  For example, if you are going to pull the arm 200 times, you could start with epsilon = 95%, then reduce epsilon by 1% after each pull until you get to epsilon = 5% on the 90th pull, and keep it at 5% for the last 110 pulls.\n",
    "\n",
    "\n",
    "Your goal in this problem is to explore linear-annealed policies in bandit problems.  Go to the bandit code we examined in class, where you pull the arm 500 times where the bandits have means of [1,2,3,4] and standard deviations of [1,2,3,4].  Which of these 3 linear-annealed policies works best for the problem in the code?  Use 5000 simulations (of the 500 arm pulls) to answer this question.\n",
    " \n",
    "\n",
    "A) initial epsilon: 100%, epsilon reduction per pull: 0.5%, final epsilon: 25%\n",
    "\n",
    "B) initial epsilon: 50%, epsilon reduction per pull: 1%, final epsilon: 5%\n",
    "\n",
    "C) initial epsilon: 90%, epsilon reduction per pull: 0.5%, final epsilon: 10%\n",
    "\n",
    "D) initial epsilon: 75%, epsilon reduction per pull: 1%, final epsilon: 15%\n",
    "\n",
    "E) epsilon is always 15%"
   ]
  },
  {
   "cell_type": "code",
   "execution_count": 61,
   "id": "3d10cc80",
   "metadata": {},
   "outputs": [],
   "source": [
    "def get_epsilon(n_pulls, policy):\n",
    "    epsilon_list = [0]*n_pulls\n",
    "    \n",
    "    if policy == 1:\n",
    "        start = 100\n",
    "        redn = 0.5\n",
    "        end = 25\n",
    "    \n",
    "    elif policy == 2:\n",
    "        start = 50\n",
    "        redn = 1\n",
    "        end = 5\n",
    "    \n",
    "    elif policy == 3:\n",
    "        start = 90\n",
    "        redn = 0.5\n",
    "        end = 10\n",
    "    \n",
    "    elif policy == 4:\n",
    "        start = 75\n",
    "        redn = 1\n",
    "        end = 15\n",
    "    \n",
    "    else:\n",
    "        start = 15\n",
    "        redn = 15\n",
    "        end = 15\n",
    "           \n",
    "    epsilon_list = [(start - i*redn)/100 if (start - i*redn >= end) else end/100 for i in range(n_pulls)]\n",
    "\n",
    "    return epsilon_list\n",
    "\n",
    "\n",
    "def tot_return_fun_eps_greedy(epsilon_list, n_pulls):\n",
    "    n_arms = 4\n",
    "    means = [1, 2, 3, 4]\n",
    "    stds = [1, 2, 3, 4]\n",
    "    \n",
    "    avg_so_far = np.zeros(n_arms)\n",
    "    pulls_per_arm = np.zeros(n_arms)\n",
    "    tot_return = 0\n",
    "    for pull in range(n_pulls):\n",
    "        if np.random.random() < epsilon_list[pull]:\n",
    "            this_choice = np.random.choice(n_arms)\n",
    "        else:\n",
    "            this_choice = np.argmax(avg_so_far)\n",
    "\n",
    "        payout = np.random.normal(loc=means[this_choice],scale = stds[this_choice])\n",
    "        avg_so_far[this_choice] *= pulls_per_arm[this_choice]\n",
    "        avg_so_far[this_choice] += payout\n",
    "        pulls_per_arm[this_choice] += 1\n",
    "        avg_so_far[this_choice] /= pulls_per_arm[this_choice]\n",
    "        tot_return += payout\n",
    "    return tot_return"
   ]
  },
  {
   "cell_type": "code",
   "execution_count": 73,
   "id": "9e7a3aad",
   "metadata": {},
   "outputs": [
    {
     "data": {
      "text/plain": [
       "1751.8734384711377"
      ]
     },
     "execution_count": 73,
     "metadata": {},
     "output_type": "execute_result"
    }
   ],
   "source": [
    "x = []\n",
    "for i in range(n_sims):\n",
    "    epsilon_list = get_epsilon(n_pulls, policy=5)\n",
    "    payout = tot_return_fun_eps_greedy(epsilon_list, n_pulls)\n",
    "    x.append(payout)\n",
    "np.mean(x)"
   ]
  },
  {
   "cell_type": "code",
   "execution_count": 83,
   "id": "b9299581",
   "metadata": {},
   "outputs": [],
   "source": [
    "n_pulls = 500\n",
    "n_sims = 5000\n",
    "avg_payout_list = []\n",
    "\n",
    "for p in range(1, 6):\n",
    "    payout_list = []\n",
    "    for i in range(n_sims):\n",
    "        payput_list = []\n",
    "        epsilon_list = get_epsilon(n_pulls, policy=p)\n",
    "        payout = tot_return_fun_eps_greedy(epsilon_list, n_pulls)\n",
    "        payout_list.append(payout)\n",
    "    avg_payout_list.append(np.mean(payout_list))"
   ]
  },
  {
   "cell_type": "code",
   "execution_count": 82,
   "id": "50059f30",
   "metadata": {},
   "outputs": [
    {
     "data": {
      "text/plain": [
       "[<matplotlib.lines.Line2D at 0x1ad135cd370>]"
      ]
     },
     "execution_count": 82,
     "metadata": {},
     "output_type": "execute_result"
    },
    {
     "data": {
      "image/png": "[encoded data removed]",
      "text/plain": [
       "<Figure size 432x288 with 1 Axes>"
      ]
     },
     "metadata": {
      "needs_background": "light"
     },
     "output_type": "display_data"
    }
   ],
   "source": [
    "plt.figure()\n",
    "plt.plot(range(1, 6), avg_payout_list)"
   ]
  },
  {
   "cell_type": "code",
   "execution_count": 87,
   "id": "c41f4877",
   "metadata": {},
   "outputs": [
    {
     "name": "stdout",
     "output_type": "stream",
     "text": [
      "Best policy is  2\n"
     ]
    }
   ],
   "source": [
    "print('Best policy is ', range(1, 6)[np.argmax(avg_payout_list)])"
   ]
  },
  {
   "cell_type": "markdown",
   "id": "4c4958bc",
   "metadata": {},
   "source": [
    "## Ore Mining maximization\n",
    "\n",
    "Think back to the mining example we did in class.  We made the assumption that the number of tons extracted per year must be an integer to make the problem solvable.  If the number of tons extracted is not an integer then we have to be able to evaluate the value function at every single possible number between 0-M, not just the integers.  One way to address this concern is by combining interpolation with non-linear optimization. \n",
    "\n",
    " \n",
    "\n",
    "At each time step, t, you can find the value function at s=0,1,2,...,M by using scipy.optimize.minimize to pick x.  To do this you need an objective function that can be evaluated at any value of x.  So when you evaluate v(s-x,t+1), you must be able to evaluate this at every possible value of s-x.  But you only found v at integers of s at t+1.  To resolve this, you can use scipy.interpolate.CubicSpline on v[ : ,t+1] so that when scipy.optimize evaluates different (non-integer) values of x it calls the interpolated value of v.  Information about CubicSpline can be found at https://docs.scipy.org/doc/scipy/reference/generated/scipy.interpolate.CubicSpline.html (Links to an external site.)\n",
    "\n",
    " \n",
    "\n",
    "At t=T things are easy, the terminal condition still says v(s,T)=0.  Store this for every integer value of s.\n",
    "\n",
    "At t, use v(s,t+1) at each integer value of s and scipy.interpolate.CubicSpline to create an interpolating function of v(s,t+1) for non-integer values of s; call this interpolating function something like Vcs.  Then for each integer value of s in the s-loop, the objective is max_x p*x - x^2/(1+s) + delta * Vcs(s-x).  Now you can create a user defined function that returns the objective for any non-integer value of x. Then use scipy.optimize to find the optimal x, and save v[s,t].  Do this for every integer value of s = 0, 1, 2, ..., M.  For each integer value of s, the optimal x may or may not be an integer.\n",
    "\n",
    " \n",
    "\n",
    " \n",
    "\n",
    "Each time you call scipy.optimize you need an initial guess of x.  An easy way to get a guess is to just start at the midpoint between 0 and s.  You also will need to use the L-BFGS-B algorithm since you know that x is between 0 and s.\n",
    "\n",
    "If you allow non-integer values for ore extraction, how much more profits can you make? That is, how much bigger is v(M,0) when you allow non-integer values of x, than when only integer values of x are allowed (like the problem we solved in class)?  Round to 3 decimal places.\n",
    "\n",
    " \n",
    "\n",
    "If you're very careful with calculus this problem is actually solvable in closed form, but I won't ask you to do that..."
   ]
  },
  {
   "cell_type": "markdown",
   "id": "814ccfba",
   "metadata": {},
   "source": [
    "**Integer problem**"
   ]
  },
  {
   "cell_type": "code",
   "execution_count": 353,
   "id": "c31686ae",
   "metadata": {},
   "outputs": [],
   "source": [
    "start_ore = 100\n",
    "n_years = 15\n",
    "price = 1\n",
    "delta = 0.9"
   ]
  },
  {
   "cell_type": "code",
   "execution_count": 365,
   "id": "cdd105d3",
   "metadata": {},
   "outputs": [],
   "source": [
    "# value function and optimal policy init\n",
    "U = np.zeros((start_ore+1, n_days+1))\n",
    "V = np.zeros((start_ore+1, n_days+1))\n",
    "\n",
    "# terminal & boundary condition\n",
    "V[0, :] = 0\n",
    "V[:, -1] = 0\n",
    "\n",
    "for t in reversed(range(n_days)):\n",
    "    for s in range(start_ore+1):\n",
    "        # for remaining ore s, at time t, identifying the ore to extract \n",
    "        possible_profit = [price*x - x*x/(1+s) + delta*V[s-x, t+1] for x in range(s+1)]\n",
    "        \n",
    "        V[s, t] = np.max(possible_profit)\n",
    "        U[s, t] = np.argmax(possible_profit)\n"
   ]
  },
  {
   "cell_type": "code",
   "execution_count": 366,
   "id": "4d8828ca",
   "metadata": {},
   "outputs": [
    {
     "name": "stdout",
     "output_type": "stream",
     "text": [
      "Year: 0, Init Ore: 100, Mine: 24.0 value 58.113941952344646\n",
      "Year: 1, Init Ore: 76, Mine: 18.0 value 97.930854201719\n",
      "Year: 2, Init Ore: 58, Mine: 14.0 value 125.33477943810634\n",
      "Year: 3, Init Ore: 44, Mine: 11.0 value 144.0895521321208\n",
      "Year: 4, Init Ore: 33, Mine: 8.0 value 156.78552482613523\n",
      "Year: 5, Init Ore: 25, Mine: 6.0 value 165.46770928485557\n",
      "Year: 6, Init Ore: 19, Mine: 5.0 value 171.42455528203743\n",
      "Year: 7, Init Ore: 14, Mine: 3.0 value 175.3884975292193\n",
      "Year: 8, Init Ore: 11, Mine: 3.0 value 178.20452721640117\n",
      "Year: 9, Init Ore: 8, Mine: 2.0 value 180.05200568108305\n",
      "Year: 10, Init Ore: 6, Mine: 2.0 value 181.2968300517649\n",
      "Year: 11, Init Ore: 4, Mine: 1.0 value 182.04354236516107\n",
      "Year: 12, Init Ore: 3, Mine: 1.0 value 182.53920620168523\n",
      "Year: 13, Init Ore: 2, Mine: 1.0 value 182.82304788584864\n",
      "Year: 14, Init Ore: 1, Mine: 1.0 value 182.93743184812345\n",
      "Year: 15, Init Ore: 0, Mine: 0.0 value 182.93743184812345\n"
     ]
    }
   ],
   "source": [
    "s=start_ore # at the initial time there are 100 tons of ore\n",
    "value = 0\n",
    "for t in range(n_years+1):\n",
    "    si=s\n",
    "    value += delta**t*V[si,t]\n",
    "    print(\"Year: \", t , \", Init Ore: \",s, \", Mine: \", U[si,t], ' value ', value, sep='')\n",
    "    s=int(s-U[si,t]) # remove this amount from the mine"
   ]
  },
  {
   "cell_type": "markdown",
   "id": "c7964d5b",
   "metadata": {},
   "source": [
    "**Continuous values of ores to be mined**"
   ]
  },
  {
   "cell_type": "code",
   "execution_count": 367,
   "id": "9601bea8",
   "metadata": {},
   "outputs": [
    {
     "data": {
      "image/png": "[encoded data removed]",
      "text/plain": [
       "<Figure size 432x288 with 1 Axes>"
      ]
     },
     "metadata": {
      "needs_background": "light"
     },
     "output_type": "display_data"
    }
   ],
   "source": [
    "# np.argmin([get_value_fn(x, s, t, V) for x in range(s)])\n",
    "s=44\n",
    "t=3\n",
    "plt.plot([get_value_fn(x, s, t, V) for x in range(s)])\n",
    "plt.plot([price*x - x*x/(1+s) + delta*V[s-x,t] for x in range(s)], color='r')\n",
    "a = [get_value_fn(x, s, t, V) for x in range(s)]"
   ]
  },
  {
   "cell_type": "code",
   "execution_count": 368,
   "id": "ac4e6ee3",
   "metadata": {},
   "outputs": [],
   "source": [
    "from scipy.interpolate import CubicSpline as cs\n",
    "def get_value_fn(x, s, t, V, price=1):\n",
    "    si = int(s+1)\n",
    "    #print(x)\n",
    "    Vcs = cs(np.arange(0, si),V[:si, t+1]) \n",
    "    # print([price*x - x*x/(1+s) + delta*tom_val_cs(x) for x in range(s)])\n",
    "    #print(price*x - x*x/(1+s) + delta*tom_val_cs(x))\n",
    "    return - (price*x - x*x/(1+s) + delta*Vcs(s-x))"
   ]
  },
  {
   "cell_type": "code",
   "execution_count": 369,
   "id": "0b8734b4",
   "metadata": {},
   "outputs": [
    {
     "data": {
      "text/plain": [
       "-25.726711514423116"
      ]
     },
     "execution_count": 369,
     "metadata": {},
     "output_type": "execute_result"
    }
   ],
   "source": [
    "get_value_fn(11, 44, 3, V, price=1)"
   ]
  },
  {
   "cell_type": "code",
   "execution_count": 370,
   "id": "d0fe1ea1",
   "metadata": {},
   "outputs": [
    {
     "data": {
      "text/plain": [
       "(array([0.55000001]), array([-0.60125]))"
      ]
     },
     "execution_count": 370,
     "metadata": {},
     "output_type": "execute_result"
    }
   ],
   "source": [
    "a = minimize(get_value_fn, [1], bounds=[(0,1)], args=(1, 3, V))\n",
    "a.x, a.fun"
   ]
  },
  {
   "cell_type": "code",
   "execution_count": 371,
   "id": "185e007c",
   "metadata": {},
   "outputs": [
    {
     "data": {
      "text/plain": [
       "58.113941952344646"
      ]
     },
     "execution_count": 371,
     "metadata": {},
     "output_type": "execute_result"
    }
   ],
   "source": [
    "V[start_ore, 0]"
   ]
  },
  {
   "cell_type": "code",
   "execution_count": 372,
   "id": "ca5c82fc",
   "metadata": {},
   "outputs": [
    {
     "name": "stdout",
     "output_type": "stream",
     "text": [
      "Year: 0, Init Ore: 100, Mine: 24.15994118629919 value 58.11422021937817\n",
      "Year: 1, Init Ore: 75.84005881370081, Mine: 18.262524344881406 value 102.2633759467834\n",
      "Year: 2, Init Ore: 57.5775344688194, Mine: 13.876464657603085 value 135.84915506713287\n",
      "Year: 3, Init Ore: 43.701069811216314, Mine: 10.532316488877251 value 161.40472341540388\n",
      "Year: 4, Init Ore: 33.168753322339064, Mine: 7.975045911442097 value 180.85463755954765\n",
      "Year: 5, Init Ore: 25.19370741089697, Mine: 6.020372002528773 value 195.67278343421083\n",
      "Year: 6, Init Ore: 19.173335408368196, Mine: 4.622892988404558 value 206.99186453500877\n",
      "Year: 7, Init Ore: 14.550442419963638, Mine: 3.572737836005716 value 215.61933268982628\n",
      "Year: 8, Init Ore: 10.977704583957921, Mine: 2.805491440147926 value 222.15093745773288\n",
      "Year: 9, Init Ore: 8.172213143809994, Mine: 2.090683317498191 value 227.02249313548722\n",
      "Year: 10, Init Ore: 6.081529826311803, Mine: 1.6444939364599074 value 230.6631802405875\n",
      "Year: 11, Init Ore: 4.437035889851895, Mine: 1.1758051412696704 value 233.31298667535293\n",
      "Year: 12, Init Ore: 3.261230748582225, Mine: 0.8940176572535872 value 235.23766253225057\n",
      "Year: 13, Init Ore: 2.3672130913286376, Mine: 0.7238637979027567 value 236.60092700135056\n",
      "Year: 14, Init Ore: 1.6433492934258809, Mine: 0.726921058204246 value 237.54033747370752\n",
      "0.9164282352216349\n"
     ]
    }
   ],
   "source": [
    "# value function and optimal policy init\n",
    "Ut = np.zeros(n_days+1)\n",
    "Vt = np.zeros(n_days+1)\n",
    "\n",
    "s = start_ore\n",
    "value = 0\n",
    "for t in range(n_years+1):\n",
    "# for remaining ore s, at time t, identifying the ore to extract \n",
    "    if s > 1:\n",
    "        opt_mod_st = minimize(get_value_fn, [s/2], bounds=[(0, s)], args=(s, t, V))\n",
    "        Vt[t] = -opt_mod_st.fun[0]\n",
    "        Ut[t] = opt_mod_st.x[0]\n",
    "        value += Vt[t]\n",
    "        print(\"Year: \", t , \", Init Ore: \",s, \", Mine: \", Ut[t], ' value ', value, sep='')\n",
    "        s -= Ut[t]\n",
    "        \n",
    "print(s)\n",
    "        \n"
   ]
  },
  {
   "cell_type": "code",
   "execution_count": 373,
   "id": "e570f2ae",
   "metadata": {},
   "outputs": [
    {
     "data": {
      "text/plain": [
       "(58.113941952344646, 58.11422021937817)"
      ]
     },
     "execution_count": 373,
     "metadata": {},
     "output_type": "execute_result"
    }
   ],
   "source": [
    "V[start_ore, 0], Vt[0]"
   ]
  },
  {
   "cell_type": "code",
   "execution_count": 332,
   "id": "eb9f4568",
   "metadata": {},
   "outputs": [
    {
     "data": {
      "text/plain": [
       "[<matplotlib.lines.Line2D at 0x1ad1910cf10>]"
      ]
     },
     "execution_count": 332,
     "metadata": {},
     "output_type": "execute_result"
    },
    {
     "data": {
      "image/png": "[encoded data removed]",
      "text/plain": [
       "<Figure size 432x288 with 1 Axes>"
      ]
     },
     "metadata": {
      "needs_background": "light"
     },
     "output_type": "display_data"
    }
   ],
   "source": [
    "plt.plot(\n",
    "    [x / 10 for x in range(10)],\n",
    "    [-get_value_fn(x/10, s+0.1, t-1, V, price=1) for x in range(10)])"
   ]
  },
  {
   "cell_type": "code",
   "execution_count": 338,
   "id": "d2b170fd",
   "metadata": {},
   "outputs": [
    {
     "ename": "ValueError",
     "evalue": "`x` must contain at least 2 elements.",
     "output_type": "error",
     "traceback": [
      "\u001b[1;31m---------------------------------------------------------------------------\u001b[0m",
      "\u001b[1;31mValueError\u001b[0m                                Traceback (most recent call last)",
      "\u001b[1;32m<ipython-input-338-292ac421c7d1>\u001b[0m in \u001b[0;36m<module>\u001b[1;34m\u001b[0m\n\u001b[1;32m----> 1\u001b[1;33m \u001b[0mminimize\u001b[0m\u001b[1;33m(\u001b[0m\u001b[0mget_value_fn\u001b[0m\u001b[1;33m,\u001b[0m \u001b[1;33m[\u001b[0m\u001b[1;36m0.5\u001b[0m\u001b[1;33m]\u001b[0m\u001b[1;33m,\u001b[0m \u001b[0mbounds\u001b[0m\u001b[1;33m=\u001b[0m\u001b[1;33m[\u001b[0m\u001b[1;33m(\u001b[0m\u001b[1;36m0\u001b[0m\u001b[1;33m,\u001b[0m \u001b[0ms\u001b[0m\u001b[1;33m)\u001b[0m\u001b[1;33m]\u001b[0m\u001b[1;33m,\u001b[0m \u001b[0margs\u001b[0m\u001b[1;33m=\u001b[0m\u001b[1;33m(\u001b[0m\u001b[0ms\u001b[0m\u001b[1;33m,\u001b[0m \u001b[1;36m14\u001b[0m\u001b[1;33m,\u001b[0m \u001b[0mV\u001b[0m\u001b[1;33m)\u001b[0m\u001b[1;33m)\u001b[0m\u001b[1;33m\u001b[0m\u001b[1;33m\u001b[0m\u001b[0m\n\u001b[0m",
      "\u001b[1;32m~\\anaconda3\\lib\\site-packages\\scipy\\optimize\\_minimize.py\u001b[0m in \u001b[0;36mminimize\u001b[1;34m(fun, x0, args, method, jac, hess, hessp, bounds, constraints, tol, callback, options)\u001b[0m\n\u001b[0;32m    617\u001b[0m                                   **options)\n\u001b[0;32m    618\u001b[0m     \u001b[1;32melif\u001b[0m \u001b[0mmeth\u001b[0m \u001b[1;33m==\u001b[0m \u001b[1;34m'l-bfgs-b'\u001b[0m\u001b[1;33m:\u001b[0m\u001b[1;33m\u001b[0m\u001b[1;33m\u001b[0m\u001b[0m\n\u001b[1;32m--> 619\u001b[1;33m         return _minimize_lbfgsb(fun, x0, args, jac, bounds,\n\u001b[0m\u001b[0;32m    620\u001b[0m                                 callback=callback, **options)\n\u001b[0;32m    621\u001b[0m     \u001b[1;32melif\u001b[0m \u001b[0mmeth\u001b[0m \u001b[1;33m==\u001b[0m \u001b[1;34m'tnc'\u001b[0m\u001b[1;33m:\u001b[0m\u001b[1;33m\u001b[0m\u001b[1;33m\u001b[0m\u001b[0m\n",
      "\u001b[1;32m~\\anaconda3\\lib\\site-packages\\scipy\\optimize\\lbfgsb.py\u001b[0m in \u001b[0;36m_minimize_lbfgsb\u001b[1;34m(fun, x0, args, jac, bounds, disp, maxcor, ftol, gtol, eps, maxfun, maxiter, iprint, callback, maxls, finite_diff_rel_step, **unknown_options)\u001b[0m\n\u001b[0;32m    304\u001b[0m             \u001b[0miprint\u001b[0m \u001b[1;33m=\u001b[0m \u001b[0mdisp\u001b[0m\u001b[1;33m\u001b[0m\u001b[1;33m\u001b[0m\u001b[0m\n\u001b[0;32m    305\u001b[0m \u001b[1;33m\u001b[0m\u001b[0m\n\u001b[1;32m--> 306\u001b[1;33m     sf = _prepare_scalar_function(fun, x0, jac=jac, args=args, epsilon=eps,\n\u001b[0m\u001b[0;32m    307\u001b[0m                                   \u001b[0mbounds\u001b[0m\u001b[1;33m=\u001b[0m\u001b[0mnew_bounds\u001b[0m\u001b[1;33m,\u001b[0m\u001b[1;33m\u001b[0m\u001b[1;33m\u001b[0m\u001b[0m\n\u001b[0;32m    308\u001b[0m                                   finite_diff_rel_step=finite_diff_rel_step)\n",
      "\u001b[1;32m~\\anaconda3\\lib\\site-packages\\scipy\\optimize\\optimize.py\u001b[0m in \u001b[0;36m_prepare_scalar_function\u001b[1;34m(fun, x0, jac, args, bounds, epsilon, finite_diff_rel_step, hess)\u001b[0m\n\u001b[0;32m    259\u001b[0m     \u001b[1;31m# ScalarFunction caches. Reuse of fun(x) during grad\u001b[0m\u001b[1;33m\u001b[0m\u001b[1;33m\u001b[0m\u001b[1;33m\u001b[0m\u001b[0m\n\u001b[0;32m    260\u001b[0m     \u001b[1;31m# calculation reduces overall function evaluations.\u001b[0m\u001b[1;33m\u001b[0m\u001b[1;33m\u001b[0m\u001b[1;33m\u001b[0m\u001b[0m\n\u001b[1;32m--> 261\u001b[1;33m     sf = ScalarFunction(fun, x0, args, grad, hess,\n\u001b[0m\u001b[0;32m    262\u001b[0m                         finite_diff_rel_step, bounds, epsilon=epsilon)\n\u001b[0;32m    263\u001b[0m \u001b[1;33m\u001b[0m\u001b[0m\n",
      "\u001b[1;32m~\\anaconda3\\lib\\site-packages\\scipy\\optimize\\_differentiable_functions.py\u001b[0m in \u001b[0;36m__init__\u001b[1;34m(self, fun, x0, args, grad, hess, finite_diff_rel_step, finite_diff_bounds, epsilon)\u001b[0m\n\u001b[0;32m    134\u001b[0m \u001b[1;33m\u001b[0m\u001b[0m\n\u001b[0;32m    135\u001b[0m         \u001b[0mself\u001b[0m\u001b[1;33m.\u001b[0m\u001b[0m_update_fun_impl\u001b[0m \u001b[1;33m=\u001b[0m \u001b[0mupdate_fun\u001b[0m\u001b[1;33m\u001b[0m\u001b[1;33m\u001b[0m\u001b[0m\n\u001b[1;32m--> 136\u001b[1;33m         \u001b[0mself\u001b[0m\u001b[1;33m.\u001b[0m\u001b[0m_update_fun\u001b[0m\u001b[1;33m(\u001b[0m\u001b[1;33m)\u001b[0m\u001b[1;33m\u001b[0m\u001b[1;33m\u001b[0m\u001b[0m\n\u001b[0m\u001b[0;32m    137\u001b[0m \u001b[1;33m\u001b[0m\u001b[0m\n\u001b[0;32m    138\u001b[0m         \u001b[1;31m# Gradient evaluation\u001b[0m\u001b[1;33m\u001b[0m\u001b[1;33m\u001b[0m\u001b[1;33m\u001b[0m\u001b[0m\n",
      "\u001b[1;32m~\\anaconda3\\lib\\site-packages\\scipy\\optimize\\_differentiable_functions.py\u001b[0m in \u001b[0;36m_update_fun\u001b[1;34m(self)\u001b[0m\n\u001b[0;32m    224\u001b[0m     \u001b[1;32mdef\u001b[0m \u001b[0m_update_fun\u001b[0m\u001b[1;33m(\u001b[0m\u001b[0mself\u001b[0m\u001b[1;33m)\u001b[0m\u001b[1;33m:\u001b[0m\u001b[1;33m\u001b[0m\u001b[1;33m\u001b[0m\u001b[0m\n\u001b[0;32m    225\u001b[0m         \u001b[1;32mif\u001b[0m \u001b[1;32mnot\u001b[0m \u001b[0mself\u001b[0m\u001b[1;33m.\u001b[0m\u001b[0mf_updated\u001b[0m\u001b[1;33m:\u001b[0m\u001b[1;33m\u001b[0m\u001b[1;33m\u001b[0m\u001b[0m\n\u001b[1;32m--> 226\u001b[1;33m             \u001b[0mself\u001b[0m\u001b[1;33m.\u001b[0m\u001b[0m_update_fun_impl\u001b[0m\u001b[1;33m(\u001b[0m\u001b[1;33m)\u001b[0m\u001b[1;33m\u001b[0m\u001b[1;33m\u001b[0m\u001b[0m\n\u001b[0m\u001b[0;32m    227\u001b[0m             \u001b[0mself\u001b[0m\u001b[1;33m.\u001b[0m\u001b[0mf_updated\u001b[0m \u001b[1;33m=\u001b[0m \u001b[1;32mTrue\u001b[0m\u001b[1;33m\u001b[0m\u001b[1;33m\u001b[0m\u001b[0m\n\u001b[0;32m    228\u001b[0m \u001b[1;33m\u001b[0m\u001b[0m\n",
      "\u001b[1;32m~\\anaconda3\\lib\\site-packages\\scipy\\optimize\\_differentiable_functions.py\u001b[0m in \u001b[0;36mupdate_fun\u001b[1;34m()\u001b[0m\n\u001b[0;32m    131\u001b[0m \u001b[1;33m\u001b[0m\u001b[0m\n\u001b[0;32m    132\u001b[0m         \u001b[1;32mdef\u001b[0m \u001b[0mupdate_fun\u001b[0m\u001b[1;33m(\u001b[0m\u001b[1;33m)\u001b[0m\u001b[1;33m:\u001b[0m\u001b[1;33m\u001b[0m\u001b[1;33m\u001b[0m\u001b[0m\n\u001b[1;32m--> 133\u001b[1;33m             \u001b[0mself\u001b[0m\u001b[1;33m.\u001b[0m\u001b[0mf\u001b[0m \u001b[1;33m=\u001b[0m \u001b[0mfun_wrapped\u001b[0m\u001b[1;33m(\u001b[0m\u001b[0mself\u001b[0m\u001b[1;33m.\u001b[0m\u001b[0mx\u001b[0m\u001b[1;33m)\u001b[0m\u001b[1;33m\u001b[0m\u001b[1;33m\u001b[0m\u001b[0m\n\u001b[0m\u001b[0;32m    134\u001b[0m \u001b[1;33m\u001b[0m\u001b[0m\n\u001b[0;32m    135\u001b[0m         \u001b[0mself\u001b[0m\u001b[1;33m.\u001b[0m\u001b[0m_update_fun_impl\u001b[0m \u001b[1;33m=\u001b[0m \u001b[0mupdate_fun\u001b[0m\u001b[1;33m\u001b[0m\u001b[1;33m\u001b[0m\u001b[0m\n",
      "\u001b[1;32m~\\anaconda3\\lib\\site-packages\\scipy\\optimize\\_differentiable_functions.py\u001b[0m in \u001b[0;36mfun_wrapped\u001b[1;34m(x)\u001b[0m\n\u001b[0;32m    128\u001b[0m         \u001b[1;32mdef\u001b[0m \u001b[0mfun_wrapped\u001b[0m\u001b[1;33m(\u001b[0m\u001b[0mx\u001b[0m\u001b[1;33m)\u001b[0m\u001b[1;33m:\u001b[0m\u001b[1;33m\u001b[0m\u001b[1;33m\u001b[0m\u001b[0m\n\u001b[0;32m    129\u001b[0m             \u001b[0mself\u001b[0m\u001b[1;33m.\u001b[0m\u001b[0mnfev\u001b[0m \u001b[1;33m+=\u001b[0m \u001b[1;36m1\u001b[0m\u001b[1;33m\u001b[0m\u001b[1;33m\u001b[0m\u001b[0m\n\u001b[1;32m--> 130\u001b[1;33m             \u001b[1;32mreturn\u001b[0m \u001b[0mfun\u001b[0m\u001b[1;33m(\u001b[0m\u001b[0mx\u001b[0m\u001b[1;33m,\u001b[0m \u001b[1;33m*\u001b[0m\u001b[0margs\u001b[0m\u001b[1;33m)\u001b[0m\u001b[1;33m\u001b[0m\u001b[1;33m\u001b[0m\u001b[0m\n\u001b[0m\u001b[0;32m    131\u001b[0m \u001b[1;33m\u001b[0m\u001b[0m\n\u001b[0;32m    132\u001b[0m         \u001b[1;32mdef\u001b[0m \u001b[0mupdate_fun\u001b[0m\u001b[1;33m(\u001b[0m\u001b[1;33m)\u001b[0m\u001b[1;33m:\u001b[0m\u001b[1;33m\u001b[0m\u001b[1;33m\u001b[0m\u001b[0m\n",
      "\u001b[1;32m<ipython-input-278-8e5bf79fb7be>\u001b[0m in \u001b[0;36mget_value_fn\u001b[1;34m(x, s, t, V, price)\u001b[0m\n\u001b[0;32m      3\u001b[0m     \u001b[0msi\u001b[0m \u001b[1;33m=\u001b[0m \u001b[0mint\u001b[0m\u001b[1;33m(\u001b[0m\u001b[0ms\u001b[0m\u001b[1;33m+\u001b[0m\u001b[1;36m1\u001b[0m\u001b[1;33m)\u001b[0m\u001b[1;33m\u001b[0m\u001b[1;33m\u001b[0m\u001b[0m\n\u001b[0;32m      4\u001b[0m     \u001b[1;31m#print(x)\u001b[0m\u001b[1;33m\u001b[0m\u001b[1;33m\u001b[0m\u001b[1;33m\u001b[0m\u001b[0m\n\u001b[1;32m----> 5\u001b[1;33m     \u001b[0mtom_val_cs\u001b[0m \u001b[1;33m=\u001b[0m \u001b[0mcs\u001b[0m\u001b[1;33m(\u001b[0m\u001b[0mnp\u001b[0m\u001b[1;33m.\u001b[0m\u001b[0marange\u001b[0m\u001b[1;33m(\u001b[0m\u001b[1;36m0\u001b[0m\u001b[1;33m,\u001b[0m \u001b[0msi\u001b[0m\u001b[1;33m)\u001b[0m\u001b[1;33m,\u001b[0m\u001b[0mV\u001b[0m\u001b[1;33m[\u001b[0m\u001b[1;33m:\u001b[0m\u001b[0msi\u001b[0m\u001b[1;33m,\u001b[0m \u001b[0mt\u001b[0m\u001b[1;33m+\u001b[0m\u001b[1;36m1\u001b[0m\u001b[1;33m]\u001b[0m\u001b[1;33m)\u001b[0m\u001b[1;33m\u001b[0m\u001b[1;33m\u001b[0m\u001b[0m\n\u001b[0m\u001b[0;32m      6\u001b[0m     \u001b[1;31m# print([price*x - x*x/(1+s) + delta*tom_val_cs(x) for x in range(s)])\u001b[0m\u001b[1;33m\u001b[0m\u001b[1;33m\u001b[0m\u001b[1;33m\u001b[0m\u001b[0m\n\u001b[0;32m      7\u001b[0m     \u001b[1;31m#print(price*x - x*x/(1+s) + delta*tom_val_cs(x))\u001b[0m\u001b[1;33m\u001b[0m\u001b[1;33m\u001b[0m\u001b[1;33m\u001b[0m\u001b[0m\n",
      "\u001b[1;32m~\\anaconda3\\lib\\site-packages\\scipy\\interpolate\\_cubic.py\u001b[0m in \u001b[0;36m__init__\u001b[1;34m(self, x, y, axis, bc_type, extrapolate)\u001b[0m\n\u001b[0;32m    627\u001b[0m     \"\"\"\n\u001b[0;32m    628\u001b[0m     \u001b[1;32mdef\u001b[0m \u001b[0m__init__\u001b[0m\u001b[1;33m(\u001b[0m\u001b[0mself\u001b[0m\u001b[1;33m,\u001b[0m \u001b[0mx\u001b[0m\u001b[1;33m,\u001b[0m \u001b[0my\u001b[0m\u001b[1;33m,\u001b[0m \u001b[0maxis\u001b[0m\u001b[1;33m=\u001b[0m\u001b[1;36m0\u001b[0m\u001b[1;33m,\u001b[0m \u001b[0mbc_type\u001b[0m\u001b[1;33m=\u001b[0m\u001b[1;34m'not-a-knot'\u001b[0m\u001b[1;33m,\u001b[0m \u001b[0mextrapolate\u001b[0m\u001b[1;33m=\u001b[0m\u001b[1;32mNone\u001b[0m\u001b[1;33m)\u001b[0m\u001b[1;33m:\u001b[0m\u001b[1;33m\u001b[0m\u001b[1;33m\u001b[0m\u001b[0m\n\u001b[1;32m--> 629\u001b[1;33m         \u001b[0mx\u001b[0m\u001b[1;33m,\u001b[0m \u001b[0mdx\u001b[0m\u001b[1;33m,\u001b[0m \u001b[0my\u001b[0m\u001b[1;33m,\u001b[0m \u001b[0maxis\u001b[0m\u001b[1;33m,\u001b[0m \u001b[0m_\u001b[0m \u001b[1;33m=\u001b[0m \u001b[0mprepare_input\u001b[0m\u001b[1;33m(\u001b[0m\u001b[0mx\u001b[0m\u001b[1;33m,\u001b[0m \u001b[0my\u001b[0m\u001b[1;33m,\u001b[0m \u001b[0maxis\u001b[0m\u001b[1;33m)\u001b[0m\u001b[1;33m\u001b[0m\u001b[1;33m\u001b[0m\u001b[0m\n\u001b[0m\u001b[0;32m    630\u001b[0m         \u001b[0mn\u001b[0m \u001b[1;33m=\u001b[0m \u001b[0mlen\u001b[0m\u001b[1;33m(\u001b[0m\u001b[0mx\u001b[0m\u001b[1;33m)\u001b[0m\u001b[1;33m\u001b[0m\u001b[1;33m\u001b[0m\u001b[0m\n\u001b[0;32m    631\u001b[0m \u001b[1;33m\u001b[0m\u001b[0m\n",
      "\u001b[1;32m~\\anaconda3\\lib\\site-packages\\scipy\\interpolate\\_cubic.py\u001b[0m in \u001b[0;36mprepare_input\u001b[1;34m(x, y, axis, dydx)\u001b[0m\n\u001b[0;32m     44\u001b[0m         \u001b[1;32mraise\u001b[0m \u001b[0mValueError\u001b[0m\u001b[1;33m(\u001b[0m\u001b[1;34m\"`x` must be 1-dimensional.\"\u001b[0m\u001b[1;33m)\u001b[0m\u001b[1;33m\u001b[0m\u001b[1;33m\u001b[0m\u001b[0m\n\u001b[0;32m     45\u001b[0m     \u001b[1;32mif\u001b[0m \u001b[0mx\u001b[0m\u001b[1;33m.\u001b[0m\u001b[0mshape\u001b[0m\u001b[1;33m[\u001b[0m\u001b[1;36m0\u001b[0m\u001b[1;33m]\u001b[0m \u001b[1;33m<\u001b[0m \u001b[1;36m2\u001b[0m\u001b[1;33m:\u001b[0m\u001b[1;33m\u001b[0m\u001b[1;33m\u001b[0m\u001b[0m\n\u001b[1;32m---> 46\u001b[1;33m         \u001b[1;32mraise\u001b[0m \u001b[0mValueError\u001b[0m\u001b[1;33m(\u001b[0m\u001b[1;34m\"`x` must contain at least 2 elements.\"\u001b[0m\u001b[1;33m)\u001b[0m\u001b[1;33m\u001b[0m\u001b[1;33m\u001b[0m\u001b[0m\n\u001b[0m\u001b[0;32m     47\u001b[0m     \u001b[1;32mif\u001b[0m \u001b[0mx\u001b[0m\u001b[1;33m.\u001b[0m\u001b[0mshape\u001b[0m\u001b[1;33m[\u001b[0m\u001b[1;36m0\u001b[0m\u001b[1;33m]\u001b[0m \u001b[1;33m!=\u001b[0m \u001b[0my\u001b[0m\u001b[1;33m.\u001b[0m\u001b[0mshape\u001b[0m\u001b[1;33m[\u001b[0m\u001b[0maxis\u001b[0m\u001b[1;33m]\u001b[0m\u001b[1;33m:\u001b[0m\u001b[1;33m\u001b[0m\u001b[1;33m\u001b[0m\u001b[0m\n\u001b[0;32m     48\u001b[0m         raise ValueError(\"The length of `y` along `axis`={0} doesn't \"\n",
      "\u001b[1;31mValueError\u001b[0m: `x` must contain at least 2 elements."
     ]
    }
   ],
   "source": [
    "minimize(get_value_fn, [0.5], bounds=[(0, s)], args=(s, 14, V))"
   ]
  },
  {
   "cell_type": "code",
   "execution_count": 291,
   "id": "924bcc33",
   "metadata": {},
   "outputs": [
    {
     "data": {
      "text/plain": [
       "237.54068754330822"
      ]
     },
     "execution_count": 291,
     "metadata": {},
     "output_type": "execute_result"
    }
   ],
   "source": [
    "np.sum(Vt), np.sum(Ut)"
   ]
  },
  {
   "cell_type": "code",
   "execution_count": 294,
   "id": "6503144a",
   "metadata": {},
   "outputs": [
    {
     "data": {
      "text/plain": [
       "array([24.15991853, 18.26230448, 13.87649006, 10.53256413,  7.97503544,\n",
       "        6.02036914,  4.62288534,  3.57275446,  2.80542724,  2.09066639,\n",
       "        1.64450685,  1.17581442,  0.89402493,  0.72386506,  0.72692773,\n",
       "        0.        ,  0.        ,  0.        ,  0.        ,  0.        ,\n",
       "        0.        ])"
      ]
     },
     "execution_count": 294,
     "metadata": {},
     "output_type": "execute_result"
    }
   ],
   "source": [
    "Ut"
   ]
  },
  {
   "cell_type": "markdown",
   "id": "a0ff4917",
   "metadata": {},
   "source": [
    "## Pong\n",
    "Write a python script that plays pong by tracking the ball.\n",
    "\n",
    " \n",
    "\n",
    "To do this you can find the y location of the center of the ball, and the y location of the center of your paddle.  At each step, if your paddle is above the ball click the down button, and if your paddle is below the ball click the up button.  If the ball isn't on the screen then play the NOOP action.  Play 500 games like this.  On average, how many points per game does this strategy score? Not counting the opponent's score.. Round to 1 decimal place.\n",
    "\n",
    " \n",
    "\n",
    "To be specific.  On each screen of pixels, run the preprocessing function.  Find the y locations of all ball pixels, and take the average of those y locations.  You only need to look for the ball between your paddle and the opponent's paddle.  You don't need to look even or behind either paddle.  Find the y locations of all your paddle pixels, and take the average of those y locations.  If there are no ball pixels, play the NOOP action.  If your average paddle y location is below the average ball y location, push up.  If your average paddle y location is above the average ball y location, push down. If your average paddle y location is the same as the average ball y location, push NOOP.\n",
    "\n",
    " \n",
    "\n",
    "The np.where function is a wonderful tool to help solve this problem.  It took about 15 minutes to play 500 games like this on my laptop."
   ]
  },
  {
   "cell_type": "code",
   "execution_count": 374,
   "id": "a48954a8",
   "metadata": {},
   "outputs": [
    {
     "name": "stderr",
     "output_type": "stream",
     "text": [
      "C:\\Users\\gupta\\anaconda3\\lib\\site-packages\\ale_py\\roms\\__init__.py:94: DeprecationWarning: Automatic importing of atari-py roms won't be supported in future releases of ale-py. Please migrate over to using `ale-import-roms` OR an ALE-supported ROM package. To make this warning disappear you can run `ale-import-roms --import-from-pkg atari_py.atari_roms`.For more information see: https://github.com/mgbellemare/Arcade-Learning-Environment#rom-management\n",
      "  _RESOLVED_ROMS = _resolve_roms()\n",
      "C:\\Users\\gupta\\anaconda3\\lib\\site-packages\\gym\\envs\\registration.py:505: UserWarning: \u001b[33mWARN: The environment Pong-v0 is out of date. You should consider upgrading to version `v5` with the environment ID `ALE/Pong-v5`.\u001b[0m\n",
      "  logger.warn(\n",
      "C:\\Users\\gupta\\anaconda3\\lib\\site-packages\\gym\\utils\\seeding.py:138: DeprecationWarning: \u001b[33mWARN: Function `hash_seed(seed, max_bytes)` is marked as deprecated and will be removed in the future. \u001b[0m\n",
      "  deprecation(\n",
      "C:\\Users\\gupta\\anaconda3\\lib\\site-packages\\gym\\utils\\seeding.py:175: DeprecationWarning: \u001b[33mWARN: Function `_bigint_from_bytes(bytes)` is marked as deprecated and will be removed in the future. \u001b[0m\n",
      "  deprecation(\n"
     ]
    }
   ],
   "source": [
    "import gym\n",
    "import time\n",
    "env = gym.make(\"Pong-v0\") # create the pong 'environment'"
   ]
  },
  {
   "cell_type": "code",
   "execution_count": 376,
   "id": "0c312bba",
   "metadata": {},
   "outputs": [],
   "source": [
    "def prepro(I):\n",
    "    # preprocess each frame for learning\n",
    "    # save some memory and computation\n",
    "    # pre-process the image from a 210x160x3 uint8 frame into an (80x80) float array \n",
    "    I = I[35:195,:,:].copy() # crop the top of the image...score image doesn't matter for how to play\n",
    "    I = I[::2,::2,0].copy()\n",
    "    I[I == 144] = 0 # erase background (background type 1)\n",
    "    I[I == 109] = 0 # erase background (background type 2)\n",
    "    I[I != 0] = 1 # everything else (paddles, ball) just set to 1\n",
    "    return np.array(I.copy())"
   ]
  },
  {
   "cell_type": "code",
   "execution_count": null,
   "id": "554dd173",
   "metadata": {},
   "outputs": [],
   "source": [
    "def get_action(pixels):\n",
    "    paddle1_start = 10\n",
    "    paddle2_start = 70\n",
    "    \n",
    "    ball_area = pixels[:, paddle1_start:paddle2_start]\n",
    "    \n",
    "    \n",
    "    \n",
    "    "
   ]
  },
  {
   "cell_type": "code",
   "execution_count": 391,
   "id": "ed26b890",
   "metadata": {},
   "outputs": [],
   "source": [
    "render = False\n",
    "slow = True\n",
    "score = 0\n",
    "frame_history = []\n",
    "action_history = []\n",
    "reward_history = []\n",
    "done = False # done gets returned from the environment to tell you if this game (first to 21 points) is over\n",
    "raw_pixels = env.reset()\n",
    "raw_pixels, reward, done, info = env.step(1)\n",
    "pixels = prepro(raw_pixels)\n",
    "\n",
    "while not done:\n",
    "    action = np.random.choice([0,2,3]) # we'll eventually pick the action from a NN\n",
    "    if render == True: # do you actually want to visualize the playing?\n",
    "        env.render()\n",
    "        if slow == True: # do you want to slow it down so you can see the game better?\n",
    "            time.sleep(0.005)\n",
    "    raw_pixels, reward, done, info = env.step(action)\n",
    "    frame_history.append(pixels)\n",
    "    action_history.append(action) # these are the action and reward when you saw the last frame\n",
    "    reward_history.append(reward)\n",
    "    pixels = prepro(raw_pixels) # now this is the new frame\n",
    "    if reward >= 0:\n",
    "        score += reward\n",
    "\n",
    "# after a game, with all that we saved we'll do a little optimization on the NN"
   ]
  },
  {
   "cell_type": "code",
   "execution_count": 392,
   "id": "c4a3a82b",
   "metadata": {},
   "outputs": [
    {
     "data": {
      "text/plain": [
       "0.0"
      ]
     },
     "execution_count": 392,
     "metadata": {},
     "output_type": "execute_result"
    }
   ],
   "source": [
    "score"
   ]
  },
  {
   "cell_type": "code",
   "execution_count": 404,
   "id": "2fef3e8a",
   "metadata": {},
   "outputs": [
    {
     "name": "stderr",
     "output_type": "stream",
     "text": [
      "C:\\Users\\gupta\\anaconda3\\lib\\site-packages\\ipykernel\\ipkernel.py:287: DeprecationWarning: `should_run_async` will not call `transform_cell` automatically in the future. Please pass the result to `transformed_cell` argument and any exception that happen during thetransform in `preprocessing_exc_tuple` in IPython 7.17 and above.\n",
      "  and should_run_async(code)\n"
     ]
    },
    {
     "data": {
      "text/plain": [
       "<matplotlib.image.AxesImage at 0x1ad1bbe0700>"
      ]
     },
     "execution_count": 404,
     "metadata": {},
     "output_type": "execute_result"
    },
    {
     "data": {
      "image/png": "[encoded data removed]",
      "text/plain": [
       "<Figure size 432x288 with 1 Axes>"
      ]
     },
     "metadata": {
      "needs_background": "light"
     },
     "output_type": "display_data"
    }
   ],
   "source": [
    "plt.imshow(pixels[:,:10])"
   ]
  },
  {
   "cell_type": "code",
   "execution_count": 413,
   "id": "66b17acc",
   "metadata": {},
   "outputs": [
    {
     "data": {
      "text/plain": [
       "array([[1, 8],\n",
       "       [1, 9],\n",
       "       [2, 8],\n",
       "       [2, 9],\n",
       "       [3, 8],\n",
       "       [3, 9],\n",
       "       [4, 8],\n",
       "       [4, 9],\n",
       "       [5, 8],\n",
       "       [5, 9],\n",
       "       [6, 8],\n",
       "       [6, 9],\n",
       "       [7, 8],\n",
       "       [7, 9],\n",
       "       [8, 8],\n",
       "       [8, 9]], dtype=int64)"
      ]
     },
     "execution_count": 413,
     "metadata": {},
     "output_type": "execute_result"
    }
   ],
   "source": [
    "np.argwhere(pixels[:,:10] == np.max(pixels[:,:10]))"
   ]
  },
  {
   "cell_type": "code",
   "execution_count": null,
   "id": "39e8e766",
   "metadata": {},
   "outputs": [],
   "source": []
  }
 ],
 "metadata": {
  "kernelspec": {
   "display_name": "Python 3",
   "language": "python",
   "name": "python3"
  },
  "language_info": {
   "codemirror_mode": {
    "name": "ipython",
    "version": 3
   },
   "file_extension": ".py",
   "mimetype": "text/x-python",
   "name": "python",
   "nbconvert_exporter": "python",
   "pygments_lexer": "ipython3",
   "version": "3.8.8"
  }
 },
 "nbformat": 4,
 "nbformat_minor": 5
}
