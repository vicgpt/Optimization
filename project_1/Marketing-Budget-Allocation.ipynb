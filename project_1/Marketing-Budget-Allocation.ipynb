{
 "cells": [
  {
   "cell_type": "markdown",
   "id": "9f2f5bf9",
   "metadata": {},
   "source": [
    "# Marketing Budget Allocation\n",
    "\n",
    "Goal - Use linear programming to build a simple marketing budget allocation strategy."
   ]
  },
  {
   "cell_type": "code",
   "execution_count": 1,
   "id": "60c3721a",
   "metadata": {},
   "outputs": [],
   "source": [
    "import numpy as np\n",
    "import pandas as pd\n",
    "import gurobipy as gp\n",
    "import matplotlib.pyplot as plt"
   ]
  },
  {
   "cell_type": "markdown",
   "id": "cb9256f0",
   "metadata": {},
   "source": [
    "**Creating general function for optimizing (Max or Min) based on constraint equations**"
   ]
  },
  {
   "cell_type": "code",
   "execution_count": 2,
   "id": "a6d623ad",
   "metadata": {},
   "outputs": [],
   "source": [
    "def create_model(A, sense, b, obj, opt=gp.GRB.MAXIMIZE):\n",
    "    # creating model\n",
    "    model = gp.Model()\n",
    "\n",
    "    # creating variable an setting the constraints\n",
    "    modx = model.addMVar(A.shape[1])\n",
    "    mod_con = model.addMConstrs(A, modx, sense, b)\n",
    "\n",
    "    # setting the objective function\n",
    "    model.setMObjective(None, obj, 0, sense=opt)\n",
    "\n",
    "    # restricting gurobi logs\n",
    "    model.Params.OutputFlag = 0\n",
    "\n",
    "    # optimizing the function\n",
    "    model.optimize()\n",
    "    \n",
    "    return model"
   ]
  },
  {
   "cell_type": "markdown",
   "id": "599bf4fb",
   "metadata": {},
   "source": [
    "## ROI optimization using first estimates"
   ]
  },
  {
   "cell_type": "markdown",
   "id": "3d376151",
   "metadata": {},
   "source": [
    "Assume that your company is deciding how to spend a marketing budget of $10M.  You work in the marketing department as a data scientist and the chief marketing officer has asked you write a report recommending how to spread this budget among several marketing mediums.  Your department has employed an outside consulting firm to estimate the return on investment (ROI) of each marketing medium under consideration.  The results are in the table below, and also in a CSV attached to this assignment:"
   ]
  },
  {
   "cell_type": "code",
   "execution_count": 3,
   "id": "2f6cc6ba",
   "metadata": {},
   "outputs": [
    {
     "data": {
      "text/html": [
       "<div>\n",
       "<style scoped>\n",
       "    .dataframe tbody tr th:only-of-type {\n",
       "        vertical-align: middle;\n",
       "    }\n",
       "\n",
       "    .dataframe tbody tr th {\n",
       "        vertical-align: top;\n",
       "    }\n",
       "\n",
       "    .dataframe thead th {\n",
       "        text-align: right;\n",
       "    }\n",
       "</style>\n",
       "<table border=\"1\" class=\"dataframe\">\n",
       "  <thead>\n",
       "    <tr style=\"text-align: right;\">\n",
       "      <th></th>\n",
       "      <th>Platform</th>\n",
       "      <th>Print</th>\n",
       "      <th>TV</th>\n",
       "      <th>SEO</th>\n",
       "      <th>AdWords</th>\n",
       "      <th>Facebook</th>\n",
       "      <th>LinkedIn</th>\n",
       "      <th>Instagram</th>\n",
       "      <th>Snapchat</th>\n",
       "      <th>Twitter</th>\n",
       "      <th>Email</th>\n",
       "    </tr>\n",
       "  </thead>\n",
       "  <tbody>\n",
       "    <tr>\n",
       "      <th>0</th>\n",
       "      <td>ROI</td>\n",
       "      <td>0.031</td>\n",
       "      <td>0.049</td>\n",
       "      <td>0.024</td>\n",
       "      <td>0.039</td>\n",
       "      <td>0.016</td>\n",
       "      <td>0.024</td>\n",
       "      <td>0.046</td>\n",
       "      <td>0.026</td>\n",
       "      <td>0.033</td>\n",
       "      <td>0.044</td>\n",
       "    </tr>\n",
       "    <tr>\n",
       "      <th>1</th>\n",
       "      <td>Second Firms ROI Estimate</td>\n",
       "      <td>0.049</td>\n",
       "      <td>0.023</td>\n",
       "      <td>0.024</td>\n",
       "      <td>0.039</td>\n",
       "      <td>0.044</td>\n",
       "      <td>0.046</td>\n",
       "      <td>0.026</td>\n",
       "      <td>0.019</td>\n",
       "      <td>0.037</td>\n",
       "      <td>0.026</td>\n",
       "    </tr>\n",
       "  </tbody>\n",
       "</table>\n",
       "</div>"
      ],
      "text/plain": [
       "                    Platform  Print     TV    SEO  AdWords  Facebook  \\\n",
       "0                        ROI  0.031  0.049  0.024    0.039     0.016   \n",
       "1  Second Firms ROI Estimate  0.049  0.023  0.024    0.039     0.044   \n",
       "\n",
       "   LinkedIn  Instagram  Snapchat  Twitter  Email  \n",
       "0     0.024      0.046     0.026    0.033  0.044  \n",
       "1     0.046      0.026     0.019    0.037  0.026  "
      ]
     },
     "execution_count": 3,
     "metadata": {},
     "output_type": "execute_result"
    }
   ],
   "source": [
    "# reading the ROI data from two different firms\n",
    "roi_df = pd.read_csv('ROI_data.csv')\n",
    "\n",
    "# creating numpy array for model usage\n",
    "roi = roi_df[roi_df['Platform'] == 'ROI'].values[0, 1:]\n",
    "second_roi = roi_df[roi_df['Platform'] != 'ROI'].values[0, 1:]\n",
    "\n",
    "# variable for total budget\n",
    "total_budget = 10000000\n",
    "\n",
    "roi_df"
   ]
  },
  {
   "cell_type": "markdown",
   "id": "6277af73",
   "metadata": {},
   "source": [
    "On top of these ROIs, your boss has decided to constrain your budget as follows:\n",
    "1.\tThe amount invested in print and TV should be no more than the amount spent on Facebook and Email. Surprisingly, email seems to be a great channel for reaching real people.\n",
    "2.\tThe total amount used in social media (Facebook, LinkedIn, Instagram, Snapchat, and Twitter) should be at least twice of SEO and AdWords.\n",
    "3.\tFor each platform, the amount invested should be no more than $3M.\n"
   ]
  },
  {
   "cell_type": "markdown",
   "id": "bc11d82c",
   "metadata": {},
   "source": [
    "Assuming variables $x_0$ to $x_{9}$ to be the fraction of total budget for different platforms - from Print to Email in the above csv"
   ]
  },
  {
   "cell_type": "code",
   "execution_count": 4,
   "id": "ae97b1df",
   "metadata": {},
   "outputs": [
    {
     "data": {
      "text/plain": [
       "(array([[ 1.,  1.,  0.,  0., -1.,  0.,  0.,  0.,  0., -1.],\n",
       "        [ 0.,  0., -2., -2.,  1.,  1.,  1.,  1.,  1.,  0.],\n",
       "        [ 1.,  0.,  0.,  0.,  0.,  0.,  0.,  0.,  0.,  0.],\n",
       "        [ 0.,  1.,  0.,  0.,  0.,  0.,  0.,  0.,  0.,  0.],\n",
       "        [ 0.,  0.,  1.,  0.,  0.,  0.,  0.,  0.,  0.,  0.],\n",
       "        [ 0.,  0.,  0.,  1.,  0.,  0.,  0.,  0.,  0.,  0.],\n",
       "        [ 0.,  0.,  0.,  0.,  1.,  0.,  0.,  0.,  0.,  0.],\n",
       "        [ 0.,  0.,  0.,  0.,  0.,  1.,  0.,  0.,  0.,  0.],\n",
       "        [ 0.,  0.,  0.,  0.,  0.,  0.,  1.,  0.,  0.,  0.],\n",
       "        [ 0.,  0.,  0.,  0.,  0.,  0.,  0.,  1.,  0.,  0.],\n",
       "        [ 0.,  0.,  0.,  0.,  0.,  0.,  0.,  0.,  1.,  0.],\n",
       "        [ 0.,  0.,  0.,  0.,  0.,  0.,  0.,  0.,  0.,  1.],\n",
       "        [ 1.,  1.,  1.,  1.,  1.,  1.,  1.,  1.,  1.,  1.]]),\n",
       " ['<', '>', '<', '<', '<', '<', '<', '<', '<', '<', '<', '<', '<'],\n",
       " array([0. , 0. , 0.3, 0.3, 0.3, 0.3, 0.3, 0.3, 0.3, 0.3, 0.3, 0.3, 1. ]))"
      ]
     },
     "execution_count": 4,
     "metadata": {},
     "output_type": "execute_result"
    }
   ],
   "source": [
    "# initializing constraint matrix and constraint limit and directions\n",
    "A = np.zeros((13, 10))\n",
    "b = np.zeros(13)\n",
    "sense = ['']*13\n",
    "\n",
    "# Constraint 1:\n",
    "# total_budget*(x_0 + x_1) - total_budget*(x_4 + x_9) <= 0\n",
    "A[0, 0] = 1\n",
    "A[0, 1] = 1\n",
    "A[0, 4] = -1\n",
    "A[0, 9] = -1\n",
    "b[0] = 0\n",
    "sense[0] = '<'\n",
    "\n",
    "# Constraint 2:\n",
    "# total_budget*(x_4 + x_5 + x_6 + x_7 + x_8) - 2*total_budget*(x_2 + x_3) >= 0\n",
    "A[1, 4:9] = 1\n",
    "A[1, 2:4] = -2\n",
    "b[1] = 0\n",
    "sense[1] = '>'\n",
    "\n",
    "# Constraint 3 to 12:\n",
    "# x_i <= 0.3\n",
    "for i in range(10):\n",
    "    A[i+2, i] = 1\n",
    "    b[i+2] = 0.3\n",
    "    sense[i+2] = '<'\n",
    "\n",
    "# Constraint 13:\n",
    "# sum of all x_i <= 1\n",
    "A[12, :] = 1\n",
    "b[12] = 1\n",
    "sense[12] = '<'\n",
    "\n",
    "A, sense, b"
   ]
  },
  {
   "cell_type": "markdown",
   "id": "911797ac",
   "metadata": {},
   "source": [
    "Formulate the marketing budget allocation problem as a linear program.  Use gurobi to find the optimal budget allocation."
   ]
  },
  {
   "cell_type": "code",
   "execution_count": 5,
   "id": "d4bc53d3",
   "metadata": {},
   "outputs": [
    {
     "name": "stdout",
     "output_type": "stream",
     "text": [
      "Academic license - for non-commercial use only - expires 2022-08-21\n",
      "Using license file C:\\gurobi912\\gurobi.lic\n"
     ]
    },
    {
     "name": "stderr",
     "output_type": "stream",
     "text": [
      "<ipython-input-5-038dee29a028>:2: DeprecationWarning: Deprecated, use Model.addMConstr() instead\n",
      "  adv_model = create_model(A, sense, b, obj=roi, opt=gp.GRB.MAXIMIZE)\n"
     ]
    }
   ],
   "source": [
    "# creating advertising model for first estimates\n",
    "adv_model = create_model(A, sense, b, obj=roi, opt=gp.GRB.MAXIMIZE)"
   ]
  },
  {
   "cell_type": "code",
   "execution_count": 6,
   "id": "d29e0c35",
   "metadata": {},
   "outputs": [],
   "source": [
    "# creating an output df with different firms ROI for Platform allocation\n",
    "output_df = roi_df.T.reset_index()\n",
    "output_df.columns = output_df.iloc[0]\n",
    "output_df = output_df.iloc[1:]\n",
    "\n",
    "# creating new column in output df for budget allocation\n",
    "output_df['Allocation'] = adv_model.x"
   ]
  },
  {
   "cell_type": "markdown",
   "id": "075de5f3",
   "metadata": {},
   "source": [
    "**Platform wise allocation based on ROI maximisation for the marketing budget is below**"
   ]
  },
  {
   "cell_type": "code",
   "execution_count": 7,
   "id": "8e0a9b50",
   "metadata": {},
   "outputs": [
    {
     "data": {
      "text/html": [
       "<div>\n",
       "<style scoped>\n",
       "    .dataframe tbody tr th:only-of-type {\n",
       "        vertical-align: middle;\n",
       "    }\n",
       "\n",
       "    .dataframe tbody tr th {\n",
       "        vertical-align: top;\n",
       "    }\n",
       "\n",
       "    .dataframe thead th {\n",
       "        text-align: right;\n",
       "    }\n",
       "</style>\n",
       "<table border=\"1\" class=\"dataframe\">\n",
       "  <thead>\n",
       "    <tr style=\"text-align: right;\">\n",
       "      <th></th>\n",
       "      <th>Platform</th>\n",
       "      <th>Allocation</th>\n",
       "    </tr>\n",
       "  </thead>\n",
       "  <tbody>\n",
       "    <tr>\n",
       "      <th>1</th>\n",
       "      <td>Print</td>\n",
       "      <td>0.0</td>\n",
       "    </tr>\n",
       "    <tr>\n",
       "      <th>2</th>\n",
       "      <td>TV</td>\n",
       "      <td>0.3</td>\n",
       "    </tr>\n",
       "    <tr>\n",
       "      <th>3</th>\n",
       "      <td>SEO</td>\n",
       "      <td>0.0</td>\n",
       "    </tr>\n",
       "    <tr>\n",
       "      <th>4</th>\n",
       "      <td>AdWords</td>\n",
       "      <td>0.1</td>\n",
       "    </tr>\n",
       "    <tr>\n",
       "      <th>5</th>\n",
       "      <td>Facebook</td>\n",
       "      <td>0.0</td>\n",
       "    </tr>\n",
       "    <tr>\n",
       "      <th>6</th>\n",
       "      <td>LinkedIn</td>\n",
       "      <td>0.0</td>\n",
       "    </tr>\n",
       "    <tr>\n",
       "      <th>7</th>\n",
       "      <td>Instagram</td>\n",
       "      <td>0.3</td>\n",
       "    </tr>\n",
       "    <tr>\n",
       "      <th>8</th>\n",
       "      <td>Snapchat</td>\n",
       "      <td>0.0</td>\n",
       "    </tr>\n",
       "    <tr>\n",
       "      <th>9</th>\n",
       "      <td>Twitter</td>\n",
       "      <td>0.0</td>\n",
       "    </tr>\n",
       "    <tr>\n",
       "      <th>10</th>\n",
       "      <td>Email</td>\n",
       "      <td>0.3</td>\n",
       "    </tr>\n",
       "  </tbody>\n",
       "</table>\n",
       "</div>"
      ],
      "text/plain": [
       "0    Platform  Allocation\n",
       "1       Print         0.0\n",
       "2          TV         0.3\n",
       "3         SEO         0.0\n",
       "4     AdWords         0.1\n",
       "5    Facebook         0.0\n",
       "6    LinkedIn         0.0\n",
       "7   Instagram         0.3\n",
       "8    Snapchat         0.0\n",
       "9     Twitter         0.0\n",
       "10      Email         0.3"
      ]
     },
     "execution_count": 7,
     "metadata": {},
     "output_type": "execute_result"
    }
   ],
   "source": [
    "output_df[['Platform', 'Allocation']]"
   ]
  },
  {
   "cell_type": "code",
   "execution_count": 8,
   "id": "66785ad2",
   "metadata": {},
   "outputs": [
    {
     "name": "stdout",
     "output_type": "stream",
     "text": [
      "Total ROI from $10000000 marketing budget is 456000 dollars which is 4.56%\n"
     ]
    }
   ],
   "source": [
    "first_firms_roi_pct = round(adv_model.objVal*100,3)\n",
    "first_firms_roi = round(adv_model.objVal*total_budget)\n",
    "print('Total ROI from ${} marketing budget is {} dollars which is {}%'.format(\n",
    "    total_budget, first_firms_roi, first_firms_roi_pct))"
   ]
  },
  {
   "cell_type": "markdown",
   "id": "d445ccef",
   "metadata": {},
   "source": [
    "Your boss is happy to see the promising results presented by the marketing department. However, your boss is also very concerned because your boss recalls being somewhat disappointed after following such recommendations in the past. To be cautious about the decision, your team has decided to get another opinion about the ROI data and rerun the analysis.  The second consulting firm returns the estimates of the ROI data in the table below (also in the CSV file mentioned above).  You are asked to compare the two optimal allocations from these two ROI estimates.  "
   ]
  },
  {
   "cell_type": "markdown",
   "id": "98646ad9",
   "metadata": {},
   "source": [
    "## ROI optimization using second firm's estimates"
   ]
  },
  {
   "cell_type": "code",
   "execution_count": 9,
   "id": "1a8af89c",
   "metadata": {},
   "outputs": [
    {
     "name": "stderr",
     "output_type": "stream",
     "text": [
      "<ipython-input-9-3f7373cb1b73>:2: DeprecationWarning: Deprecated, use Model.addMConstr() instead\n",
      "  adv_model2 = create_model(A, sense, b, obj=second_roi, opt=gp.GRB.MAXIMIZE)\n"
     ]
    }
   ],
   "source": [
    "# creating advertising model for second estimates\n",
    "adv_model2 = create_model(A, sense, b, obj=second_roi, opt=gp.GRB.MAXIMIZE)"
   ]
  },
  {
   "cell_type": "code",
   "execution_count": 10,
   "id": "75546a3f",
   "metadata": {},
   "outputs": [],
   "source": [
    "# creating new column in output df for budget allocation\n",
    "output_df['Second Allocation'] = adv_model2.x"
   ]
  },
  {
   "cell_type": "markdown",
   "id": "a60bf1b8",
   "metadata": {},
   "source": [
    "**Platform wise allocation based on ROI maximisation using second ROI for the marketing budget is below**"
   ]
  },
  {
   "cell_type": "code",
   "execution_count": 11,
   "id": "0df01b13",
   "metadata": {},
   "outputs": [
    {
     "data": {
      "text/html": [
       "<div>\n",
       "<style scoped>\n",
       "    .dataframe tbody tr th:only-of-type {\n",
       "        vertical-align: middle;\n",
       "    }\n",
       "\n",
       "    .dataframe tbody tr th {\n",
       "        vertical-align: top;\n",
       "    }\n",
       "\n",
       "    .dataframe thead th {\n",
       "        text-align: right;\n",
       "    }\n",
       "</style>\n",
       "<table border=\"1\" class=\"dataframe\">\n",
       "  <thead>\n",
       "    <tr style=\"text-align: right;\">\n",
       "      <th></th>\n",
       "      <th>Platform</th>\n",
       "      <th>Second Allocation</th>\n",
       "    </tr>\n",
       "  </thead>\n",
       "  <tbody>\n",
       "    <tr>\n",
       "      <th>1</th>\n",
       "      <td>Print</td>\n",
       "      <td>0.3</td>\n",
       "    </tr>\n",
       "    <tr>\n",
       "      <th>2</th>\n",
       "      <td>TV</td>\n",
       "      <td>0.0</td>\n",
       "    </tr>\n",
       "    <tr>\n",
       "      <th>3</th>\n",
       "      <td>SEO</td>\n",
       "      <td>0.0</td>\n",
       "    </tr>\n",
       "    <tr>\n",
       "      <th>4</th>\n",
       "      <td>AdWords</td>\n",
       "      <td>0.1</td>\n",
       "    </tr>\n",
       "    <tr>\n",
       "      <th>5</th>\n",
       "      <td>Facebook</td>\n",
       "      <td>0.3</td>\n",
       "    </tr>\n",
       "    <tr>\n",
       "      <th>6</th>\n",
       "      <td>LinkedIn</td>\n",
       "      <td>0.3</td>\n",
       "    </tr>\n",
       "    <tr>\n",
       "      <th>7</th>\n",
       "      <td>Instagram</td>\n",
       "      <td>0.0</td>\n",
       "    </tr>\n",
       "    <tr>\n",
       "      <th>8</th>\n",
       "      <td>Snapchat</td>\n",
       "      <td>0.0</td>\n",
       "    </tr>\n",
       "    <tr>\n",
       "      <th>9</th>\n",
       "      <td>Twitter</td>\n",
       "      <td>0.0</td>\n",
       "    </tr>\n",
       "    <tr>\n",
       "      <th>10</th>\n",
       "      <td>Email</td>\n",
       "      <td>0.0</td>\n",
       "    </tr>\n",
       "  </tbody>\n",
       "</table>\n",
       "</div>"
      ],
      "text/plain": [
       "0    Platform  Second Allocation\n",
       "1       Print                0.3\n",
       "2          TV                0.0\n",
       "3         SEO                0.0\n",
       "4     AdWords                0.1\n",
       "5    Facebook                0.3\n",
       "6    LinkedIn                0.3\n",
       "7   Instagram                0.0\n",
       "8    Snapchat                0.0\n",
       "9     Twitter                0.0\n",
       "10      Email                0.0"
      ]
     },
     "execution_count": 11,
     "metadata": {},
     "output_type": "execute_result"
    }
   ],
   "source": [
    "output_df[['Platform', 'Second Allocation']]"
   ]
  },
  {
   "cell_type": "code",
   "execution_count": 12,
   "id": "41175529",
   "metadata": {},
   "outputs": [
    {
     "name": "stdout",
     "output_type": "stream",
     "text": [
      "Total ROI from $10000000 marketing budget is 456000 dollars which is 4.56%\n"
     ]
    }
   ],
   "source": [
    "second_firms_roi_pct = round(adv_model2.objVal*100,3)\n",
    "second_firms_roi = round(adv_model2.objVal*total_budget)\n",
    "print('Total ROI from ${} marketing budget is {} dollars which is {}%'.format(\n",
    "    total_budget, second_firms_roi, second_firms_roi_pct))"
   ]
  },
  {
   "cell_type": "markdown",
   "id": "650804c2",
   "metadata": {},
   "source": [
    "## Budget allocation and optimal ROI for First firm's vs Second firm's estimates\n",
    "\n",
    "Are the allocations the same? \n",
    "**No allocation are not the same**\n",
    "\n",
    "Assuming the first ROI data is correct, if you were to use the second allocation (the allocation that assumed the second ROI data was correct) how much lower would the objective be relative to the optimal objective (the one that uses the first ROI data and the first allocation)?  \n",
    "**Objective is lower by 204,000**\n",
    "\n",
    "Assuming the second ROI data is correct, if you used the first allocation how much lower would the objective be relative to the optimal objective?  \n",
    "**Objective is lower by 192,000**\n",
    "\n",
    "Do you think the third constraint above, based on your boss’ experience, is useful?"
   ]
  },
  {
   "cell_type": "code",
   "execution_count": 149,
   "id": "393f95c5",
   "metadata": {},
   "outputs": [
    {
     "name": "stdout",
     "output_type": "stream",
     "text": [
      "204000.0\n",
      "192000.0\n"
     ]
    }
   ],
   "source": [
    "diff1 = round(total_budget*(sum(roi*output_df['Allocation']) - sum(roi*output_df['Second Allocation'])), 2)\n",
    "print(diff1)\n",
    "\n",
    "diff2 = round(total_budget*(sum(second_roi*output_df['Second Allocation']) - sum(second_roi*output_df['Allocation'])), 2)\n",
    "print(diff2)"
   ]
  },
  {
   "cell_type": "code",
   "execution_count": 146,
   "id": "db51b0d4",
   "metadata": {},
   "outputs": [
    {
     "name": "stdout",
     "output_type": "stream",
     "text": [
      "Maximum ROI obtainied using optimized allocation for both firm\"s estimates are same\n"
     ]
    }
   ],
   "source": [
    "if sum(output_df['ROI'] * output_df['Allocation']) == sum(\n",
    "    output_df['Second Firms ROI Estimate'] * output_df['Second Allocation']):\n",
    "    print('Maximum ROI obtainied using optimized allocation for both firm\"s estimates are same')"
   ]
  },
  {
   "cell_type": "markdown",
   "id": "5d4a04d0",
   "metadata": {},
   "source": [
    "**Budge allocation comaprision using first vs second firm's estimate**"
   ]
  },
  {
   "cell_type": "code",
   "execution_count": 147,
   "id": "9002e302",
   "metadata": {},
   "outputs": [
    {
     "data": {
      "image/png": "[encoded data removed]",
      "text/plain": [
       "<Figure size 1120x480 with 1 Axes>"
      ]
     },
     "metadata": {
      "needs_background": "light"
     },
     "output_type": "display_data"
    }
   ],
   "source": [
    "# plotting different firm allocation\n",
    "plt.figure(figsize=(14, 6), dpi=80)\n",
    "allocation_df = output_df.loc[(output_df['Allocation'] > 0) | (output_df['Second Allocation'] > 0) ,\n",
    "                              ['Platform', 'Allocation', 'Second Allocation']]\n",
    "\n",
    "width = 0.3\n",
    "ind = ind = np.arange(len(allocation_df))\n",
    "plt.xticks(ind + width / 2, allocation_df['Platform'])\n",
    "plt.bar(ind, allocation_df['Allocation']*total_budget, label='First firm ROI', width=width)\n",
    "plt.bar(ind + width, allocation_df['Second Allocation']*total_budget, label='Second firm ROI', width=width)\n",
    "\n",
    "plt.xlabel('Platform')\n",
    "plt.ylabel('Allocation')\n",
    "plt.title('Allocation using different firms estimate (allocation zero for rest platforms)')\n",
    "plt.legend()\n",
    "plt.show()"
   ]
  },
  {
   "cell_type": "markdown",
   "id": "39437af0",
   "metadata": {},
   "source": [
    "**Overall ROI comparision**"
   ]
  },
  {
   "cell_type": "code",
   "execution_count": 148,
   "id": "9f89b0d6",
   "metadata": {},
   "outputs": [
    {
     "name": "stderr",
     "output_type": "stream",
     "text": [
      "No handles with labels found to put in legend.\n"
     ]
    },
    {
     "data": {
      "image/png": "[encoded data removed]",
      "text/plain": [
       "<Figure size 432x288 with 1 Axes>"
      ]
     },
     "metadata": {
      "needs_background": "light"
     },
     "output_type": "display_data"
    }
   ],
   "source": [
    "# plotting overall ROI\n",
    "plt.bar(['First Firm', 'Second Firm'], [first_firms_roi, second_firms_roi], width=width)\n",
    "plt.ylabel('Overall ROI')\n",
    "plt.title('ROI post allocation using different firms estimate')\n",
    "plt.legend()\n",
    "plt.show()"
   ]
  },
  {
   "cell_type": "markdown",
   "id": "ac0f3d00",
   "metadata": {},
   "source": [
    "**Removing the third constrained put by the boss and checking the allocation**"
   ]
  },
  {
   "cell_type": "code",
   "execution_count": 152,
   "id": "6386ac9a",
   "metadata": {},
   "outputs": [
    {
     "name": "stdout",
     "output_type": "stream",
     "text": [
      "Total ROI from $10000000 marketing budget is 465000 dollars which is 4.65%\n",
      "Total ROI from $10000000 marketing budget is 465000 dollars which is 4.65%\n"
     ]
    },
    {
     "name": "stderr",
     "output_type": "stream",
     "text": [
      "<ipython-input-152-13f17cccf20e>:6: DeprecationWarning: Deprecated, use Model.addMConstr() instead\n",
      "  adv_model_unconstrained1 = create_model(A, sense, b_unconstrained, obj=roi, opt=gp.GRB.MAXIMIZE)\n",
      "<ipython-input-152-13f17cccf20e>:7: DeprecationWarning: Deprecated, use Model.addMConstr() instead\n",
      "  adv_model_unconstrained2 = create_model(A, sense, b_unconstrained, obj=second_roi, opt=gp.GRB.MAXIMIZE)\n"
     ]
    }
   ],
   "source": [
    "# updating constraint limit vector\n",
    "b_unconstrained = b.copy()\n",
    "b_unconstrained[2:13] = 1\n",
    "\n",
    "# creating the two models\n",
    "adv_model_unconstrained1 = create_model(A, sense, b_unconstrained, obj=roi, opt=gp.GRB.MAXIMIZE)\n",
    "adv_model_unconstrained2 = create_model(A, sense, b_unconstrained, obj=second_roi, opt=gp.GRB.MAXIMIZE)\n",
    "\n",
    "# creating an output df with different firms ROI for Platform allocation\n",
    "output_unconstrained_df = roi_df.T.reset_index()\n",
    "output_unconstrained_df.columns = output_unconstrained_df.iloc[0]\n",
    "output_unconstrained_df = output_unconstrained_df.iloc[1:]\n",
    "\n",
    "# creating new column in output df for budget allocation\n",
    "output_unconstrained_df['Allocation'] = adv_model_unconstrained1.x\n",
    "output_unconstrained_df['Second Allocation'] = adv_model_unconstrained2.x\n",
    "\n",
    "# overall ROI after removing the third constraint\n",
    "first_firms_unconstrained_roi_pct = round(adv_model_unconstrained1.objVal*100,3)\n",
    "first_firms_unconstrained_roi = round(adv_model_unconstrained1.objVal*total_budget)\n",
    "print('Total ROI from ${} marketing budget is {} dollars which is {}%'.format(\n",
    "    total_budget, first_firms_unconstrained_roi, first_firms_unconstrained_roi_pct))\n",
    "\n",
    "second_firms_unconstrained_roi_pct = round(adv_model_unconstrained2.objVal*100,3)\n",
    "second_firms_unconstrained_roi = round(adv_model_unconstrained2.objVal*total_budget)\n",
    "print('Total ROI from ${} marketing budget is {} dollars which is {}%'.format(\n",
    "    total_budget, second_firms_unconstrained_roi, second_firms_unconstrained_roi_pct))"
   ]
  },
  {
   "cell_type": "code",
   "execution_count": 164,
   "id": "e0b59d42",
   "metadata": {},
   "outputs": [
    {
     "data": {
      "image/png": "[encoded data removed]",
      "text/plain": [
       "<Figure size 1120x480 with 1 Axes>"
      ]
     },
     "metadata": {
      "needs_background": "light"
     },
     "output_type": "display_data"
    }
   ],
   "source": [
    "# plotting different firm allocation\n",
    "plt.figure(figsize=(14, 6), dpi=80)\n",
    "allocation_unconstrained_df = output_unconstrained_df.loc[\n",
    "    (output_unconstrained_df['Allocation'] > 0) | (output_unconstrained_df['Second Allocation'] > 0) ,\n",
    "    ['Platform', 'Allocation', 'Second Allocation']]\n",
    "\n",
    "width = 0.3\n",
    "ind = ind = np.arange(len(allocation_df))\n",
    "plt.xticks(ind + width / 2, allocation_df['Platform'])\n",
    "plt.bar(ind, allocation_df['Allocation']*total_budget, label='First firm ROI', width=width)\n",
    "plt.bar(ind + width, allocation_df['Second Allocation']*total_budget, label='Second firm ROI', width=width)\n",
    "\n",
    "plt.xlabel('Platform')\n",
    "plt.ylabel('Allocation')\n",
    "plt.title('Allocation using different firms estimate (allocation zero for rest platforms)')\n",
    "plt.legend()\n",
    "plt.show()"
   ]
  },
  {
   "cell_type": "markdown",
   "id": "80d8c9b5",
   "metadata": {},
   "source": [
    "**Conclusion -** \n",
    "\n",
    "Optimal allocation obtained via linear optimization from *different firms estimates end up giving the same ROI*. Although the *budget allocation of differnet platforms varies*. The two allocation vary between online platform - one giving more value to *Facebook & Linkedin* while the other to *Instagram & Email*. They also vary between traditional platform *TV vs Print*. Though the allocation for both firms is same for *AdWords*\n",
    "\n",
    "Given the uncertainity in ROI estimates and the objective of maintaining presence over various platforms it makes sense to put the third constraints imposed by the boss. If that constraint is removed, almost all of the budget will be allocated to the platform which gives the highest ROI.\n",
    "If we remove that constraint, for first ROI we get TV & Email as 50-50%, and for second its Print & Facebook."
   ]
  },
  {
   "cell_type": "markdown",
   "id": "fb3c45f4",
   "metadata": {},
   "source": [
    "## Sensitivity analysis"
   ]
  },
  {
   "cell_type": "markdown",
   "id": "2c8810b1",
   "metadata": {},
   "source": [
    "To explore this further perform some analysis of how your optimal allocation would change based on changes in the ROI data.  Use the first ROI data as your starting point.  By how much could each advertising medium’s ROI increase or decrease and still result in the same optimal allocation you found in step (3)?"
   ]
  },
  {
   "cell_type": "markdown",
   "id": "15005699",
   "metadata": {},
   "source": [
    "**How to perform sensitivity analysis** - \n",
    "\n",
    "* ROI will be modified for each platform one by one without changing it for the other platforms\n",
    "* Optimal Allocation and Objective value will be recorded to identify till it stays the same"
   ]
  },
  {
   "cell_type": "code",
   "execution_count": 156,
   "id": "4d05970b",
   "metadata": {
    "scrolled": false
   },
   "outputs": [
    {
     "name": "stdout",
     "output_type": "stream",
     "text": [
      "Print 0.031\n"
     ]
    },
    {
     "name": "stderr",
     "output_type": "stream",
     "text": [
      "<ipython-input-156-493bf768fae3>:24: DeprecationWarning: Deprecated, use Model.addMConstr() instead\n",
      "  s_model = create_model(A, sense, b, obj=new_roi, opt=gp.GRB.MAXIMIZE)\n",
      "<ipython-input-156-493bf768fae3>:42: DeprecationWarning: Deprecated, use Model.addMConstr() instead\n",
      "  s_model = create_model(A, sense, b, obj=new_roi, opt=gp.GRB.MAXIMIZE)\n"
     ]
    },
    {
     "name": "stdout",
     "output_type": "stream",
     "text": [
      "TV 0.049\n",
      "SEO 0.024\n",
      "AdWords 0.039\n",
      "Facebook 0.016\n",
      "LinkedIn 0.024\n",
      "Instagram 0.046\n",
      "Snapchat 0.026\n",
      "Twitter 0.033\n",
      "Email 0.044\n"
     ]
    }
   ],
   "source": [
    "# getting first allocation vector for comparision\n",
    "allocation1 = output_df['Allocation'].values\n",
    "\n",
    "# creating senstivity df\n",
    "sensitivity1 = pd.DataFrame(data=None, columns=['Platform', 'ROI', 'Total ROI', 'Allocation'])\n",
    "\n",
    "# looping over for getting optimal allocation\n",
    "for i in range(1, roi_df.shape[1]):\n",
    "    \n",
    "    # platform name\n",
    "    platform = roi_df.columns[i]\n",
    "    platform_roi = roi_df[platform].values[0]\n",
    "    \n",
    "    # looping over for range in ROI\n",
    "    # print(platform, platform_roi)\n",
    "    s_allocation = allocation1.copy()\n",
    "    new_roi = roi.copy()\n",
    "    \n",
    "    # for decreasing the platform ROI\n",
    "    while (np.array_equal(allocation1, s_allocation) & (new_roi[i-1] > 0)):\n",
    "        \n",
    "        new_roi[i-1] -= 0.001\n",
    "        \n",
    "        s_model = create_model(A, sense, b, obj=new_roi, opt=gp.GRB.MAXIMIZE)\n",
    "        s_allocation = s_model.x\n",
    "        \n",
    "        if np.array_equal(allocation1, s_allocation):\n",
    "            row_len = len(sensitivity1)\n",
    "            sensitivity1.loc[row_len, 'Platform'] = platform\n",
    "            sensitivity1.loc[row_len, 'ROI'] = new_roi[i-1]\n",
    "            sensitivity1.loc[row_len, 'Total ROI'] = s_model.objVal\n",
    "            sensitivity1.loc[row_len, 'Allocation'] = str(s_allocation)\n",
    "    \n",
    "    # for increasing the platform ROI\n",
    "    s_allocation = allocation1.copy()\n",
    "    new_roi = roi.copy()\n",
    "    \n",
    "    while (np.array_equal(allocation1, s_allocation) & (new_roi[i-1] < 0.1)):\n",
    "        \n",
    "        new_roi[i-1] += 0.001\n",
    "        \n",
    "        s_model = create_model(A, sense, b, obj=new_roi, opt=gp.GRB.MAXIMIZE)\n",
    "        s_allocation = s_model.x\n",
    "        \n",
    "        if np.array_equal(allocation1, s_allocation):\n",
    "            row_len = len(sensitivity1)\n",
    "            sensitivity1.loc[row_len, 'Platform'] = platform\n",
    "            sensitivity1.loc[row_len, 'ROI'] = new_roi[i-1]\n",
    "            sensitivity1.loc[row_len, 'Total ROI'] = s_model.objVal\n",
    "            sensitivity1.loc[row_len, 'Allocation'] = str(s_allocation)\n"
   ]
  },
  {
   "cell_type": "code",
   "execution_count": 162,
   "id": "d8e941e1",
   "metadata": {},
   "outputs": [],
   "source": [
    "# assertion check, there could be only one optimal allocation which is the optimal allocation\n",
    "assert sensitivity1[['Allocation']].drop_duplicates().shape[0] == 1\n",
    "del sensitivity1['Allocation']"
   ]
  },
  {
   "cell_type": "code",
   "execution_count": 277,
   "id": "02740f32",
   "metadata": {},
   "outputs": [
    {
     "data": {
      "text/plain": [
       "Text(0.5, 1.0, 'Range of ROI without affecting allocations')"
      ]
     },
     "execution_count": 277,
     "metadata": {},
     "output_type": "execute_result"
    },
    {
     "data": {
      "image/png": "[encoded data removed]",
      "text/plain": [
       "<Figure size 1120x480 with 1 Axes>"
      ]
     },
     "metadata": {
      "needs_background": "light"
     },
     "output_type": "display_data"
    }
   ],
   "source": [
    "# creating dict for visualisation\n",
    "sensitivity_agg = sensitivity1.groupby(['Platform']).agg({'ROI':['min', 'max']})\n",
    "sensitivity_agg['Actual ROI'] = roi_df.T.loc[sensitivity_agg.index][0]\n",
    "sensitivity_dict = {}\n",
    "for pf in sensitivity_agg.index:\n",
    "    sensitivity_dict[pf] = tuple(sensitivity_agg.loc[pf, [('ROI', 'min'), ('ROI', 'max')]].values)\n",
    "    \n",
    "\n",
    "# plot width\n",
    "plt.figure(figsize=(14, 6), dpi=80)\n",
    "\n",
    "for i, values in enumerate(sensitivity_dict.values()):\n",
    "    ymin, ymax = values\n",
    "    plt.vlines(i, ymin=ymin, ymax=ymax, lw=10, color='#fe7c31')\n",
    "\n",
    "# plotting the first ROI line\n",
    "plt.plot(np.arange(len(sensitivity_agg)), sensitivity_agg['Actual ROI'])\n",
    "\n",
    "# to illustrate that ranges are properly drawn\n",
    "plt.grid(True)\n",
    "\n",
    "# add ticks \n",
    "plt.xticks(np.arange(0, len(sensitivity_agg)), list(sensitivity_dict.keys()))\n",
    "\n",
    "# adding title and axis names\n",
    "plt.xlabel('Platform')\n",
    "plt.ylabel('ROI')\n",
    "plt.title('Range of ROI without affecting allocations')"
   ]
  },
  {
   "cell_type": "markdown",
   "id": "e718fc44",
   "metadata": {},
   "source": [
    "## Monthly incremental allocation & Stable budget"
   ]
  },
  {
   "cell_type": "markdown",
   "id": "4bae5c40",
   "metadata": {},
   "source": [
    "Your boss has gained permission to reinvest half of the return. For example, if the marketing obtains a 4% return in January, the budget of February will be $10M + $10M × 4% × 50% = $10.2M.  The monthly ROI for next year is given in Project1.Rdata. The three constraints given by your boss are still in place for each month.  What is the optimal allocation for each month?"
   ]
  },
  {
   "cell_type": "code",
   "execution_count": 279,
   "id": "62438790",
   "metadata": {},
   "outputs": [
    {
     "data": {
      "text/html": [
       "<div>\n",
       "<style scoped>\n",
       "    .dataframe tbody tr th:only-of-type {\n",
       "        vertical-align: middle;\n",
       "    }\n",
       "\n",
       "    .dataframe tbody tr th {\n",
       "        vertical-align: top;\n",
       "    }\n",
       "\n",
       "    .dataframe thead th {\n",
       "        text-align: right;\n",
       "    }\n",
       "</style>\n",
       "<table border=\"1\" class=\"dataframe\">\n",
       "  <thead>\n",
       "    <tr style=\"text-align: right;\">\n",
       "      <th></th>\n",
       "      <th>Platform</th>\n",
       "      <th>ROI</th>\n",
       "      <th>Second Firms ROI Estimate</th>\n",
       "      <th>Allocation</th>\n",
       "      <th>Second Allocation</th>\n",
       "    </tr>\n",
       "  </thead>\n",
       "  <tbody>\n",
       "    <tr>\n",
       "      <th>1</th>\n",
       "      <td>Print</td>\n",
       "      <td>0.031</td>\n",
       "      <td>0.049</td>\n",
       "      <td>0.0</td>\n",
       "      <td>0.3</td>\n",
       "    </tr>\n",
       "    <tr>\n",
       "      <th>2</th>\n",
       "      <td>TV</td>\n",
       "      <td>0.049</td>\n",
       "      <td>0.023</td>\n",
       "      <td>0.3</td>\n",
       "      <td>0.0</td>\n",
       "    </tr>\n",
       "    <tr>\n",
       "      <th>3</th>\n",
       "      <td>SEO</td>\n",
       "      <td>0.024</td>\n",
       "      <td>0.024</td>\n",
       "      <td>0.0</td>\n",
       "      <td>0.0</td>\n",
       "    </tr>\n",
       "    <tr>\n",
       "      <th>4</th>\n",
       "      <td>AdWords</td>\n",
       "      <td>0.039</td>\n",
       "      <td>0.039</td>\n",
       "      <td>0.1</td>\n",
       "      <td>0.1</td>\n",
       "    </tr>\n",
       "    <tr>\n",
       "      <th>5</th>\n",
       "      <td>Facebook</td>\n",
       "      <td>0.016</td>\n",
       "      <td>0.044</td>\n",
       "      <td>0.0</td>\n",
       "      <td>0.3</td>\n",
       "    </tr>\n",
       "    <tr>\n",
       "      <th>6</th>\n",
       "      <td>LinkedIn</td>\n",
       "      <td>0.024</td>\n",
       "      <td>0.046</td>\n",
       "      <td>0.0</td>\n",
       "      <td>0.3</td>\n",
       "    </tr>\n",
       "    <tr>\n",
       "      <th>7</th>\n",
       "      <td>Instagram</td>\n",
       "      <td>0.046</td>\n",
       "      <td>0.026</td>\n",
       "      <td>0.3</td>\n",
       "      <td>0.0</td>\n",
       "    </tr>\n",
       "    <tr>\n",
       "      <th>8</th>\n",
       "      <td>Snapchat</td>\n",
       "      <td>0.026</td>\n",
       "      <td>0.019</td>\n",
       "      <td>0.0</td>\n",
       "      <td>0.0</td>\n",
       "    </tr>\n",
       "    <tr>\n",
       "      <th>9</th>\n",
       "      <td>Twitter</td>\n",
       "      <td>0.033</td>\n",
       "      <td>0.037</td>\n",
       "      <td>0.0</td>\n",
       "      <td>0.0</td>\n",
       "    </tr>\n",
       "    <tr>\n",
       "      <th>10</th>\n",
       "      <td>Email</td>\n",
       "      <td>0.044</td>\n",
       "      <td>0.026</td>\n",
       "      <td>0.3</td>\n",
       "      <td>0.0</td>\n",
       "    </tr>\n",
       "  </tbody>\n",
       "</table>\n",
       "</div>"
      ],
      "text/plain": [
       "0    Platform    ROI Second Firms ROI Estimate  Allocation  Second Allocation\n",
       "1       Print  0.031                     0.049         0.0                0.3\n",
       "2          TV  0.049                     0.023         0.3                0.0\n",
       "3         SEO  0.024                     0.024         0.0                0.0\n",
       "4     AdWords  0.039                     0.039         0.1                0.1\n",
       "5    Facebook  0.016                     0.044         0.0                0.3\n",
       "6    LinkedIn  0.024                     0.046         0.0                0.3\n",
       "7   Instagram  0.046                     0.026         0.3                0.0\n",
       "8    Snapchat  0.026                     0.019         0.0                0.0\n",
       "9     Twitter  0.033                     0.037         0.0                0.0\n",
       "10      Email  0.044                     0.026         0.3                0.0"
      ]
     },
     "execution_count": 279,
     "metadata": {},
     "output_type": "execute_result"
    }
   ],
   "source": [
    "output_df"
   ]
  },
  {
   "cell_type": "code",
   "execution_count": null,
   "id": "f3269c6f",
   "metadata": {},
   "outputs": [],
   "source": []
  }
 ],
 "metadata": {
  "kernelspec": {
   "display_name": "Python 3",
   "language": "python",
   "name": "python3"
  },
  "language_info": {
   "codemirror_mode": {
    "name": "ipython",
    "version": 3
   },
   "file_extension": ".py",
   "mimetype": "text/x-python",
   "name": "python",
   "nbconvert_exporter": "python",
   "pygments_lexer": "ipython3",
   "version": "3.8.8"
  }
 },
 "nbformat": 4,
 "nbformat_minor": 5
}
