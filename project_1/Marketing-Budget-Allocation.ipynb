{
 "cells": [
  {
   "cell_type": "markdown",
   "id": "9f2f5bf9",
   "metadata": {},
   "source": [
    "# Marketing Budget Allocation\n",
    "\n",
    "Goal - Use linear programming to build a simple marketing budget allocation strategy."
   ]
  },
  {
   "cell_type": "code",
   "execution_count": 1,
   "id": "60c3721a",
   "metadata": {},
   "outputs": [],
   "source": [
    "import numpy as np\n",
    "import pandas as pd\n",
    "import gurobipy as gp"
   ]
  },
  {
   "cell_type": "markdown",
   "id": "cb9256f0",
   "metadata": {},
   "source": [
    "**Creating general function for optimizing (Max or Min) based on constraint equations**"
   ]
  },
  {
   "cell_type": "code",
   "execution_count": 15,
   "id": "a6d623ad",
   "metadata": {},
   "outputs": [],
   "source": [
    "def create_model(A, sense, b, obj, opt=gp.GRB.MAXIMIZE):\n",
    "    # creating model\n",
    "    model = gp.Model()\n",
    "\n",
    "    # creating variable an setting the constraints\n",
    "    modx = model.addMVar(A.shape[1])\n",
    "    mod_con = model.addMConstrs(A, modx, sense, b)\n",
    "\n",
    "    # setting the objective function\n",
    "    model.setMObjective(None, obj, 0, sense=opt)\n",
    "\n",
    "    # restricting gurobi logs\n",
    "    model.Params.OutputFlag = 0\n",
    "\n",
    "    # optimizing the function\n",
    "    model.optimize()\n",
    "    \n",
    "    return model"
   ]
  },
  {
   "cell_type": "markdown",
   "id": "c1bf730b",
   "metadata": {},
   "source": [
    "## ROI optimization using first estimates"
   ]
  },
  {
   "cell_type": "markdown",
   "id": "3d376151",
   "metadata": {},
   "source": [
    "Assume that your company is deciding how to spend a marketing budget of $10M.  You work in the marketing department as a data scientist and the chief marketing officer has asked you write a report recommending how to spread this budget among several marketing mediums.  Your department has employed an outside consulting firm to estimate the return on investment (ROI) of each marketing medium under consideration.  The results are in the table below, and also in a CSV attached to this assignment:"
   ]
  },
  {
   "cell_type": "code",
   "execution_count": 20,
   "id": "2f6cc6ba",
   "metadata": {},
   "outputs": [
    {
     "data": {
      "text/html": [
       "<div>\n",
       "<style scoped>\n",
       "    .dataframe tbody tr th:only-of-type {\n",
       "        vertical-align: middle;\n",
       "    }\n",
       "\n",
       "    .dataframe tbody tr th {\n",
       "        vertical-align: top;\n",
       "    }\n",
       "\n",
       "    .dataframe thead th {\n",
       "        text-align: right;\n",
       "    }\n",
       "</style>\n",
       "<table border=\"1\" class=\"dataframe\">\n",
       "  <thead>\n",
       "    <tr style=\"text-align: right;\">\n",
       "      <th></th>\n",
       "      <th>Platform</th>\n",
       "      <th>Print</th>\n",
       "      <th>TV</th>\n",
       "      <th>SEO</th>\n",
       "      <th>AdWords</th>\n",
       "      <th>Facebook</th>\n",
       "      <th>LinkedIn</th>\n",
       "      <th>Instagram</th>\n",
       "      <th>Snapchat</th>\n",
       "      <th>Twitter</th>\n",
       "      <th>Email</th>\n",
       "    </tr>\n",
       "  </thead>\n",
       "  <tbody>\n",
       "    <tr>\n",
       "      <th>0</th>\n",
       "      <td>ROI</td>\n",
       "      <td>0.031</td>\n",
       "      <td>0.049</td>\n",
       "      <td>0.024</td>\n",
       "      <td>0.039</td>\n",
       "      <td>0.016</td>\n",
       "      <td>0.024</td>\n",
       "      <td>0.046</td>\n",
       "      <td>0.026</td>\n",
       "      <td>0.033</td>\n",
       "      <td>0.044</td>\n",
       "    </tr>\n",
       "    <tr>\n",
       "      <th>1</th>\n",
       "      <td>Second Firms ROI Estimate</td>\n",
       "      <td>0.049</td>\n",
       "      <td>0.023</td>\n",
       "      <td>0.024</td>\n",
       "      <td>0.039</td>\n",
       "      <td>0.044</td>\n",
       "      <td>0.046</td>\n",
       "      <td>0.026</td>\n",
       "      <td>0.019</td>\n",
       "      <td>0.037</td>\n",
       "      <td>0.026</td>\n",
       "    </tr>\n",
       "  </tbody>\n",
       "</table>\n",
       "</div>"
      ],
      "text/plain": [
       "                    Platform  Print     TV    SEO  AdWords  Facebook  \\\n",
       "0                        ROI  0.031  0.049  0.024    0.039     0.016   \n",
       "1  Second Firms ROI Estimate  0.049  0.023  0.024    0.039     0.044   \n",
       "\n",
       "   LinkedIn  Instagram  Snapchat  Twitter  Email  \n",
       "0     0.024      0.046     0.026    0.033  0.044  \n",
       "1     0.046      0.026     0.019    0.037  0.026  "
      ]
     },
     "execution_count": 20,
     "metadata": {},
     "output_type": "execute_result"
    }
   ],
   "source": [
    "# reading the ROI data from two different firms\n",
    "roi_df = pd.read_csv('ROI_data.csv')\n",
    "\n",
    "# creating numpy array for model usage\n",
    "roi = roi_df[roi_df['Platform'] == 'ROI'].values[0, 1:]\n",
    "second_roi = roi_df[roi_df['Platform'] != 'ROI'].values[0, 1:]\n",
    "\n",
    "# variable for total budget\n",
    "total_budget = 10000000\n",
    "\n",
    "roi_df"
   ]
  },
  {
   "cell_type": "markdown",
   "id": "6277af73",
   "metadata": {},
   "source": [
    "On top of these ROIs, your boss has decided to constrain your budget as follows:\n",
    "1.\tThe amount invested in print and TV should be no more than the amount spent on Facebook and Email. Surprisingly, email seems to be a great channel for reaching real people.\n",
    "2.\tThe total amount used in social media (Facebook, LinkedIn, Instagram, Snapchat, and Twitter) should be at least twice of SEO and AdWords.\n",
    "3.\tFor each platform, the amount invested should be no more than $3M.\n"
   ]
  },
  {
   "cell_type": "markdown",
   "id": "bc11d82c",
   "metadata": {},
   "source": [
    "Assuming variables $x_0$ to $x_{9}$ to be the fraction of total budget for different platforms - from Print to Email in the above csv"
   ]
  },
  {
   "cell_type": "code",
   "execution_count": 24,
   "id": "ae97b1df",
   "metadata": {},
   "outputs": [
    {
     "data": {
      "text/plain": [
       "(array([[ 1.,  1.,  0.,  0., -1.,  0.,  0.,  0.,  0., -1.],\n",
       "        [ 0.,  0., -2., -2.,  1.,  1.,  1.,  1.,  1.,  0.],\n",
       "        [ 1.,  0.,  0.,  0.,  0.,  0.,  0.,  0.,  0.,  0.],\n",
       "        [ 0.,  1.,  0.,  0.,  0.,  0.,  0.,  0.,  0.,  0.],\n",
       "        [ 0.,  0.,  1.,  0.,  0.,  0.,  0.,  0.,  0.,  0.],\n",
       "        [ 0.,  0.,  0.,  1.,  0.,  0.,  0.,  0.,  0.,  0.],\n",
       "        [ 0.,  0.,  0.,  0.,  1.,  0.,  0.,  0.,  0.,  0.],\n",
       "        [ 0.,  0.,  0.,  0.,  0.,  1.,  0.,  0.,  0.,  0.],\n",
       "        [ 0.,  0.,  0.,  0.,  0.,  0.,  1.,  0.,  0.,  0.],\n",
       "        [ 0.,  0.,  0.,  0.,  0.,  0.,  0.,  1.,  0.,  0.],\n",
       "        [ 0.,  0.,  0.,  0.,  0.,  0.,  0.,  0.,  1.,  0.],\n",
       "        [ 0.,  0.,  0.,  0.,  0.,  0.,  0.,  0.,  0.,  1.],\n",
       "        [ 1.,  1.,  1.,  1.,  1.,  1.,  1.,  1.,  1.,  1.]]),\n",
       " ['<', '>', '<', '<', '<', '<', '<', '<', '<', '<', '<', '<', '<'],\n",
       " array([0. , 0. , 0.3, 0.3, 0.3, 0.3, 0.3, 0.3, 0.3, 0.3, 0.3, 0.3, 1. ]))"
      ]
     },
     "execution_count": 24,
     "metadata": {},
     "output_type": "execute_result"
    }
   ],
   "source": [
    "# initializing constraint matrix and constraint limit and directions\n",
    "A = np.zeros((13, 10))\n",
    "b = np.zeros(13)\n",
    "sense = ['']*13\n",
    "\n",
    "# Constraint 1:\n",
    "# total_budget*(x_0 + x_1) - total_budget*(x_4 + x_9) <= 0\n",
    "A[0, 0] = 1\n",
    "A[0, 1] = 1\n",
    "A[0, 4] = -1\n",
    "A[0, 9] = -1\n",
    "b[0] = 0\n",
    "sense[0] = '<'\n",
    "\n",
    "# Constraint 2:\n",
    "# total_budget*(x_4 + x_5 + x_6 + x_7 + x_8) - 2*total_budget*(x_2 + x_3) >= 0\n",
    "A[1, 4:9] = 1\n",
    "A[1, 2:4] = -2\n",
    "b[1] = 0\n",
    "sense[1] = '>'\n",
    "\n",
    "# Constraint 3 to 12:\n",
    "# x_i <= 0.3\n",
    "for i in range(10):\n",
    "    A[i+2, i] = 1\n",
    "    b[i+2] = 0.3\n",
    "    sense[i+2] = '<'\n",
    "\n",
    "# Constraint 13:\n",
    "# sum of all x_i <= 1\n",
    "A[12, :] = 1\n",
    "b[12] = 1\n",
    "sense[12] = '<'\n",
    "\n",
    "A, sense, b"
   ]
  },
  {
   "cell_type": "markdown",
   "id": "911797ac",
   "metadata": {},
   "source": [
    "Formulate the marketing budget allocation problem as a linear program.  Use gurobi to find the optimal budget allocation."
   ]
  },
  {
   "cell_type": "code",
   "execution_count": 74,
   "id": "d4bc53d3",
   "metadata": {},
   "outputs": [
    {
     "name": "stderr",
     "output_type": "stream",
     "text": [
      "<ipython-input-74-038dee29a028>:2: DeprecationWarning: Deprecated, use Model.addMConstr() instead\n",
      "  adv_model = create_model(A, sense, b, obj=roi, opt=gp.GRB.MAXIMIZE)\n"
     ]
    }
   ],
   "source": [
    "# creating advertising model for first estimates\n",
    "adv_model = create_model(A, sense, b, obj=roi, opt=gp.GRB.MAXIMIZE)"
   ]
  },
  {
   "cell_type": "code",
   "execution_count": 75,
   "id": "d29e0c35",
   "metadata": {},
   "outputs": [],
   "source": [
    "# creating an output df with different firms ROI for Platform allocation\n",
    "output_df = roi_df.T.reset_index()\n",
    "output_df.columns = output_df.iloc[0]\n",
    "output_df = output_df.iloc[1:]\n",
    "\n",
    "# creating new column in output df for budget allocation\n",
    "output_df['Allocation'] = adv_model.x"
   ]
  },
  {
   "cell_type": "markdown",
   "id": "075de5f3",
   "metadata": {},
   "source": [
    "**Platform wise allocation based on ROI maximisation for the marketing budget is below**"
   ]
  },
  {
   "cell_type": "code",
   "execution_count": 76,
   "id": "8e0a9b50",
   "metadata": {},
   "outputs": [
    {
     "data": {
      "text/html": [
       "<div>\n",
       "<style scoped>\n",
       "    .dataframe tbody tr th:only-of-type {\n",
       "        vertical-align: middle;\n",
       "    }\n",
       "\n",
       "    .dataframe tbody tr th {\n",
       "        vertical-align: top;\n",
       "    }\n",
       "\n",
       "    .dataframe thead th {\n",
       "        text-align: right;\n",
       "    }\n",
       "</style>\n",
       "<table border=\"1\" class=\"dataframe\">\n",
       "  <thead>\n",
       "    <tr style=\"text-align: right;\">\n",
       "      <th></th>\n",
       "      <th>Platform</th>\n",
       "      <th>Allocation</th>\n",
       "    </tr>\n",
       "  </thead>\n",
       "  <tbody>\n",
       "    <tr>\n",
       "      <th>1</th>\n",
       "      <td>Print</td>\n",
       "      <td>0.0</td>\n",
       "    </tr>\n",
       "    <tr>\n",
       "      <th>2</th>\n",
       "      <td>TV</td>\n",
       "      <td>0.3</td>\n",
       "    </tr>\n",
       "    <tr>\n",
       "      <th>3</th>\n",
       "      <td>SEO</td>\n",
       "      <td>0.0</td>\n",
       "    </tr>\n",
       "    <tr>\n",
       "      <th>4</th>\n",
       "      <td>AdWords</td>\n",
       "      <td>0.1</td>\n",
       "    </tr>\n",
       "    <tr>\n",
       "      <th>5</th>\n",
       "      <td>Facebook</td>\n",
       "      <td>0.0</td>\n",
       "    </tr>\n",
       "    <tr>\n",
       "      <th>6</th>\n",
       "      <td>LinkedIn</td>\n",
       "      <td>0.0</td>\n",
       "    </tr>\n",
       "    <tr>\n",
       "      <th>7</th>\n",
       "      <td>Instagram</td>\n",
       "      <td>0.3</td>\n",
       "    </tr>\n",
       "    <tr>\n",
       "      <th>8</th>\n",
       "      <td>Snapchat</td>\n",
       "      <td>0.0</td>\n",
       "    </tr>\n",
       "    <tr>\n",
       "      <th>9</th>\n",
       "      <td>Twitter</td>\n",
       "      <td>0.0</td>\n",
       "    </tr>\n",
       "    <tr>\n",
       "      <th>10</th>\n",
       "      <td>Email</td>\n",
       "      <td>0.3</td>\n",
       "    </tr>\n",
       "  </tbody>\n",
       "</table>\n",
       "</div>"
      ],
      "text/plain": [
       "0    Platform  Allocation\n",
       "1       Print         0.0\n",
       "2          TV         0.3\n",
       "3         SEO         0.0\n",
       "4     AdWords         0.1\n",
       "5    Facebook         0.0\n",
       "6    LinkedIn         0.0\n",
       "7   Instagram         0.3\n",
       "8    Snapchat         0.0\n",
       "9     Twitter         0.0\n",
       "10      Email         0.3"
      ]
     },
     "execution_count": 76,
     "metadata": {},
     "output_type": "execute_result"
    }
   ],
   "source": [
    "output_df[['Platform', 'Allocation']]"
   ]
  },
  {
   "cell_type": "code",
   "execution_count": 77,
   "id": "36921608",
   "metadata": {},
   "outputs": [
    {
     "name": "stdout",
     "output_type": "stream",
     "text": [
      "Total ROI from $10000000 marketing budget is 456000 dollars which is 4.56%\n"
     ]
    }
   ],
   "source": [
    "print('Total ROI from ${} marketing budget is {} dollars which is {}%'.format(\n",
    "    total_budget, round(adv_model.objVal*total_budget), round(adv_model.objVal*100,3)))"
   ]
  },
  {
   "cell_type": "markdown",
   "id": "d445ccef",
   "metadata": {},
   "source": [
    "Your boss is happy to see the promising results presented by the marketing department. However, your boss is also very concerned because your boss recalls being somewhat disappointed after following such recommendations in the past. To be cautious about the decision, your team has decided to get another opinion about the ROI data and rerun the analysis.  The second consulting firm returns the estimates of the ROI data in the table below (also in the CSV file mentioned above).  You are asked to compare the two optimal allocations from these two ROI estimates.  "
   ]
  },
  {
   "cell_type": "markdown",
   "id": "8cd5d16c",
   "metadata": {},
   "source": [
    "## ROI optimization using second firm's estimates"
   ]
  },
  {
   "cell_type": "code",
   "execution_count": 78,
   "id": "69776874",
   "metadata": {},
   "outputs": [
    {
     "name": "stderr",
     "output_type": "stream",
     "text": [
      "<ipython-input-78-3f7373cb1b73>:2: DeprecationWarning: Deprecated, use Model.addMConstr() instead\n",
      "  adv_model2 = create_model(A, sense, b, obj=second_roi, opt=gp.GRB.MAXIMIZE)\n"
     ]
    }
   ],
   "source": [
    "# creating advertising model for second estimates\n",
    "adv_model2 = create_model(A, sense, b, obj=second_roi, opt=gp.GRB.MAXIMIZE)"
   ]
  },
  {
   "cell_type": "code",
   "execution_count": 79,
   "id": "4a785131",
   "metadata": {},
   "outputs": [],
   "source": [
    "# creating new column in output df for budget allocation\n",
    "output_df['Second Allocation'] = adv_model2.x"
   ]
  },
  {
   "cell_type": "markdown",
   "id": "69548e17",
   "metadata": {},
   "source": [
    "**Platform wise allocation based on ROI maximisation using second ROI for the marketing budget is below**"
   ]
  },
  {
   "cell_type": "code",
   "execution_count": 80,
   "id": "1deb1b7f",
   "metadata": {},
   "outputs": [
    {
     "data": {
      "text/html": [
       "<div>\n",
       "<style scoped>\n",
       "    .dataframe tbody tr th:only-of-type {\n",
       "        vertical-align: middle;\n",
       "    }\n",
       "\n",
       "    .dataframe tbody tr th {\n",
       "        vertical-align: top;\n",
       "    }\n",
       "\n",
       "    .dataframe thead th {\n",
       "        text-align: right;\n",
       "    }\n",
       "</style>\n",
       "<table border=\"1\" class=\"dataframe\">\n",
       "  <thead>\n",
       "    <tr style=\"text-align: right;\">\n",
       "      <th></th>\n",
       "      <th>Platform</th>\n",
       "      <th>Second Allocation</th>\n",
       "    </tr>\n",
       "  </thead>\n",
       "  <tbody>\n",
       "    <tr>\n",
       "      <th>1</th>\n",
       "      <td>Print</td>\n",
       "      <td>0.3</td>\n",
       "    </tr>\n",
       "    <tr>\n",
       "      <th>2</th>\n",
       "      <td>TV</td>\n",
       "      <td>0.0</td>\n",
       "    </tr>\n",
       "    <tr>\n",
       "      <th>3</th>\n",
       "      <td>SEO</td>\n",
       "      <td>0.0</td>\n",
       "    </tr>\n",
       "    <tr>\n",
       "      <th>4</th>\n",
       "      <td>AdWords</td>\n",
       "      <td>0.1</td>\n",
       "    </tr>\n",
       "    <tr>\n",
       "      <th>5</th>\n",
       "      <td>Facebook</td>\n",
       "      <td>0.3</td>\n",
       "    </tr>\n",
       "    <tr>\n",
       "      <th>6</th>\n",
       "      <td>LinkedIn</td>\n",
       "      <td>0.3</td>\n",
       "    </tr>\n",
       "    <tr>\n",
       "      <th>7</th>\n",
       "      <td>Instagram</td>\n",
       "      <td>0.0</td>\n",
       "    </tr>\n",
       "    <tr>\n",
       "      <th>8</th>\n",
       "      <td>Snapchat</td>\n",
       "      <td>0.0</td>\n",
       "    </tr>\n",
       "    <tr>\n",
       "      <th>9</th>\n",
       "      <td>Twitter</td>\n",
       "      <td>0.0</td>\n",
       "    </tr>\n",
       "    <tr>\n",
       "      <th>10</th>\n",
       "      <td>Email</td>\n",
       "      <td>0.0</td>\n",
       "    </tr>\n",
       "  </tbody>\n",
       "</table>\n",
       "</div>"
      ],
      "text/plain": [
       "0    Platform  Second Allocation\n",
       "1       Print                0.3\n",
       "2          TV                0.0\n",
       "3         SEO                0.0\n",
       "4     AdWords                0.1\n",
       "5    Facebook                0.3\n",
       "6    LinkedIn                0.3\n",
       "7   Instagram                0.0\n",
       "8    Snapchat                0.0\n",
       "9     Twitter                0.0\n",
       "10      Email                0.0"
      ]
     },
     "execution_count": 80,
     "metadata": {},
     "output_type": "execute_result"
    }
   ],
   "source": [
    "output_df[['Platform', 'Second Allocation']]"
   ]
  },
  {
   "cell_type": "code",
   "execution_count": 81,
   "id": "7038e93c",
   "metadata": {},
   "outputs": [
    {
     "name": "stdout",
     "output_type": "stream",
     "text": [
      "For Second firm\"s ROI estimates: Total ROI from $10000000 marketing budget is 456000 dollars which is 4.56% \n"
     ]
    }
   ],
   "source": [
    "print('For Second firm\"s ROI estimates: Total ROI from ${} marketing budget is {} dollars which is {}% '.format(\n",
    "    total_budget, round(adv_model2.objVal*total_budget), round(adv_model2.objVal*100,3)))"
   ]
  },
  {
   "cell_type": "markdown",
   "id": "05e3384e",
   "metadata": {},
   "source": [
    "## Budget allocation and optimal ROI for First firm's vs Second firm's estimates"
   ]
  },
  {
   "cell_type": "code",
   "execution_count": 85,
   "id": "cbc01b2c",
   "metadata": {},
   "outputs": [
    {
     "name": "stdout",
     "output_type": "stream",
     "text": [
      "Maximum ROI obtainied using optimized allocation for both firm\"s estimates are same\n"
     ]
    }
   ],
   "source": [
    "if sum(output_df['ROI'] * output_df['Allocation']) == sum(\n",
    "    output_df['Second Firms ROI Estimate'] * output_df['Second Allocation']):\n",
    "    print('Maximum ROI obtainied using optimized allocation for both firm\"s estimates are same')"
   ]
  },
  {
   "cell_type": "markdown",
   "id": "0013cc72",
   "metadata": {},
   "source": [
    "Are the allocations the same?  Assuming the first ROI data is correct, if you were to use the second allocation (the allocation that assumed the second ROI data was correct) how much lower would the objective be relative to the optimal objective (the one that uses the first ROI data and the first allocation)?  Assuming the second ROI data is correct, if you used the first allocation how much lower would the objective be relative to the optimal objective?  Do you think the third constraint above, based on your boss’ experience, is useful?"
   ]
  },
  {
   "cell_type": "code",
   "execution_count": null,
   "id": "cf961a91",
   "metadata": {},
   "outputs": [],
   "source": []
  }
 ],
 "metadata": {
  "kernelspec": {
   "display_name": "Python 3",
   "language": "python",
   "name": "python3"
  },
  "language_info": {
   "codemirror_mode": {
    "name": "ipython",
    "version": 3
   },
   "file_extension": ".py",
   "mimetype": "text/x-python",
   "name": "python",
   "nbconvert_exporter": "python",
   "pygments_lexer": "ipython3",
   "version": "3.8.8"
  }
 },
 "nbformat": 4,
 "nbformat_minor": 5
}
