{
 "cells": [
  {
   "cell_type": "code",
   "execution_count": 7,
   "id": "d8b7f145",
   "metadata": {},
   "outputs": [],
   "source": [
    "import pandas as pd\n",
    "import numpy as np\n",
    "import gurobipy as gp\n",
    "from scipy.optimize import minimize"
   ]
  },
  {
   "cell_type": "markdown",
   "id": "64ed864d",
   "metadata": {},
   "source": [
    "### Gurobi"
   ]
  },
  {
   "cell_type": "code",
   "execution_count": 8,
   "id": "e64ab368",
   "metadata": {},
   "outputs": [],
   "source": [
    "def create_model(A, sense, b, obj, opt=gp.GRB.MAXIMIZE, ub=None, lb=None, vtype=None, time_limit=3600, Q=None): \n",
    "\n",
    "    # creating model\n",
    "    model = gp.Model()\n",
    "    \n",
    "    if vtype is None:\n",
    "        vtype = ['C'] * A.shape[1]\n",
    "\n",
    "    # creating variable an setting the constraints\n",
    "    if (ub is None) & (lb is None):\n",
    "        modx = model.addMVar(A.shape[1], vtype=vtype)\n",
    "    elif (ub is not None) & (lb is None):\n",
    "        modx = model.addMVar(A.shape[1], ub=ub, vtype=vtype)\n",
    "    elif (ub is None) & (lb is not None):\n",
    "        modx = model.addMVar(A.shape[1], lb=lb, vtype=vtype)\n",
    "    else:\n",
    "        modx = model.addMVar(A.shape[1], lb=lb, ub=ub, vtype=vtype)\n",
    "        \n",
    "    mod_con = model.addMConstrs(A, modx, sense, b)\n",
    "\n",
    "    # setting the objective function\n",
    "    model.setMObjective(Q, obj, 0, sense=opt)\n",
    " \n",
    "    # restricting gurobi logs\n",
    "    model.Params.OutputFlag = 0\n",
    "    model.setParam('TimeLimit', time_limit)\n",
    "\n",
    "    # optimizing the function\n",
    "    model.optimize()\n",
    "    \n",
    "    return model"
   ]
  },
  {
   "cell_type": "markdown",
   "id": "5e526bd5",
   "metadata": {},
   "source": [
    "### NLP"
   ]
  },
  {
   "cell_type": "code",
   "execution_count": 12,
   "id": "7ad57061",
   "metadata": {},
   "outputs": [],
   "source": [
    "# def obj_fun(x):\n",
    "#     return x @ Sigma @ x\n",
    "\n",
    "# # inequality constraints must be >= 0\n",
    "# def mean_con_fun(x):\n",
    "#     return (x @ maeanvec) - threshold_return\n",
    "\n",
    "# # equality constraints must be =0\n",
    "# def all_invest_con(x):\n",
    "#     return np.sum(x)-1\n",
    "\n",
    "# con1 = {'type':'eq', 'fun': all_invest_con}\n",
    "# con2 = {'type':'ineq', 'fun': mean_con_fun}\n",
    "# cons = [con1,con2]\n",
    "# bds = [(0,1),(0,1),(0,1)] # all weights must be between 0-1\n",
    "\n",
    "# # if you don't tell it what method to use it will default to the correct method based on constraints/bounds\n",
    "# w = np.zeros(3)\n",
    "# opt_port = minimize(obj_fun,w,constraints=cons,bounds=bds) \n"
   ]
  },
  {
   "cell_type": "markdown",
   "id": "643ffda6",
   "metadata": {},
   "source": [
    "### Sensitivity"
   ]
  },
  {
   "cell_type": "markdown",
   "id": "f441a4a5",
   "metadata": {},
   "source": [
    "Shadow price or dual variable - change value of **b** but still the constraint that are binding remains binding, for shadow prices we usually get three sets of output for each constraint - \n",
    "1. the change in optimal value by doing a unit change in b i.e shadow prices\n",
    "2. the upper bound where shadow price is valid\n",
    "3. the lower bound where shadow price is not valid"
   ]
  },
  {
   "cell_type": "code",
   "execution_count": 14,
   "id": "65039317",
   "metadata": {},
   "outputs": [],
   "source": [
    "# need constraint object as well to get the shadow price\n",
    "# [con.Pi for con in model_con]\n",
    "\n",
    "# [con.SARHSLow for con in model_con]\n",
    "\n",
    "# [con.SARHSUp for con in model_con]\n"
   ]
  },
  {
   "cell_type": "markdown",
   "id": "c45b11c8",
   "metadata": {},
   "source": [
    "Change in the objective function. Whats the range of change in coefficient of the objective function that can still ensure that the optimal point will not change. Can be considered as changing the slope of the objective hyperplane"
   ]
  },
  {
   "cell_type": "code",
   "execution_count": 16,
   "id": "e5f5b8d7",
   "metadata": {},
   "outputs": [],
   "source": [
    "# need model variable object to get the same\n",
    "# model_var.SAObjLow\n",
    "\n",
    "# model_var.SAObjUp"
   ]
  },
  {
   "cell_type": "markdown",
   "id": "6aa5c2cb",
   "metadata": {},
   "source": [
    "### TSP"
   ]
  },
  {
   "cell_type": "code",
   "execution_count": null,
   "id": "df4b969c",
   "metadata": {},
   "outputs": [],
   "source": []
  }
 ],
 "metadata": {
  "kernelspec": {
   "display_name": "Python 3",
   "language": "python",
   "name": "python3"
  },
  "language_info": {
   "codemirror_mode": {
    "name": "ipython",
    "version": 3
   },
   "file_extension": ".py",
   "mimetype": "text/x-python",
   "name": "python",
   "nbconvert_exporter": "python",
   "pygments_lexer": "ipython3",
   "version": "3.8.8"
  }
 },
 "nbformat": 4,
 "nbformat_minor": 5
}
