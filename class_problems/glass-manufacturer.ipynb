{
 "cells": [
  {
   "cell_type": "code",
   "execution_count": 1,
   "id": "e483e6fc",
   "metadata": {},
   "outputs": [],
   "source": [
    "import numpy as np\n",
    "import gurobipy as gp"
   ]
  },
  {
   "cell_type": "markdown",
   "id": "e3368923",
   "metadata": {},
   "source": [
    "## OJ example"
   ]
  },
  {
   "cell_type": "code",
   "execution_count": 9,
   "id": "3ab0961f",
   "metadata": {},
   "outputs": [],
   "source": [
    "obj = np.array([500, 450])\n",
    "\n",
    "A = np.zeros((3, 2))\n",
    "A[0,: ] = [6, 5]\n",
    "A[1, :] = [10, 20]\n",
    "A[2, :] = [1, 0]\n",
    "\n",
    "b = np.array([60, 150, 8])\n",
    "sense = np.array(['<', '<', '<']) # all constraints are less than or equal constraints\n",
    "\n"
   ]
  },
  {
   "cell_type": "code",
   "execution_count": 10,
   "id": "94db6912",
   "metadata": {},
   "outputs": [
    {
     "data": {
      "text/plain": [
       "array([[ 6.,  5.],\n",
       "       [10., 20.],\n",
       "       [ 1.,  0.]])"
      ]
     },
     "execution_count": 10,
     "metadata": {},
     "output_type": "execute_result"
    }
   ],
   "source": [
    "A"
   ]
  },
  {
   "cell_type": "code",
   "execution_count": 21,
   "id": "bc441a05",
   "metadata": {},
   "outputs": [],
   "source": [
    "oj_model = gp.Model()\n",
    "\n",
    "oj_modx = oj_model.addMVar(2)\n",
    "oj__mod_con = oj_model.addMConstrs(A, oj_modx, sense, b)\n",
    "\n",
    "oj_model.setMObjective(None, obj, 0, sense=gp.GRB.MAXIMIZE)\n",
    "\n",
    "oj_model.Params.OutputFlag = 0"
   ]
  },
  {
   "cell_type": "code",
   "execution_count": 22,
   "id": "b228ed72",
   "metadata": {},
   "outputs": [],
   "source": [
    "oj_model.optimize()"
   ]
  },
  {
   "cell_type": "code",
   "execution_count": 23,
   "id": "ade67eb9",
   "metadata": {},
   "outputs": [
    {
     "data": {
      "text/plain": [
       "[6.428571428571429, 4.2857142857142865]"
      ]
     },
     "execution_count": 23,
     "metadata": {},
     "output_type": "execute_result"
    }
   ],
   "source": [
    "oj_model.x"
   ]
  },
  {
   "cell_type": "code",
   "execution_count": 24,
   "id": "8670c66d",
   "metadata": {},
   "outputs": [
    {
     "data": {
      "text/plain": [
       "5142.857142857143"
      ]
     },
     "execution_count": 24,
     "metadata": {},
     "output_type": "execute_result"
    }
   ],
   "source": [
    "oj_model.objVal"
   ]
  },
  {
   "cell_type": "code",
   "execution_count": null,
   "id": "be65d678",
   "metadata": {},
   "outputs": [],
   "source": [
    " "
   ]
  },
  {
   "cell_type": "code",
   "execution_count": null,
   "id": "c24f5233",
   "metadata": {},
   "outputs": [],
   "source": []
  },
  {
   "cell_type": "code",
   "execution_count": null,
   "id": "b25b420b",
   "metadata": {},
   "outputs": [],
   "source": []
  },
  {
   "cell_type": "code",
   "execution_count": null,
   "id": "e38b3c6b",
   "metadata": {},
   "outputs": [],
   "source": []
  },
  {
   "cell_type": "code",
   "execution_count": null,
   "id": "49cd456f",
   "metadata": {},
   "outputs": [],
   "source": []
  },
  {
   "cell_type": "code",
   "execution_count": null,
   "id": "3a48cfd2",
   "metadata": {},
   "outputs": [],
   "source": []
  }
 ],
 "metadata": {
  "kernelspec": {
   "display_name": "Python 3",
   "language": "python",
   "name": "python3"
  },
  "language_info": {
   "codemirror_mode": {
    "name": "ipython",
    "version": 3
   },
   "file_extension": ".py",
   "mimetype": "text/x-python",
   "name": "python",
   "nbconvert_exporter": "python",
   "pygments_lexer": "ipython3",
   "version": "3.8.8"
  }
 },
 "nbformat": 4,
 "nbformat_minor": 5
}
