{
 "cells": [
  {
   "cell_type": "markdown",
   "id": "cdc94185",
   "metadata": {},
   "source": [
    "## Train wagon problem"
   ]
  },
  {
   "cell_type": "code",
   "execution_count": 1,
   "id": "6a54ac42",
   "metadata": {},
   "outputs": [],
   "source": [
    "import numpy as np\n",
    "import gurobipy as gp"
   ]
  },
  {
   "cell_type": "code",
   "execution_count": 18,
   "id": "b78cf6be",
   "metadata": {},
   "outputs": [],
   "source": [
    "# creating the objective array\n",
    "obj = np.array([2000, 2500, 5000, 3500]*3)\n",
    "\n",
    "# creating the constraint matrix\n",
    "A = np.zeros((10, 12))\n",
    "\n",
    "# creating the total tons constrains\n",
    "A[0, :4] = 1\n",
    "A[1, 4:8] = 1\n",
    "A[2, 8:] = 1\n",
    "\n",
    "# volume constraints for each wagon\n",
    "A[3, :4] = [400, 300, 200, 500]\n",
    "A[4, 4:8] = [400, 300, 200, 500]\n",
    "A[5, 8:] =  [400, 300, 200, 500]\n",
    "\n",
    "# total tons in each car\n",
    "A[6, 0] = 1\n",
    "A[6, 4] = 1\n",
    "A[6, 8] = 1\n",
    "\n",
    "A[7, 1] = 1\n",
    "A[7, 5] = 1\n",
    "A[7, 9] = 1\n",
    "\n",
    "A[8, 2] = 1\n",
    "A[8, 6] = 1\n",
    "A[8, 10] = 1\n",
    "\n",
    "A[9, 3] = 1\n",
    "A[9, 7] = 1\n",
    "A[9, 11] = 1"
   ]
  },
  {
   "cell_type": "code",
   "execution_count": 19,
   "id": "08e13d06",
   "metadata": {},
   "outputs": [],
   "source": [
    "# constraint limits\n",
    "b = np.array([10, 8, 12, 5000, 4000, 8000, 18, 10, 5, 20])\n",
    "\n",
    "# direction of constraints\n",
    "sense = np.array(['<'] * 10)"
   ]
  },
  {
   "cell_type": "code",
   "execution_count": 20,
   "id": "b73b3f46",
   "metadata": {},
   "outputs": [],
   "source": [
    "train_model = gp.Model()\n",
    "\n",
    "train_modx = train_model.addMVar(A.shape[1])\n",
    "train_mod_con = train_model.addMConstrs(A, train_modx, sense, b)\n",
    "\n",
    "train_model.setMObjective(None, obj, 0, sense=gp.GRB.MAXIMIZE)\n",
    "\n",
    "train_model.Params.OutputFlag = 0"
   ]
  },
  {
   "cell_type": "code",
   "execution_count": 21,
   "id": "bdec0aea",
   "metadata": {},
   "outputs": [],
   "source": [
    "train_model.optimize()"
   ]
  },
  {
   "cell_type": "code",
   "execution_count": 22,
   "id": "81a257c9",
   "metadata": {},
   "outputs": [
    {
     "data": {
      "text/plain": [
       "[0.0, 5.0, 5.0, 0.0, 0.0, 0.0, 0.0, 8.0, 0.0, 0.0, 0.0, 12.0]"
      ]
     },
     "execution_count": 22,
     "metadata": {},
     "output_type": "execute_result"
    }
   ],
   "source": [
    "train_model.x"
   ]
  },
  {
   "cell_type": "code",
   "execution_count": 23,
   "id": "2b7c3b9c",
   "metadata": {},
   "outputs": [
    {
     "data": {
      "text/plain": [
       "107500.0"
      ]
     },
     "execution_count": 23,
     "metadata": {},
     "output_type": "execute_result"
    }
   ],
   "source": [
    "train_model.objVal"
   ]
  },
  {
   "cell_type": "markdown",
   "id": "25588e01",
   "metadata": {},
   "source": [
    "## Oil problem"
   ]
  },
  {
   "cell_type": "code",
   "execution_count": 71,
   "id": "45c82d9f",
   "metadata": {},
   "outputs": [],
   "source": [
    "obj = np.array([20, 15])\n",
    "\n",
    "A = np.zeros((5, 2))\n",
    "\n",
    "A[0, :] = [0.3, 0.4]\n",
    "A[1, :] = [0.4, 0.2]\n",
    "A[2, :] = [0.2, 0.3]\n",
    "A[3, 0] = 1\n",
    "A[4, 1] = 1\n",
    "\n",
    "b = [2000, 1500, 5000, 9000, 6000]\n",
    "\n",
    "sense = ['<', '<', '<', '<', '<']"
   ]
  },
  {
   "cell_type": "code",
   "execution_count": 76,
   "id": "bc90c7d1",
   "metadata": {},
   "outputs": [],
   "source": [
    "oil_model = gp.Model()\n",
    "\n",
    "oil_modx = oil_model.addMVar(A.shape[1])\n",
    "oil_mod_con = oil_model.addMConstrs(A, oil_modx, sense, b)\n",
    "\n",
    "oil_model.setMObjective(None, obj, 0, sense=gp.GRB.MAXIMIZE)\n",
    "\n",
    "oil_model.Params.OutputFlag = 0"
   ]
  },
  {
   "cell_type": "code",
   "execution_count": 77,
   "id": "b33f5ff7",
   "metadata": {},
   "outputs": [],
   "source": [
    "oil_model.optimize()"
   ]
  },
  {
   "cell_type": "code",
   "execution_count": 78,
   "id": "f257b99a",
   "metadata": {},
   "outputs": [
    {
     "data": {
      "text/plain": [
       "92500.0"
      ]
     },
     "execution_count": 78,
     "metadata": {},
     "output_type": "execute_result"
    }
   ],
   "source": [
    "oil_model.objVal"
   ]
  },
  {
   "cell_type": "code",
   "execution_count": 79,
   "id": "288f38af",
   "metadata": {},
   "outputs": [
    {
     "data": {
      "text/plain": [
       "[2000.0, 3500.0]"
      ]
     },
     "execution_count": 79,
     "metadata": {},
     "output_type": "execute_result"
    }
   ],
   "source": [
    "oil_model.x"
   ]
  },
  {
   "cell_type": "code",
   "execution_count": null,
   "id": "0a7b71f2",
   "metadata": {},
   "outputs": [],
   "source": []
  }
 ],
 "metadata": {
  "kernelspec": {
   "display_name": "Python 3",
   "language": "python",
   "name": "python3"
  },
  "language_info": {
   "codemirror_mode": {
    "name": "ipython",
    "version": 3
   },
   "file_extension": ".py",
   "mimetype": "text/x-python",
   "name": "python",
   "nbconvert_exporter": "python",
   "pygments_lexer": "ipython3",
   "version": "3.8.8"
  }
 },
 "nbformat": 4,
 "nbformat_minor": 5
}
